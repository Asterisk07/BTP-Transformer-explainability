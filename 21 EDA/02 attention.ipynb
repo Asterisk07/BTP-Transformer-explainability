{
 "cells": [
  {
   "cell_type": "code",
   "execution_count": 9,
   "metadata": {},
   "outputs": [],
   "source": [
    "# Class mapping\n",
    "classes = ('plane', 'car', 'bird', 'cat', 'deer', 'dog', 'frog', 'horse', 'ship', 'truck')\n"
   ]
  },
  {
   "cell_type": "code",
   "execution_count": 14,
   "metadata": {},
   "outputs": [
    {
     "name": "stdout",
     "output_type": "stream",
     "text": [
      "Loaded 5 images, 5 labels, 5 outputs, 5 image IDs.\n"
     ]
    }
   ],
   "source": [
    "import os\n",
    "import numpy as np\n",
    "\n",
    "def load_data_from_directory(directory_path):\n",
    "    \"\"\"Load images, labels, outputs, and image IDs from the specified directory.\"\"\"\n",
    "\n",
    "    \n",
    "    try:\n",
    "        # Construct the full paths for each file\n",
    "        ids_path = os.path.join(directory_path, 'ids.npy')\n",
    "        images_path = os.path.join(directory_path, 'images.npy')\n",
    "        labels_path = os.path.join(directory_path, 'labels.npy')\n",
    "        outputs_path = os.path.join(directory_path, 'outputs.npy')\n",
    "\n",
    "        # Load the numpy arrays\n",
    "        img_ids = np.load(ids_path)\n",
    "        images = np.load(images_path)\n",
    "        labels = np.load(labels_path)\n",
    "        outputs = np.load(outputs_path)\n",
    "\n",
    "        return img_ids, images, labels, outputs\n",
    "\n",
    "    except Exception as e:\n",
    "        print(f\"An error occurred: {e}\")\n",
    "        return None, None, None, None\n",
    "\n",
    "# Example usage\n",
    "directory_path = '../saved_images/correct'  # Adjust as needed\n",
    "img_ids, images, labels, outputs = load_data_from_directory(directory_path)\n",
    "preds = np.argmax(outputs,-1)\n",
    "\n",
    "\n",
    "# Example to check the loaded data\n",
    "if images is not None:\n",
    "    print(f\"Loaded {images.shape[0]} images, {labels.shape[0]} labels, {outputs.shape[0]} outputs, {img_ids.shape[0]} image IDs.\")\n"
   ]
  },
  {
   "cell_type": "code",
   "execution_count": 15,
   "metadata": {},
   "outputs": [
    {
     "data": {
      "text/plain": [
       "(array([3, 8, 0, 6, 6], dtype=int64), array([3, 8, 0, 6, 6], dtype=int64))"
      ]
     },
     "execution_count": 15,
     "metadata": {},
     "output_type": "execute_result"
    }
   ],
   "source": [
    "preds, labels"
   ]
  },
  {
   "cell_type": "code",
   "execution_count": 31,
   "metadata": {},
   "outputs": [
    {
     "name": "stderr",
     "output_type": "stream",
     "text": [
      "Clipping input data to the valid range for imshow with RGB data ([0..1] for floats or [0..255] for integers).\n"
     ]
    },
    {
     "name": "stdout",
     "output_type": "stream",
     "text": [
      "Label: 6\n",
      "Label class: frog\n",
      "Output: 6\n"
     ]
    },
    {
     "data": {
      "image/png": "[encoded data removed]",
      "text/plain": [
       "<Figure size 640x480 with 1 Axes>"
      ]
     },
     "metadata": {},
     "output_type": "display_data"
    }
   ],
   "source": [
    "import matplotlib.pyplot as plt\n",
    "import numpy as np\n",
    "\n",
    "def plot_image(image_idx, title=None):\n",
    "    \"\"\"\n",
    "    Plot a single image using Matplotlib.\n",
    "\n",
    "    Args:\n",
    "        image (numpy.ndarray): The image to plot. It should be in the format (height, width, channels).\n",
    "        title (str, optional): The title for the plot. Defaults to None.\n",
    "\n",
    "    Returns:\n",
    "        None\n",
    "    \"\"\"\n",
    "\n",
    "    # Print label and output\n",
    "    print(f\"Label: {labels[image_idx]}\")\n",
    "    print(f\"Label class: {classes[labels[image_idx]]}\")\n",
    "    print(f\"Output: {preds[image_idx]}\")\n",
    "\n",
    "    image = images[image_idx]\n",
    "\n",
    "    if image.ndim == 3 and image.shape[2] == 3:\n",
    "        # Color image\n",
    "        plt.imshow(image)\n",
    "    elif image.ndim == 2 or (image.ndim == 3 and image.shape[2] == 1):\n",
    "        # Grayscale image\n",
    "        if image.ndim == 3:\n",
    "            image = image.squeeze()  # Remove the channel dimension\n",
    "        plt.imshow(image, cmap='gray')\n",
    "    else:\n",
    "        raise ValueError(\"Image format not recognized. Expected (H, W) or (H, W, 3) or (H, W, 1).\")\n",
    "\n",
    "    if title:\n",
    "        plt.title(title)\n",
    "    \n",
    "    plt.axis('off')  # Hide axis\n",
    "    plt.show()\n",
    "\n",
    "# Example usage\n",
    "# Assuming `images` is a numpy array of images with shape (k, H, W, C)\n",
    "# and you want to plot the first image:\n",
    "image_idx = 3\n",
    "plot_image(image_idx, title=\"Example Image\")\n"
   ]
  }
 ],
 "metadata": {
  "kernelspec": {
   "display_name": "Python 3",
   "language": "python",
   "name": "python3"
  },
  "language_info": {
   "codemirror_mode": {
    "name": "ipython",
    "version": 3
   },
   "file_extension": ".py",
   "mimetype": "text/x-python",
   "name": "python",
   "nbconvert_exporter": "python",
   "pygments_lexer": "ipython3",
   "version": "3.11.2"
  }
 },
 "nbformat": 4,
 "nbformat_minor": 2
}
