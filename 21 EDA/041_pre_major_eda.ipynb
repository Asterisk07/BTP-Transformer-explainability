{
 "cells": [
  {
   "cell_type": "markdown",
   "metadata": {},
   "source": [
    "# Classes list"
   ]
  },
  {
   "cell_type": "code",
   "execution_count": 87,
   "metadata": {},
   "outputs": [
    {
     "data": {
      "text/plain": [
       "100"
      ]
     },
     "execution_count": 87,
     "metadata": {},
     "output_type": "execute_result"
    }
   ],
   "source": [
    "_100_classes_raw = [\n",
    "    \"beaver, dolphin, otter, seal, whale\",\n",
    "    \"aquarium fish, flatfish, ray, shark, trout\",\n",
    "    \"orchids, poppies, roses, sunflowers, tulips\",\n",
    "    \"bottles, bowls, cans, cups, plates\",\n",
    "    \"apples, mushrooms, oranges, pears, sweet peppers\",\n",
    "    \"clock, computer keyboard, lamp, telephone, television\",\n",
    "    \"bed, chair, couch, table, wardrobe\",\n",
    "    \"bee, beetle, butterfly, caterpillar, cockroach\",\n",
    "    \"bear, leopard, lion, tiger, wolf\",\n",
    "    \"bridge, castle, house, road, skyscraper\",\n",
    "    \"cloud, forest, mountain, plain, sea\",\n",
    "    \"camel, cattle, chimpanzee, elephant, kangaroo\",\n",
    "    \"fox, porcupine, possum, raccoon, skunk\",\n",
    "    \"crab, lobster, snail, spider, worm\",\n",
    "    \"baby, boy, girl, man, woman\",\n",
    "    \"crocodile, dinosaur, lizard, snake, turtle\",\n",
    "    \"hamster, mouse, rabbit, shrew, squirrel\",\n",
    "    \"maple, oak, palm, pine, willow\",\n",
    "    \"bicycle, bus, motorcycle, pickup truck, train\",\n",
    "    \"lawn-mower, rocket, streetcar, tank, tractor\"\n",
    "]\n",
    "\n",
    "classes_100 = [item.strip() for group in _100_classes_raw for item in group.split(\",\")]\n",
    "len(classes_100)\n"
   ]
  },
  {
   "cell_type": "code",
   "execution_count": 88,
   "metadata": {},
   "outputs": [
    {
     "data": {
      "text/plain": [
       "100"
      ]
     },
     "execution_count": 88,
     "metadata": {},
     "output_type": "execute_result"
    }
   ],
   "source": [
    "_100_classes_raw = [\n",
    "    \"beaver, dolphin, otter, seal, whale\",\n",
    "    \"aquarium fish, flatfish, ray, shark, trout\",\n",
    "    \"orchids, poppies, roses, sunflowers, tulips\",\n",
    "    \"bottles, bowls, cans, cups, plates\",\n",
    "    \"apples, mushrooms, oranges, pears, sweet peppers\",\n",
    "    \"clock, computer keyboard, lamp, telephone, television\",\n",
    "    \"bed, chair, couch, table, wardrobe\",\n",
    "    \"bee, beetle, butterfly, caterpillar, cockroach\",\n",
    "    \"bear, leopard, lion, tiger, wolf\",\n",
    "    \"bridge, castle, house, road, skyscraper\",\n",
    "    \"cloud, forest, mountain, plain, sea\",\n",
    "    \"camel, cattle, chimpanzee, elephant, kangaroo\",\n",
    "    \"fox, porcupine, possum, raccoon, skunk\",\n",
    "    \"crab, lobster, snail, spider, worm\",\n",
    "    \"baby, boy, girl, man, woman\",\n",
    "    \"crocodile, dinosaur, lizard, snake, turtle\",\n",
    "    \"hamster, mouse, rabbit, shrew, squirrel\",\n",
    "    \"maple, oak, palm, pine, willow\",\n",
    "    \"bicycle, bus, motorcycle, pickup truck, train\",\n",
    "    \"lawn-mower, rocket, streetcar, tank, tractor\"\n",
    "]\n",
    "\n",
    "classes_100 = [item.strip() for group in _100_classes_raw for item in group.split(\",\")]\n",
    "len(classes_100)\n"
   ]
  },
  {
   "cell_type": "markdown",
   "metadata": {},
   "source": [
    "# Setup"
   ]
  },
  {
   "cell_type": "markdown",
   "metadata": {},
   "source": [
    "## Device"
   ]
  },
  {
   "cell_type": "code",
   "execution_count": 89,
   "metadata": {
    "execution": {
     "iopub.execute_input": "2024-09-25T13:46:37.776472Z",
     "iopub.status.busy": "2024-09-25T13:46:37.775704Z",
     "iopub.status.idle": "2024-09-25T13:46:41.269715Z",
     "shell.execute_reply": "2024-09-25T13:46:41.268731Z",
     "shell.execute_reply.started": "2024-09-25T13:46:37.776429Z"
    },
    "trusted": true
   },
   "outputs": [
    {
     "data": {
      "text/plain": [
       "'cpu'"
      ]
     },
     "execution_count": 89,
     "metadata": {},
     "output_type": "execute_result"
    }
   ],
   "source": [
    "import torch\n",
    "device = \"cuda\" if torch.cuda.is_available() else \"cpu\"\n",
    "device"
   ]
  },
  {
   "cell_type": "markdown",
   "metadata": {},
   "source": [
    "## Define the model"
   ]
  },
  {
   "cell_type": "code",
   "execution_count": 90,
   "metadata": {
    "execution": {
     "iopub.execute_input": "2024-09-25T13:46:41.271798Z",
     "iopub.status.busy": "2024-09-25T13:46:41.271364Z",
     "iopub.status.idle": "2024-09-25T13:46:41.857342Z",
     "shell.execute_reply": "2024-09-25T13:46:41.856296Z",
     "shell.execute_reply.started": "2024-09-25T13:46:41.271763Z"
    },
    "trusted": true
   },
   "outputs": [],
   "source": [
    "import torch.nn as nn\n",
    "import transformers\n",
    "\n",
    "class ViT(nn.Module):\n",
    "    def __init__(self, args):\n",
    "        super().__init__()\n",
    "        self.args = args\n",
    "        \n",
    "        # Set output_attentions=True to get attention scores\n",
    "        vit_args = transformers.ViTConfig(\n",
    "            hidden_size=256, \n",
    "            num_hidden_layers=6, \n",
    "            num_attention_heads=4,\n",
    "            # num_attention_heads=1,\n",
    "            intermediate_size=256 * 2, \n",
    "            hidden_act='gelu', \n",
    "            hidden_dropout_prob=0.1,\n",
    "            attention_probs_dropout_prob=0.0, \n",
    "            initializer_range=0.02,\n",
    "            layer_norm_eps=1e-12, \n",
    "            is_encoder_decoder=False, \n",
    "            image_size=args.img_size,\n",
    "            patch_size=args.patch_size, \n",
    "            num_channels=args.num_channels, \n",
    "            qkv_bias=True,\n",
    "            output_attentions=True,  # Enable attention outputs\n",
    "            attn_implementation=\"eager\"\n",
    "        )\n",
    "\n",
    "        self.encoder = transformers.ViTModel(vit_args)\n",
    "        self.clf = nn.Linear(256, args.num_classes)\n",
    "\n",
    "    def forward(self, x, attn_flag = False):\n",
    "        # Get the output from the encoder\n",
    "        outputs = self.encoder(x)\n",
    "        \n",
    "        # Attention scores are stored in outputs.attentions (a list of tensors)\n",
    "        if attn_flag:\n",
    "            attentions = outputs.attentions\n",
    "        \n",
    "        # Pooler output: Use the output of the CLS token\n",
    "        x = outputs.pooler_output\n",
    "        \n",
    "        # Pass through the classifier\n",
    "        x = self.clf(x)\n",
    "        \n",
    "        if attn_flag:\n",
    "            return x, attentions\n",
    "        else:\n",
    "            return x\n",
    "        \n",
    "        \n"
   ]
  },
  {
   "cell_type": "code",
   "execution_count": 91,
   "metadata": {},
   "outputs": [],
   "source": [
    "# import torch.nn as nn\n",
    "# import transformers\n",
    "\n",
    "class Pretrained_ViT(nn.Module):\n",
    "    def __init__(self):\n",
    "        super().__init__()\n",
    "        \n",
    "       \n",
    "        \n",
    "        # Load the pretrained ViT model from Hugging Face\n",
    "        self.encoder = transformers.ViTForImageClassification.from_pretrained(\n",
    "            'google/vit-base-patch16-224-in21k',   # Pretrained on ImageNet-21k       # CIFAR-100 has 100 classes,\n",
    "            output_attentions=True,  # Enable attention outputs\n",
    "            attn_implementation=\"eager\",\n",
    "            num_labels=100, \n",
    "        )\n",
    "\n",
    "    def forward(self, x, attn_flag = False):\n",
    "        # Get the output from the encoder\n",
    "        #         x, attentions = self.encoder(x)\n",
    "        # Get the output from the encoder\n",
    "        outputs = self.encoder(x)  # outputs is a dictionary-like object\n",
    "\n",
    "        # Extract logits and attentions\n",
    "        logits = outputs.logits   # Get the logits tensor (predictions)\n",
    "        attentions = outputs.attentions  # Get the attention maps if needed\n",
    "        \n",
    "        \n",
    "\n",
    "        \n",
    "        if attn_flag:\n",
    "            return logits, attentions\n",
    "        else:\n",
    "            return logits\n",
    "        \n",
    "        \n"
   ]
  },
  {
   "cell_type": "code",
   "execution_count": 92,
   "metadata": {},
   "outputs": [],
   "source": [
    "# requires torchvision >= 0.13, \"DEFAULT\" means best available\n",
    "\n",
    "def get_Pretrained_Vit():\n",
    "  # 2. Setup a ViT model instance with pretrained weights\n",
    "  pretrained_vit = Pretrained_ViT().to(device)\n",
    "\n",
    "    #   # 3. Freeze the base parameters\n",
    "  for parameter in pretrained_vit.parameters():\n",
    "      parameter.requires_grad = False\n",
    "\n",
    "  # 4. Change the classifier head (set the seeds to ensure same initialization with linear head)\n",
    "  # set_seeds()\n",
    "  torch.manual_seed(42)\n",
    "\n",
    "  import torch.nn as nn\n",
    "  pretrained_vit.encoder.classifier = nn.Linear(in_features=768, out_features=len(classes_100)).to(device)\n",
    "  # pretrained_vit # uncomment for model output\n",
    "  return pretrained_vit\n",
    "\n",
    "# pretrained_vit = get_vit()"
   ]
  },
  {
   "cell_type": "code",
   "execution_count": 93,
   "metadata": {
    "trusted": true
   },
   "outputs": [],
   "source": [
    "# !pip3 install transformers"
   ]
  },
  {
   "cell_type": "markdown",
   "metadata": {},
   "source": [
    "## Dataloaders"
   ]
  },
  {
   "cell_type": "code",
   "execution_count": 94,
   "metadata": {
    "execution": {
     "iopub.execute_input": "2024-09-25T13:46:41.858756Z",
     "iopub.status.busy": "2024-09-25T13:46:41.858471Z",
     "iopub.status.idle": "2024-09-25T13:46:43.118140Z",
     "shell.execute_reply": "2024-09-25T13:46:43.117286Z",
     "shell.execute_reply.started": "2024-09-25T13:46:41.858726Z"
    },
    "trusted": true
   },
   "outputs": [],
   "source": [
    "import torchvision.transforms as transforms\n",
    "import torchvision.datasets as datasets\n",
    "import os\n",
    "import torch\n",
    "\n",
    "\n",
    "def get_loaders(args):\n",
    "    train_augmentations = [transforms.Resize(args.img_size)]\n",
    "    if args.padding > 0:\n",
    "        train_augmentations += [transforms.RandomCrop(args.img_size, padding=args.padding)]\n",
    "    if args.hflip:\n",
    "        train_augmentations += [transforms.RandomHorizontalFlip()]\n",
    "    train_augmentations += [transforms.ToTensor(), transforms.Normalize(mean=args.mean, std=args.std)]\n",
    "    train_augmentations = transforms.Compose(train_augmentations)\n",
    "\n",
    "    if args.dataset.lower().startswith('cifar'):\n",
    "        train_dataset = datasets.__dict__[args.dataset.upper()](root=os.path.join(args.data_path, args.dataset), train=True, download=True, transform=train_augmentations)\n",
    "    elif args.dataset == 'fmnist':\n",
    "        train_dataset = datasets.FashionMNIST(root=os.path.join(args.data_path, args.dataset), train=True, download=True, transform=train_augmentations)\n",
    "    elif args.dataset == 'svhn':\n",
    "        train_dataset = datasets.SVHN(root=os.path.join(args.data_path, args.dataset), split='train', download=True, transform=train_augmentations)\n",
    "    else:\n",
    "        train_dataset = datasets.ImageFolder(root=os.path.join(args.data_path, args.dataset, 'train'), transform=train_augmentations)\n",
    "\n",
    "    test_augmentations = transforms.Compose([transforms.Resize(args.img_size),\n",
    "                                             transforms.ToTensor(),\n",
    "                                             transforms.Normalize(mean=args.mean, std=args.std)])\n",
    "\n",
    "    if args.dataset.lower().startswith('cifar'):\n",
    "        val_dataset = datasets.__dict__[args.dataset.upper()](root=os.path.join(args.data_path, args.dataset), train=False, download=True, transform=test_augmentations)\n",
    "    elif args.dataset == 'fmnist':\n",
    "        val_dataset = datasets.FashionMNIST(root=os.path.join(args.data_path, args.dataset), train=False, download=True, transform=test_augmentations)\n",
    "    elif args.dataset == 'svhn':\n",
    "        val_dataset = datasets.SVHN(root=os.path.join(args.data_path, args.dataset), split='test', download=True, transform=test_augmentations)\n",
    "    else:\n",
    "        val_dataset = datasets.ImageFolder(root=os.path.join(args.data_path, args.dataset, 'val'), transform=test_augmentations)\n",
    "\n",
    "    train_loader = torch.utils.data.DataLoader(train_dataset,\n",
    "                                               batch_size=args.batch_size,\n",
    "                                               shuffle=True,\n",
    "                                               num_workers=args.workers,\n",
    "                                               drop_last=True)\n",
    "\n",
    "    val_loader = torch.utils.data.DataLoader(val_dataset,\n",
    "                                             batch_size=args.batch_size,\n",
    "                                             shuffle=False,\n",
    "                                             num_workers=args.workers,\n",
    "                                             drop_last=False)\n",
    "    return train_loader, val_loader"
   ]
  },
  {
   "cell_type": "code",
   "execution_count": null,
   "metadata": {},
   "outputs": [],
   "source": []
  },
  {
   "cell_type": "markdown",
   "metadata": {},
   "source": [
    "## Utils"
   ]
  },
  {
   "cell_type": "code",
   "execution_count": 95,
   "metadata": {
    "execution": {
     "iopub.execute_input": "2024-09-25T13:46:43.119759Z",
     "iopub.status.busy": "2024-09-25T13:46:43.119323Z",
     "iopub.status.idle": "2024-09-25T13:46:43.812215Z",
     "shell.execute_reply": "2024-09-25T13:46:43.811392Z",
     "shell.execute_reply.started": "2024-09-25T13:46:43.119707Z"
    },
    "trusted": true
   },
   "outputs": [],
   "source": [
    "import torch\n",
    "import torch.nn.functional as F\n",
    "import numpy as np\n",
    "# from sklearn.metrics import confusion_matrix, top_k_accuracy_score\n",
    "import math\n",
    "\n",
    "\n",
    "def patchswap(args, x1, y1, alpha=1.0):\n",
    "    m = x1.shape[0]\n",
    "\n",
    "    new_idx = torch.randperm(m)\n",
    "    x2 = x1[new_idx]\n",
    "    y2 = y1[new_idx]\n",
    "\n",
    "    x1 = x1.unfold(2, args.patch_size, args.patch_size).unfold(3, args.patch_size, args.patch_size)\n",
    "    x1 = x1.reshape(-1, args.num_channels, args.num_patches, args.patch_size, args.patch_size)\n",
    "\n",
    "    x2 = x2.unfold(2, args.patch_size, args.patch_size).unfold(3, args.patch_size, args.patch_size)\n",
    "    x2 = x2.reshape(-1, args.num_channels, args.num_patches, args.patch_size, args.patch_size)\n",
    "\n",
    "    lam = np.random.beta(alpha, alpha)\n",
    "\n",
    "    x1_frames_count = round(lam * args.num_patches)\n",
    "    lam_new = x1_frames_count / args.num_patches\n",
    "\n",
    "    rand_probs = torch.rand(m, args.num_patches).to(device)\n",
    "\n",
    "    if x1_frames_count > 0:\n",
    "        thresh = -torch.kthvalue(-rand_probs, x1_frames_count, -1, keepdims=True)[0]\n",
    "    else:\n",
    "        thresh = torch.Tensor([1.1]).to(device)\n",
    "\n",
    "    swap = rand_probs >= thresh\n",
    "    swap = swap.reshape(m, 1, args.num_patches, 1, 1)\n",
    "    x = x1 * swap + x2 * (~swap)\n",
    "\n",
    "    x = x.contiguous().view(m, args.num_channels, -1, args.patch_size * args.patch_size)\n",
    "    x = x.permute(0, 1, 3, 2)\n",
    "    x = x.contiguous().view(m, args.num_channels * args.patch_size * args.patch_size, -1)\n",
    "    x = F.fold(x, output_size=(args.img_size, args.img_size), kernel_size=args.patch_size, stride=args.patch_size)\n",
    "\n",
    "    return x, y1, y2, lam_new\n",
    "\n",
    "\n",
    "def patchswap_loss(criterion, pred, y_a, y_b, lam):\n",
    "    return lam * criterion(pred, y_a) + (1 - lam) * criterion(pred, y_b) + lam * np.log(lam + 1e-6) + (1 - lam) * np.log(1 - lam + 1e-6)\n",
    "\n",
    "\n",
    "def accuracy(args, target, output, k=5):\n",
    "    top1 = top_k_accuracy_score(target, output, k=1, labels=range(0, args.num_classes))\n",
    "    topk = top_k_accuracy_score(target, output, k=k, labels=range(0, args.num_classes))\n",
    "    return top1, topk\n",
    "\n",
    "\n",
    "def cmatrix(args, target, predict):\n",
    "    return confusion_matrix(target, np.array(predict).argmax(1), labels=range(0, args.num_classes))\n",
    "\n",
    "\n",
    "def adjust_learning_rate(optimizer, epoch, args):\n",
    "    lr = args.lr\n",
    "    if epoch < args.warmup:\n",
    "        lr = lr / (args.warmup - epoch)\n",
    "    else:\n",
    "        lr *= 0.5 * (1. + math.cos(math.pi * (epoch - args.warmup) / (args.epochs - args.warmup)))\n",
    "\n",
    "    for param_group in optimizer.param_groups:\n",
    "        param_group['lr'] = lr\n",
    "    print(f'Epoch: {epoch}\\tlr: {lr}')"
   ]
  },
  {
   "cell_type": "markdown",
   "metadata": {},
   "source": [
    "# Training"
   ]
  },
  {
   "cell_type": "code",
   "execution_count": 96,
   "metadata": {
    "_cell_guid": "b1076dfc-b9ad-4769-8c92-a6c4dae69d19",
    "_uuid": "8f2839f25d086af736a60e9eeb907d3b93b6e0e5",
    "execution": {
     "iopub.execute_input": "2024-09-25T13:46:43.815900Z",
     "iopub.status.busy": "2024-09-25T13:46:43.815363Z",
     "iopub.status.idle": "2024-09-25T13:46:43.827049Z",
     "shell.execute_reply": "2024-09-25T13:46:43.826082Z",
     "shell.execute_reply.started": "2024-09-25T13:46:43.815857Z"
    },
    "trusted": true
   },
   "outputs": [],
   "source": [
    "import argparse\n",
    "from time import time\n",
    "import torch\n",
    "import torch.nn as nn\n",
    "import torch.optim\n",
    "import torch.utils.data\n",
    "import json\n",
    "import os\n",
    "import numpy as np\n",
    "\n",
    "\n",
    "\n",
    "def init_parser():\n",
    "    args = argparse.Namespace()\n",
    "    args.data_path = './data/'\n",
    "    args.dataset = 'cifar10'\n",
    "    args.patch_size = 4\n",
    "    args.model_path = './model/'\n",
    "\n",
    "    args.epochs = 120\n",
    "    args.warmup = 10\n",
    "    args.lr = 5e-4\n",
    "    args.batch_size = 128\n",
    "    args.weight_decay = 3e-2\n",
    "    return args\n",
    "\n",
    "def update_args(args, config):   \n",
    "\n",
    "    # Update arguments with values from the config file\n",
    "    args.img_size = config[\"img_size\"]\n",
    "    args.hflip = config[\"hflip\"]\n",
    "    args.num_channels = config[\"num_channels\"]\n",
    "    args.num_classes = config[\"num_classes\"]\n",
    "    args.cm = config[\"cm\"]\n",
    "    args.padding = config[\"padding\"]\n",
    "    args.mean = config[\"mean\"]\n",
    "    args.std = config[\"std\"]\n",
    "    args.dataset = config['dataset']\n",
    "    args.num_attention_heads=config[\"num_attention_heads\"]\n",
    "    \n",
    "    \n",
    "    args.epochs = config[\"epochs\"]\n",
    "\n",
    "    # Update other settings\n",
    "    args.is_cuda = torch.cuda.is_available()\n",
    "    args.num_patches = (args.img_size // args.patch_size) ** 2\n",
    "    args.model_path = os.path.join(args.model_path, args.dataset)\n",
    "    \n",
    "    # Create model directory if it doesn't exist\n",
    "    os.makedirs(args.model_path, exist_ok=True)\n",
    "\n",
    "    # Set number of workers based on available CPU cores\n",
    "    args.workers = max(os.cpu_count() - 2, 1)\n",
    "    \n",
    "    return args\n",
    "\n",
    "\n",
    "\n",
    "def print_args(args):\n",
    "    for k in dict(sorted(vars(args).items())).items():\n",
    "        print(k)\n",
    "    print()\n"
   ]
  },
  {
   "cell_type": "code",
   "execution_count": null,
   "metadata": {
    "trusted": true
   },
   "outputs": [],
   "source": []
  },
  {
   "cell_type": "code",
   "execution_count": null,
   "metadata": {
    "trusted": true
   },
   "outputs": [],
   "source": []
  },
  {
   "cell_type": "code",
   "execution_count": 97,
   "metadata": {
    "trusted": true
   },
   "outputs": [],
   "source": [
    "# model"
   ]
  },
  {
   "cell_type": "code",
   "execution_count": 98,
   "metadata": {
    "execution": {
     "iopub.execute_input": "2024-09-25T13:46:43.828492Z",
     "iopub.status.busy": "2024-09-25T13:46:43.828211Z",
     "iopub.status.idle": "2024-09-25T13:46:43.840430Z",
     "shell.execute_reply": "2024-09-25T13:46:43.839509Z",
     "shell.execute_reply.started": "2024-09-25T13:46:43.828463Z"
    },
    "trusted": true
   },
   "outputs": [],
   "source": [
    "\n",
    "def train_step(args, train_loader, model, criterion, optimizer):\n",
    "\n",
    "    model.train()\n",
    "    iter_per_epoch = len(train_loader)\n",
    "    actual, predict, losses = [], [], []\n",
    "    for i, (x, y) in enumerate(train_loader):\n",
    "        if args.is_cuda:\n",
    "            x = x.to(device)\n",
    "            y = y.to(device)\n",
    "\n",
    "        x_mix, y1, y2, lam = patchswap(args, x, y)\n",
    "        output = model(x_mix)\n",
    "        loss = patchswap_loss(criterion, output, y1, y2, lam)\n",
    "\n",
    "        optimizer.zero_grad()\n",
    "        loss.backward()\n",
    "        optimizer.step()\n",
    "\n",
    "        if i % 50 == 0 or i == iter_per_epoch-1:\n",
    "            loss = loss.item() + lam * np.log(lam+1e-6) + (1-lam) * np.log(1-lam+1e-6)\n",
    "        #   print(f'It: {i+1}/{iter_per_epoch}\\tLoss: {loss:.4f}')\n",
    "\n",
    "\n",
    "def test_step(args, loader, model, criterion):\n",
    "    model.eval()\n",
    "    actual, predict, losses = [], [], []\n",
    "\n",
    "    with torch.no_grad():\n",
    "        for (x, y) in loader:\n",
    "            if args.is_cuda:\n",
    "                x = x.to(device)\n",
    "\n",
    "            output = model(x)\n",
    "\n",
    "            losses += criterion(output, y.to(device)).tolist()\n",
    "            actual += y.tolist()\n",
    "            predict += output.tolist()\n",
    "    acc1, acc5 = accuracy(args, actual, predict)\n",
    "    avg_loss = sum(losses)/len(losses)\n",
    "    cm = cmatrix(args, actual, predict)\n",
    "\n",
    "    return acc1, acc5, cm, avg_loss\n"
   ]
  },
  {
   "cell_type": "code",
   "execution_count": 99,
   "metadata": {
    "trusted": true
   },
   "outputs": [],
   "source": [
    "''''Type-1 for traibed from scratch cifar 100 4 heads\n",
    "Type -2 for trained from scratch cifar 100 1 head\n",
    "Type-3 pretrained  model \n",
    "'''\n",
    "\n",
    "def update_config(config,type):\n",
    "    if(type==1): #cifar 100 4 head\n",
    "        config[\"img_size\"]=32\n",
    "        config[ \"num_classes\"]=100\n",
    "        config[ \"dataset\"]='cifar100'\n",
    "        config[ \"num_classes\"]=100\n",
    "        config[\"num_attention_heads\"]=4\n",
    "    elif(type==2): #cifar 100 1 head\n",
    "        config[\"img_size\"]=32\n",
    "        config[ \"num_classes\"]=100\n",
    "        config[ \"dataset\"]='cifar100'\n",
    "        config[ \"num_classes\"]=100\n",
    "        config[\"num_attention_heads\"]=1\n",
    "    elif(type==3): #pretrained no FT\n",
    "        config[\"img_size\"]=32\n",
    "        config[ \"num_classes\"]=100\n",
    "        config[ \"dataset\"]='cifar100'\n",
    "        config[ \"num_classes\"]=100\n",
    "        config[\"num_attention_heads\"]=4\n",
    "        \n",
    "    elif(type==4): #pretrained FT\n",
    "        raise Exception(\"Not implemented yet, fix update_config function\")\n",
    "        config[\"img_size\"]=224\n",
    "        config[ \"num_classes\"]=21,841\n",
    "        # config[ \"dataset\"]='cifar100'\n",
    "        # config[\"num_attention_heads\"]=1\n",
    "\n",
    "    \n",
    "\n",
    "\n",
    "\n"
   ]
  },
  {
   "cell_type": "code",
   "execution_count": null,
   "metadata": {
    "trusted": true
   },
   "outputs": [],
   "source": []
  },
  {
   "cell_type": "code",
   "execution_count": 100,
   "metadata": {
    "execution": {
     "iopub.execute_input": "2024-09-25T13:46:43.855027Z",
     "iopub.status.busy": "2024-09-25T13:46:43.854719Z",
     "iopub.status.idle": "2024-09-25T13:46:43.861178Z",
     "shell.execute_reply": "2024-09-25T13:46:43.860308Z",
     "shell.execute_reply.started": "2024-09-25T13:46:43.854996Z"
    },
    "trusted": true
   },
   "outputs": [],
   "source": [
    "from tqdm import tqdm"
   ]
  },
  {
   "cell_type": "code",
   "execution_count": 101,
   "metadata": {
    "trusted": true
   },
   "outputs": [],
   "source": [
    "# # pretrained_vit\n",
    "# def load_model_state_dict(model, relative_path_to_checkpoints=\"../Pretrained_checkpoints\", filename=\"model_state.pth\"):\n",
    "#     \"\"\"\n",
    "#     Load the state dictionary of a pretrained model from a sibling directory.\n",
    "\n",
    "#     Parameters:\n",
    "#         model: The model object to load the state dictionary into.\n",
    "#         relative_path_to_checkpoints: Relative path from the current directory to the checkpoint directory (default: '../Pretrained_checkpoints').\n",
    "#         filename: The name of the checkpoint file (default: 'model_state.pth').\n",
    "\n",
    "#     Returns:\n",
    "#         None\n",
    "#     \"\"\"\n",
    "#     # Create the full path relative to the current directory\n",
    "#     file_path = os.path.join(relative_path_to_checkpoints, filename)\n",
    "    \n",
    "#     # Load the state dictionary\n",
    "#     # Load the state dictionary\n",
    "#     # print(file_path)\n",
    "#     model_state_dict = torch.load(file_path, map_location='cpu', weights_only=True)\n",
    "#     model.load_state_dict(model_state_dict)\n",
    "#     print(f\"Model loaded from {file_path}\")\n"
   ]
  },
  {
   "cell_type": "code",
   "execution_count": 102,
   "metadata": {},
   "outputs": [],
   "source": [
    "import os\n",
    "import torch\n",
    "\n",
    "def load_model_state_dict(model, relative_path_to_checkpoints=\"../Pretrained_checkpoints\", filename=\"model_state.pth\"):\n",
    "    \"\"\"\n",
    "    Load the state dictionary of a pretrained model from a sibling directory.\n",
    "\n",
    "    Parameters:\n",
    "        model: The model object to load the state dictionary into.\n",
    "        relative_path_to_checkpoints: Relative path from the current directory to the checkpoint directory (default: '../Pretrained_checkpoints').\n",
    "        filename: The name of the checkpoint file (default: 'model_state.pth').\n",
    "\n",
    "    Returns:\n",
    "        None\n",
    "    \"\"\"\n",
    "    # Create the full path relative to the current directory\n",
    "    file_path = os.path.join(relative_path_to_checkpoints, filename)\n",
    "    \n",
    "    # Load the state dictionary\n",
    "    model_state_dict = torch.load(file_path, map_location='cpu')  # Removed weights_only=True\n",
    "    \n",
    "    # Attempt to load the state dict with strict=False to allow for mismatched keys\n",
    "    missing_keys, unexpected_keys = model.load_state_dict(model_state_dict, strict=False)\n",
    "    \n",
    "    # Print out missing and unexpected keys for debugging\n",
    "    if missing_keys:\n",
    "        print(f\"Missing keys in the model: {missing_keys}\")\n",
    "    if unexpected_keys:\n",
    "        print(f\"Unexpected keys in the state_dict: {unexpected_keys}\")\n",
    "    \n",
    "    print(f\"Model loaded from {file_path}\")\n"
   ]
  },
  {
   "cell_type": "code",
   "execution_count": 103,
   "metadata": {},
   "outputs": [],
   "source": [
    "args = init_parser()\n",
    "config = {\n",
    "    \"img_size\": 32,           # CIFAR-10 image size (32x32)\n",
    "    #  \"img_size\": 256, \n",
    "    \"hflip\": True,            # Horizontal flip augmentation (common for CIFAR-10)\n",
    "    \"num_channels\": 3,        # CIFAR-10 has 3 channels (RGB)\n",
    "    # \"num_classes\": 10,        # CIFAR-10 has 10 classes\n",
    "     \"num_classes\": 100,        # CIFAR-10 has 10 classes\n",
    "    \"cm\": False,  \n",
    "    \n",
    "    \"dataset\":'cifar100',  \n",
    "    #  \"dataset\":'cifar10',      \n",
    "    #     \"dataset\":'fmnist',\n",
    "    \"padding\": 4,             # Typical padding used in CIFAR-10 augmentation\n",
    "    \"mean\": [0.4914, 0.4822, 0.4465],  # Precomputed mean values for CIFAR-10 (RGB)\n",
    "    \"std\": [0.2023, 0.1994, 0.2010]  ,  # Precomputed standard deviation for CIFAR-10 (RGB)\n",
    "    \"epochs\"  : 120 , \n",
    "}\n"
   ]
  },
  {
   "cell_type": "code",
   "execution_count": 104,
   "metadata": {},
   "outputs": [],
   "source": [
    "\n",
    "MODEL_TYPE=1   ## MODEL TYPE 1 - FOR Trained from scratch with 32*32 size images \n",
    "               ## MODEL TYPE-2 - FOR PRETRAINED with 224*224 size images."
   ]
  },
  {
   "cell_type": "code",
   "execution_count": 105,
   "metadata": {},
   "outputs": [],
   "source": [
    "'''IGNORE THIS CELL'''\n",
    "if MODEL_TYPE == 1:\n",
    "    state_dict_file = \"cifar100_4head.pth\"\n",
    "    _classes  = classes_100\n",
    "elif MODEL_TYPE == 2:\n",
    "    state_dict_file = \"cifar100_1head.pth\"\n",
    "    _classes  = classes_100\n",
    "elif MODEL_TYPE == 3:\n",
    "    state_dict_file = \"pretrain_ft_cifar100.pth\"\n",
    "elif MODEL_TYPE == 4:\n",
    "    state_dict_file = \"cifar100_4head.pth\"\n",
    "\n",
    "\n",
    "\n",
    "# load_model_state_dict(model, relative_path_to_checkpoints=os.path.join('..', 'Pretrained_checkpoints'), filename=state_dict_file)\n",
    "# model.eval()"
   ]
  },
  {
   "cell_type": "code",
   "execution_count": 106,
   "metadata": {},
   "outputs": [],
   "source": [
    "# model"
   ]
  },
  {
   "cell_type": "code",
   "execution_count": 107,
   "metadata": {
    "execution": {
     "iopub.execute_input": "2024-09-25T13:46:43.862544Z",
     "iopub.status.busy": "2024-09-25T13:46:43.862253Z",
     "iopub.status.idle": "2024-09-25T14:01:03.836513Z",
     "shell.execute_reply": "2024-09-25T14:01:03.835044Z",
     "shell.execute_reply.started": "2024-09-25T13:46:43.862500Z"
    },
    "trusted": true
   },
   "outputs": [
    {
     "name": "stdout",
     "output_type": "stream",
     "text": [
      "('batch_size', 128)\n",
      "('cm', False)\n",
      "('data_path', './data/')\n",
      "('dataset', 'cifar100')\n",
      "('epochs', 120)\n",
      "('hflip', True)\n",
      "('img_size', 32)\n",
      "('is_cuda', False)\n",
      "('lr', 0.0005)\n",
      "('mean', [0.4914, 0.4822, 0.4465])\n",
      "('model_path', './model/cifar100')\n",
      "('num_attention_heads', 4)\n",
      "('num_channels', 3)\n",
      "('num_classes', 100)\n",
      "('num_patches', 64)\n",
      "('padding', 4)\n",
      "('patch_size', 4)\n",
      "('std', [0.2023, 0.1994, 0.201])\n",
      "('warmup', 10)\n",
      "('weight_decay', 0.03)\n",
      "('workers', 10)\n",
      "\n"
     ]
    }
   ],
   "source": [
    "\n",
    "\n",
    "update_config(config,type=MODEL_TYPE)\n",
    "\n",
    "args = update_args(args, config)\n",
    "\n",
    "print_args(args)\n",
    "\n",
    "\n",
    "model = ViT(args)\n",
    "\n",
    "optimizer = torch.optim.AdamW(model.parameters(), lr=args.lr, weight_decay=args.weight_decay)\n",
    "\n",
    "criterion = nn.CrossEntropyLoss()\n",
    "criterion_ = nn.CrossEntropyLoss(reduction='none')\n",
    "\n",
    "if args.is_cuda:\n",
    "    model = model.to(device)\n",
    "\n",
    "# model.load_state"
   ]
  },
  {
   "cell_type": "markdown",
   "metadata": {},
   "source": [
    "# Visualisation"
   ]
  },
  {
   "cell_type": "code",
   "execution_count": 108,
   "metadata": {},
   "outputs": [
    {
     "name": "stdout",
     "output_type": "stream",
     "text": [
      "Loaded 5 images, 5 labels, 5 outputs, 5 image IDs.\n"
     ]
    }
   ],
   "source": [
    "import os\n",
    "import numpy as np\n",
    "\n",
    "def load_data_from_directory(directory_path):\n",
    "    \"\"\"Load images, labels, outputs, and image IDs from the specified directory.\"\"\"\n",
    "\n",
    "    \n",
    "    try:\n",
    "        # Construct the full paths for each file\n",
    "        ids_path = os.path.join(directory_path, 'ids.npy')\n",
    "        images_path = os.path.join(directory_path, 'images.npy')\n",
    "        labels_path = os.path.join(directory_path, 'labels.npy')\n",
    "        outputs_path = os.path.join(directory_path, 'outputs.npy')\n",
    "\n",
    "        # Load the numpy arrays\n",
    "        img_ids = np.load(ids_path)\n",
    "        images = np.load(images_path)\n",
    "        labels = np.load(labels_path)\n",
    "        outputs = np.load(outputs_path)\n",
    "\n",
    "        return img_ids, images, labels, outputs\n",
    "\n",
    "    except Exception as e:\n",
    "        print(f\"An error occurred: {e}\")\n",
    "        return None, None, None, None\n",
    "\n",
    "# Example usage\n",
    "directory_path = '../saved_images/correct'  # Adjust as needed\n",
    "img_ids, images, labels, outputs = load_data_from_directory(directory_path)\n",
    "preds = np.argmax(outputs,-1)\n",
    "\n",
    "\n",
    "# Example to check the loaded data\n",
    "if images is not None:\n",
    "    print(f\"Loaded {images.shape[0]} images, {labels.shape[0]} labels, {outputs.shape[0]} outputs, {img_ids.shape[0]} image IDs.\")\n"
   ]
  },
  {
   "cell_type": "code",
   "execution_count": 109,
   "metadata": {},
   "outputs": [
    {
     "data": {
      "text/plain": [
       "(array([3, 8, 0, 6, 6], dtype=int64), array([3, 8, 0, 6, 6], dtype=int64))"
      ]
     },
     "execution_count": 109,
     "metadata": {},
     "output_type": "execute_result"
    }
   ],
   "source": [
    "preds, labels"
   ]
  },
  {
   "cell_type": "code",
   "execution_count": 110,
   "metadata": {},
   "outputs": [],
   "source": [
    "classes=['airplane',\n",
    "  'automobile',\n",
    "  'bird',\n",
    "  'cat',\n",
    "  'deer',\n",
    "  'dog',\n",
    "  'frog',\n",
    "  'horse',\n",
    "  'ship',\n",
    "  'truck']"
   ]
  },
  {
   "cell_type": "code",
   "execution_count": null,
   "metadata": {},
   "outputs": [],
   "source": []
  },
  {
   "cell_type": "code",
   "execution_count": 111,
   "metadata": {},
   "outputs": [
    {
     "name": "stdout",
     "output_type": "stream",
     "text": [
      "Label: 6\n",
      "Label class: frog\n",
      "Output: 6\n"
     ]
    },
    {
     "name": "stderr",
     "output_type": "stream",
     "text": [
      "Clipping input data to the valid range for imshow with RGB data ([0..1] for floats or [0..255] for integers).\n"
     ]
    },
    {
     "data": {
      "image/png": "[encoded data removed]",
      "text/plain": [
       "<Figure size 640x480 with 1 Axes>"
      ]
     },
     "metadata": {},
     "output_type": "display_data"
    }
   ],
   "source": [
    "import matplotlib.pyplot as plt\n",
    "import numpy as np\n",
    "\n",
    "def plot_image(image_idx, title=None):\n",
    "    \"\"\"\n",
    "    Plot a single image using Matplotlib.\n",
    "\n",
    "    Args:\n",
    "        image (numpy.ndarray): The image to plot. It should be in the format (height, width, channels).\n",
    "        title (str, optional): The title for the plot. Defaults to None.\n",
    "\n",
    "    Returns:\n",
    "        None\n",
    "    \"\"\"\n",
    "\n",
    "    # Print label and output\n",
    "    print(f\"Label: {labels[image_idx]}\")\n",
    "    print(f\"Label class: {classes[labels[image_idx]]}\")\n",
    "    print(f\"Output: {preds[image_idx]}\")\n",
    "\n",
    "    image = images[image_idx]\n",
    "\n",
    "    if image.ndim == 3 and image.shape[2] == 3:\n",
    "        # Color image\n",
    "        plt.imshow(image)\n",
    "    elif image.ndim == 2 or (image.ndim == 3 and image.shape[2] == 1):\n",
    "        # Grayscale image\n",
    "        if image.ndim == 3:\n",
    "            image = image.squeeze()  # Remove the channel dimension\n",
    "        plt.imshow(image, cmap='gray')\n",
    "    else:\n",
    "        raise ValueError(\"Image format not recognized. Expected (H, W) or (H, W, 3) or (H, W, 1).\")\n",
    "\n",
    "    if title:\n",
    "        plt.title(title)\n",
    "    \n",
    "    plt.axis('off')  # Hide axis\n",
    "    plt.show()\n",
    "\n",
    "# Example usage\n",
    "# Assuming `images` is a numpy array of images with shape (k, H, W, C)\n",
    "# and you want to plot the first image:\n",
    "image_idx = 3\n",
    "plot_image(image_idx, title=\"Example Image\")\n"
   ]
  },
  {
   "cell_type": "code",
   "execution_count": 112,
   "metadata": {},
   "outputs": [],
   "source": [
    "from PIL import Image\n",
    "import cv2\n",
    "from skimage.transform import resize\n",
    "\n",
    "\n",
    "\n",
    "\n",
    "def Img_Downsample(image,type=1):\n",
    "   \n",
    "\n",
    "# Assuming 'image' is the loaded image object from PIL\n",
    "\n",
    "\n",
    "\n",
    "    if(type==1):\n",
    "        resized_image = cv2.resize(image, (32, 32), interpolation=cv2.INTER_AREA)\n",
    "    elif(type==2):\n",
    "        resized_image = cv2.resize(image, (32, 32), interpolation=cv2.INTER_CUBIC)\n",
    "    elif(type==3):\n",
    "        resized_image = cv2.resize(image, (32, 32), interpolation=cv2.INTER_LINEAR)\n",
    "    else:\n",
    "        resized_image = resize(image, (32, 32), anti_aliasing=True)\n",
    "\n",
    "    \n",
    "    plt.imshow(resized_image)\n",
    "    plt.axis('off')  # Optional: Hide the axes for a cleaner view\n",
    "    plt.show()\n",
    "\n",
    "\n",
    "\n",
    "\n",
    "\n",
    "    return resized_image\n",
    "\n",
    "        \n",
    "\n"
   ]
  },
  {
   "cell_type": "code",
   "execution_count": 113,
   "metadata": {},
   "outputs": [],
   "source": [
    "def image_merging(image1_idx,image2_idx,method):\n",
    "\n",
    "    # image1_idx=3\n",
    "    # image2_idx=4\n",
    "\n",
    "    image1=images[image1_idx:image1_idx+1]\n",
    "\n",
    "    image2=images[image2_idx:image2_idx+1]\n",
    "\n",
    "    image1 = np.squeeze(image1)\n",
    "    image2 = np.squeeze(image2)\n",
    "    if(method=='hstack'):\n",
    "        combined_image = np.hstack((image1, image2))\n",
    "        plt.imshow(combined_image)\n",
    "        plt.axis('off')  # Hide axes for better visualization\n",
    "        plt.show()\n",
    "    else:\n",
    "        combined_image = np.vstack((image1, image2))\n",
    "        plt.imshow(combined_image)\n",
    "        plt.axis('off')  # Hide axes for better visualization\n",
    "        plt.show()\n",
    "\n",
    "    return combined_image\n",
    "# plot_image(image_idx, title=\"Example Image\")"
   ]
  },
  {
   "cell_type": "code",
   "execution_count": 114,
   "metadata": {},
   "outputs": [],
   "source": [
    "# image2.shape"
   ]
  },
  {
   "cell_type": "code",
   "execution_count": 115,
   "metadata": {},
   "outputs": [
    {
     "name": "stderr",
     "output_type": "stream",
     "text": [
      "Clipping input data to the valid range for imshow with RGB data ([0..1] for floats or [0..255] for integers).\n"
     ]
    },
    {
     "data": {
      "image/png": "[encoded data removed]",
      "text/plain": [
       "<Figure size 640x480 with 1 Axes>"
      ]
     },
     "metadata": {},
     "output_type": "display_data"
    }
   ],
   "source": [
    "combined_image=image_merging(image1_idx=3,image2_idx=2,method=\"hstack\")"
   ]
  },
  {
   "cell_type": "code",
   "execution_count": 116,
   "metadata": {},
   "outputs": [
    {
     "name": "stderr",
     "output_type": "stream",
     "text": [
      "Clipping input data to the valid range for imshow with RGB data ([0..1] for floats or [0..255] for integers).\n"
     ]
    },
    {
     "data": {
      "image/png": "[encoded data removed]",
      "text/plain": [
       "<Figure size 640x480 with 1 Axes>"
      ]
     },
     "metadata": {},
     "output_type": "display_data"
    },
    {
     "data": {
      "text/plain": [
       "(1, 32, 32, 3)"
      ]
     },
     "execution_count": 116,
     "metadata": {},
     "output_type": "execute_result"
    }
   ],
   "source": [
    "combined_image=Img_Downsample(combined_image,type=1)\n",
    "combined_image.shape\n",
    "combined_image=np.expand_dims(np.transpose(combined_image, (0, 1, 2)), axis=0)\n",
    "combined_image.shape"
   ]
  },
  {
   "cell_type": "code",
   "execution_count": 117,
   "metadata": {},
   "outputs": [],
   "source": [
    "img=combined_image"
   ]
  },
  {
   "cell_type": "code",
   "execution_count": 118,
   "metadata": {},
   "outputs": [],
   "source": [
    "image=combined_image[0]"
   ]
  },
  {
   "cell_type": "code",
   "execution_count": 119,
   "metadata": {},
   "outputs": [
    {
     "data": {
      "text/plain": [
       "(32, 32, 3)"
      ]
     },
     "execution_count": 119,
     "metadata": {},
     "output_type": "execute_result"
    }
   ],
   "source": [
    "image.shape"
   ]
  },
  {
   "cell_type": "code",
   "execution_count": 120,
   "metadata": {},
   "outputs": [],
   "source": [
    "# import numpy as np\n",
    "# from PIL import Image\n",
    "# from torchvision import transforms\n",
    "# from torchvision.transforms import InterpolationMode\n",
    "\n",
    "# def scale_up(image):\n",
    "#     # Ensure input image is a NumPy array of shape (32, 32, 3)\n",
    "#     assert image.shape == (32, 32, 3), \"Input image must be of shape (32, 32, 3)\"\n",
    "\n",
    "#     # Define the transforms to resize and normalize the image\n",
    "#     pretrained_vit_transforms = transforms.Compose([\n",
    "#         transforms.Resize(256, interpolation=InterpolationMode.BILINEAR),  # Resize to 256x256\n",
    "#         transforms.CenterCrop(224),  # Crop to 224x224\n",
    "#         transforms.ToTensor(),  # Convert image to tensor\n",
    "#         transforms.Normalize(mean=[0.485, 0.456, 0.406], std=[0.229, 0.224, 0.225])  # Normalize with ImageNet stats\n",
    "#     ])\n",
    "\n",
    "#     # Scale to [0, 255] and convert to uint8\n",
    "#     image_np = (image * 255).astype(np.uint8)\n",
    "\n",
    "#     # Convert the NumPy array to a PIL Image\n",
    "#     image_pil = Image.fromarray(image_np)\n",
    "\n",
    "#     # Apply the transformations (resize, crop, normalize)\n",
    "#     transformed_image = pretrained_vit_transforms(image_pil)\n",
    "    \n",
    "#     return transformed_image\n"
   ]
  },
  {
   "cell_type": "code",
   "execution_count": 121,
   "metadata": {},
   "outputs": [],
   "source": [
    "# import numpy as np\n",
    "# import torch\n",
    "# from torchvision import transforms\n",
    "# from PIL import Image\n",
    "# from torchvision.transforms import InterpolationMode\n",
    "\n",
    "# def scale_up(image):\n",
    "#     # Ensure input image is a NumPy array of shape (1, 3, 32, 32)\n",
    "#     assert image.shape == (1, 3, 32, 32), \"Input image must be of shape (1, 3, 32, 32)\"\n",
    "    \n",
    "#     # Remove the batch dimension and transpose to HWC format\n",
    "#     image_np = np.transpose(image[0], (1, 2, 0))  # Shape becomes (32, 32, 3)\n",
    "\n",
    "#     # Convert the NumPy array to a PIL Image\n",
    "#     image_pil = Image.fromarray((image_np * 255).astype(np.uint8))\n",
    "\n",
    "#     # Define the transforms to resize and normalize the image\n",
    "#     pretrained_vit_transforms = transforms.Compose([\n",
    "#         transforms.Resize(256, interpolation=InterpolationMode.BILINEAR),  # Resize to 256x256\n",
    "#         transforms.CenterCrop(224),  # Crop to 224x224\n",
    "#         transforms.ToTensor(),  # Convert image to tensor\n",
    "#         transforms.Normalize(mean=[0.485, 0.456, 0.406], std=[0.229, 0.224, 0.225])  # Normalize with ImageNet stats\n",
    "#     ])\n",
    "\n",
    "#     # Apply the transformations\n",
    "#     transformed_image = pretrained_vit_transforms(image_pil)\n",
    "\n",
    "#     # Add the batch dimension back\n",
    "#     transformed_image = transformed_image.unsqueeze(0)  # Shape becomes (1, 3, 224, 224)\n",
    "\n",
    "#     return transformed_image\n",
    "\n",
    "# # Example usage:\n",
    "# input_image = np.random.rand(1, 3, 32, 32)  # Example input as NumPy array\n",
    "# transformed_image = scale_up(input_image)\n",
    "# print(\"Transformed image shape:\", transformed_image.shape)\n",
    "\n",
    "\n",
    "# import numpy as np\n",
    "# from torchvision import transforms\n",
    "# from PIL import Image\n",
    "# from torchvision.transforms import InterpolationMode\n",
    "\n",
    "# def scale_up(image):\n",
    "#     # Ensure input image is a NumPy array of shape (1, 3, 32, 32)\n",
    "#     assert image.shape == (1, 3, 32, 32), \"Input image must be of shape (1, 3, 32, 32)\"\n",
    "    \n",
    "#     # Remove the batch dimension and transpose to HWC format\n",
    "#     image_np = np.transpose(image[0], (1, 2, 0))  # Shape becomes (32, 32, 3)\n",
    "\n",
    "#     # Convert the NumPy array to a PIL Image\n",
    "#     image_pil = Image.fromarray((image_np * 255).astype(np.uint8))\n",
    "#     # image_pil = torch.tensor(image_np).float()  # Shape becomes (3, 32, 32)\n",
    "\n",
    "#     # Define the transforms to resize and normalize the image\n",
    "#     pretrained_vit_transforms = transforms.Compose([\n",
    "#         transforms.Resize(256, interpolation=InterpolationMode.BILINEAR),  # Resize to 256x256\n",
    "#         transforms.CenterCrop(224),  # Crop to 224x224\n",
    "#         transforms.ToTensor(),  # Convert image to tensor\n",
    "#         transforms.Normalize(mean=[0.485, 0.456, 0.406], std=[0.229, 0.224, 0.225])  # Normalize with ImageNet stats\n",
    "#     ])\n",
    "\n",
    "#     # Apply the transformations\n",
    "#     transformed_image_tensor = pretrained_vit_transforms(image_pil)\n",
    "\n",
    "#     # Convert the tensor back to NumPy array\n",
    "#     transformed_image = transformed_image_tensor.numpy()  # Shape becomes (3, 224, 224)\n",
    "\n",
    "#     # Add the batch dimension back and change the shape to (1, 3, 224, 224)\n",
    "#     transformed_image = np.expand_dims(transformed_image, axis=0)  # Shape becomes (1, 3, 224, 224)\n",
    "\n",
    "#     return transformed_image\n",
    "\n",
    "# # Example usage:\n",
    "# input_image = np.random.rand(1, 3, 32, 32)  # Example input as NumPy array\n",
    "# transformed_image = scale_up(input_image)\n",
    "# print(\"Transformed image shape:\", transformed_image.shape)\n",
    "# print(type(transformed_image))\n"
   ]
  },
  {
   "cell_type": "code",
   "execution_count": 122,
   "metadata": {},
   "outputs": [
    {
     "name": "stdout",
     "output_type": "stream",
     "text": [
      "Transformed image shape: (1, 3, 224, 224)\n",
      "<class 'numpy.ndarray'>\n"
     ]
    },
    {
     "name": "stderr",
     "output_type": "stream",
     "text": [
      "c:\\Users\\pande\\AppData\\Local\\Programs\\Python\\Python311\\Lib\\site-packages\\torchvision\\transforms\\functional.py:1603: UserWarning: The default value of the antialias parameter of all the resizing transforms (Resize(), RandomResizedCrop(), etc.) will change from None to True in v0.17, in order to be consistent across the PIL and Tensor backends. To suppress this warning, directly pass antialias=True (recommended, future default), antialias=None (current default, which means False for Tensors and True for PIL), or antialias=False (only works on Tensors - PIL will still use antialiasing). This also applies if you are using the inference transforms from the models weights: update the call to weights.transforms(antialias=True).\n",
      "  warnings.warn(\n"
     ]
    }
   ],
   "source": [
    "import numpy as np\n",
    "import torch\n",
    "from torchvision import transforms\n",
    "import torchvision.transforms.functional as F\n",
    "\n",
    "def scale_up(image):\n",
    "    # Ensure input image is a NumPy array of shape (1, 3, 32, 32)\n",
    "    assert image.shape == (1, 3, 32, 32), \"Input image must be of shape (1, 3, 32, 32)\"\n",
    "    \n",
    "    # Convert NumPy array to PyTorch tensor and remove batch dimension\n",
    "    image_tensor = torch.tensor(image[0]).float()  # Shape becomes (3, 32, 32)\n",
    "\n",
    "    # Resize to 256x256 and center crop to 224x224\n",
    "    image_tensor = F.resize(image_tensor, [256, 256], interpolation=transforms.InterpolationMode.BILINEAR)\n",
    "    image_tensor = F.center_crop(image_tensor, [224, 224])\n",
    "\n",
    "    # Normalize using ImageNet statistics\n",
    "    image_tensor = F.normalize(image_tensor, mean=[0.485, 0.456, 0.406], std=[0.229, 0.224, 0.225])\n",
    "\n",
    "    # Add the batch dimension back\n",
    "    transformed_image = image_tensor.unsqueeze(0)  # Shape becomes (1, 3, 224, 224)\n",
    "    transformed_image = transformed_image.numpy()  # Shape becomes (3, 224, 224)\n",
    "\n",
    "#     # Add the batch dimension back and change the shape to (1, 3, 224, 224)\n",
    "#     transformed_image = np.expand_dims(transformed_image, axis=0)  # Shape becomes (1, 3, 224, 224)\n",
    "\n",
    "    return transformed_image\n",
    "\n",
    "# Example usage:\n",
    "input_image = np.random.rand(1, 3, 32, 32)  # Example input as NumPy array\n",
    "transformed_image = scale_up(input_image)\n",
    "print(\"Transformed image shape:\", transformed_image.shape)\n",
    "print(type(transformed_image))\n"
   ]
  },
  {
   "cell_type": "code",
   "execution_count": 123,
   "metadata": {},
   "outputs": [],
   "source": [
    "# type=3\n",
    "# if(type==3):\n",
    "#      # Convert float array to uint8 (you may need to multiply by 255 to scale values)\n",
    "#     image_np = (image * 255).astype(np.uint8)  # Scale to [0, 255] and convert to uint8\n",
    "\n",
    "#     # Convert NumPy array to PIL Image\n",
    "#     image = Image.fromarray(image_np)\n",
    "\n",
    "#     transformed_image = pretrained_vit_transforms(image)\n",
    "   \n",
    "\n",
    "# transformed_image.shape\n"
   ]
  },
  {
   "cell_type": "code",
   "execution_count": 124,
   "metadata": {},
   "outputs": [],
   "source": [
    "# type(image)"
   ]
  },
  {
   "cell_type": "code",
   "execution_count": 125,
   "metadata": {},
   "outputs": [],
   "source": [
    "# from PIL import Image\n",
    "# import numpy as np\n",
    "\n",
    "# # Load the image\n",
    "# image = Image.open('../saved_images/correct/hybrid.jpeg')\n",
    "\n",
    "# # Convert image to NumPy array\n",
    "# image_array = np.array(image)\n",
    "\n",
    "# print(image_array)"
   ]
  },
  {
   "cell_type": "code",
   "execution_count": 126,
   "metadata": {},
   "outputs": [],
   "source": [
    "# image_array.shape"
   ]
  },
  {
   "cell_type": "code",
   "execution_count": 127,
   "metadata": {},
   "outputs": [],
   "source": [
    "# type(img_one)"
   ]
  },
  {
   "cell_type": "code",
   "execution_count": 128,
   "metadata": {},
   "outputs": [],
   "source": [
    "# img_one=image"
   ]
  },
  {
   "cell_type": "code",
   "execution_count": 129,
   "metadata": {},
   "outputs": [],
   "source": [
    "# raise EOFError"
   ]
  },
  {
   "cell_type": "code",
   "execution_count": 130,
   "metadata": {},
   "outputs": [],
   "source": [
    "# image = np.expand_dims(image, axis=0)\n",
    "# image=image.astype(np.float32)"
   ]
  },
  {
   "cell_type": "code",
   "execution_count": 131,
   "metadata": {},
   "outputs": [
    {
     "data": {
      "text/plain": [
       "(32, 32, 3)"
      ]
     },
     "execution_count": 131,
     "metadata": {},
     "output_type": "execute_result"
    }
   ],
   "source": [
    "image.shape"
   ]
  },
  {
   "cell_type": "code",
   "execution_count": 132,
   "metadata": {},
   "outputs": [
    {
     "data": {
      "text/plain": [
       "(1, 3, 32, 32)"
      ]
     },
     "execution_count": 132,
     "metadata": {},
     "output_type": "execute_result"
    }
   ],
   "source": [
    "\n",
    "if(MODEL_TYPE==1):\n",
    "    image=np.expand_dims(np.transpose(image, (2, 0, 1)), axis=0)\n",
    "else:\n",
    "\n",
    "    image=scale_up(image)\n",
    "    print(image.shape)\n",
    "    # image=np.expand_dims(np.transpose(image, (2, 0, 1)), axis=0)\n",
    "    image=np.expand_dims(image, axis=0)\n",
    "\n",
    "\n",
    "image.shape"
   ]
  },
  {
   "cell_type": "code",
   "execution_count": 133,
   "metadata": {},
   "outputs": [],
   "source": [
    "# image=np.expand_dims(np.transpose(image, (2, 0, 1)), axis=0)"
   ]
  },
  {
   "cell_type": "code",
   "execution_count": 134,
   "metadata": {},
   "outputs": [],
   "source": [
    "# image.shape"
   ]
  },
  {
   "cell_type": "code",
   "execution_count": 135,
   "metadata": {},
   "outputs": [],
   "source": [
    "# raise EOFError"
   ]
  },
  {
   "cell_type": "code",
   "execution_count": 136,
   "metadata": {},
   "outputs": [],
   "source": [
    "# img_one=image"
   ]
  },
  {
   "cell_type": "code",
   "execution_count": 137,
   "metadata": {},
   "outputs": [],
   "source": [
    "# img_one.shape"
   ]
  },
  {
   "cell_type": "code",
   "execution_count": 138,
   "metadata": {},
   "outputs": [],
   "source": [
    "img_one=image"
   ]
  },
  {
   "cell_type": "code",
   "execution_count": 139,
   "metadata": {},
   "outputs": [
    {
     "data": {
      "text/plain": [
       "(1, 3, 32, 32)"
      ]
     },
     "execution_count": 139,
     "metadata": {},
     "output_type": "execute_result"
    }
   ],
   "source": [
    "img_one.shape"
   ]
  },
  {
   "cell_type": "code",
   "execution_count": 140,
   "metadata": {},
   "outputs": [
    {
     "data": {
      "text/plain": [
       "(1, 3, 32, 32)"
      ]
     },
     "execution_count": 140,
     "metadata": {},
     "output_type": "execute_result"
    }
   ],
   "source": [
    "# img_one = np.transpose(img_one, (0, 2, 3, 1))\n",
    "img_one.shape"
   ]
  },
  {
   "cell_type": "code",
   "execution_count": 141,
   "metadata": {},
   "outputs": [
    {
     "data": {
      "text/plain": [
       "(1, 3, 32, 32)"
      ]
     },
     "execution_count": 141,
     "metadata": {},
     "output_type": "execute_result"
    }
   ],
   "source": [
    "# img_one=combined_image\n",
    "img_one.shape"
   ]
  },
  {
   "cell_type": "code",
   "execution_count": 142,
   "metadata": {},
   "outputs": [],
   "source": [
    "# attns_list = []\n",
    "# model.eval()\n",
    "\n",
    "# with torch.inference_mode():\n",
    "#     out = model(torch.tensor(img_one))\n",
    "#     # print(img_one.shape)\n",
    "    \n",
    "    \n",
    "\n",
    "# attns = torch.stack(attns_list)\n",
    "# attns = attns.squeeze(dim=1) #remove the image dimension\n",
    "# attns = attns.permute(1, 0, 2, 3)  # new shape is head x layer x q x k\n",
    "# attns.shape"
   ]
  },
  {
   "cell_type": "code",
   "execution_count": 143,
   "metadata": {},
   "outputs": [
    {
     "data": {
      "text/plain": [
       "(5, 32, 32, 3)"
      ]
     },
     "execution_count": 143,
     "metadata": {},
     "output_type": "execute_result"
    }
   ],
   "source": [
    "images.shape"
   ]
  },
  {
   "cell_type": "code",
   "execution_count": 144,
   "metadata": {},
   "outputs": [
    {
     "data": {
      "text/plain": [
       "(1, 32, 32, 3)"
      ]
     },
     "execution_count": 144,
     "metadata": {},
     "output_type": "execute_result"
    }
   ],
   "source": [
    "image_idx\n",
    "images[image_idx:image_idx+1].shape\n"
   ]
  },
  {
   "cell_type": "markdown",
   "metadata": {},
   "source": [
    "# Getting Attention maps"
   ]
  },
  {
   "cell_type": "code",
   "execution_count": 145,
   "metadata": {},
   "outputs": [],
   "source": [
    "\n",
    "pass"
   ]
  },
  {
   "cell_type": "code",
   "execution_count": 146,
   "metadata": {},
   "outputs": [],
   "source": [
    "# img_one = images[image_idx:image_idx+1]"
   ]
  },
  {
   "cell_type": "code",
   "execution_count": 147,
   "metadata": {},
   "outputs": [],
   "source": [
    "# img_one.shape"
   ]
  },
  {
   "cell_type": "code",
   "execution_count": 148,
   "metadata": {},
   "outputs": [],
   "source": [
    "# img=img_one"
   ]
  },
  {
   "cell_type": "code",
   "execution_count": 149,
   "metadata": {},
   "outputs": [],
   "source": [
    "# attentions[0].shape"
   ]
  },
  {
   "cell_type": "code",
   "execution_count": 150,
   "metadata": {},
   "outputs": [],
   "source": [
    "# resize_transform = transforms.Resize((224, 224))\n",
    "# upsampled_image = resize_transform(image)"
   ]
  },
  {
   "cell_type": "code",
   "execution_count": null,
   "metadata": {},
   "outputs": [],
   "source": [
    "\n"
   ]
  },
  {
   "cell_type": "code",
   "execution_count": 151,
   "metadata": {},
   "outputs": [],
   "source": [
    "# type=3\n",
    "# if(type==3):\n",
    "#     transformed_image = pretrained_vit_transforms(image)\n",
    "\n",
    "# transformed_image.shape\n"
   ]
  },
  {
   "cell_type": "code",
   "execution_count": 152,
   "metadata": {
    "execution": {
     "iopub.status.busy": "2024-09-25T14:01:03.841974Z",
     "iopub.status.idle": "2024-09-25T14:01:03.842372Z",
     "shell.execute_reply": "2024-09-25T14:01:03.842195Z",
     "shell.execute_reply.started": "2024-09-25T14:01:03.842175Z"
    },
    "trusted": true
   },
   "outputs": [
    {
     "name": "stdout",
     "output_type": "stream",
     "text": [
      "tensor([[[0.0163, 0.0151, 0.0149,  ..., 0.0150, 0.0152, 0.0156],\n",
      "         [0.0156, 0.0131, 0.0130,  ..., 0.0137, 0.0134, 0.0141],\n",
      "         [0.0159, 0.0135, 0.0131,  ..., 0.0139, 0.0136, 0.0146],\n",
      "         ...,\n",
      "         [0.0159, 0.0141, 0.0133,  ..., 0.0143, 0.0140, 0.0144],\n",
      "         [0.0156, 0.0139, 0.0133,  ..., 0.0141, 0.0139, 0.0143],\n",
      "         [0.0161, 0.0125, 0.0122,  ..., 0.0128, 0.0124, 0.0137]]],\n",
      "       grad_fn=<SliceBackward0>)\n"
     ]
    },
    {
     "data": {
      "text/plain": [
       "torch.Size([65])"
      ]
     },
     "execution_count": 152,
     "metadata": {},
     "output_type": "execute_result"
    }
   ],
   "source": [
    "import torch\n",
    "\n",
    "# Define batch size and image dimensions\n",
    "batch_size = 4\n",
    "num_channels = 3  # RGB channels\n",
    "image_height = 32\n",
    "image_width =32\n",
    "\n",
    "# image_height = 224\n",
    "# image_width =224\n",
    "\n",
    "# Generate a random tensor to simulate input images\n",
    "# input_images = torch.randn(batch_size, num_channels, image_height, image_width)\n",
    "\n",
    "# print(input_images.shape)\n",
    "# --------------------------------------------------\n",
    "# print(img_one.shape)\n",
    "model.eval()\n",
    "# outputs, attentions = model(input_images.to(device),True)\n",
    "# out, attentions = model(torch.tensor(np.transpose(img_one, (0, 3, 1, 2))),True)\n",
    "out, attentions = model(torch.tensor(img_one),True)\n",
    "# attentions.shape\n",
    "\n",
    "# Example: Access the attention scores for layer 3, head 1\n",
    "layer_idx = 2  # Layer index (0-based)\n",
    "head_idx = 0   # Head index (0-based)\n",
    "\n",
    "specific_head_attention = attentions[layer_idx][:, head_idx, :, :]\n",
    "print(specific_head_attention)\n",
    "specific_head_attention.shape\n",
    "specific_head_attention[0,1].shape\n",
    "\n"
   ]
  },
  {
   "cell_type": "markdown",
   "metadata": {},
   "source": [
    "# Getting layerwise and headwise attention weights\n"
   ]
  },
  {
   "cell_type": "code",
   "execution_count": 153,
   "metadata": {},
   "outputs": [
    {
     "data": {
      "text/plain": [
       "tensor([0.0147, 0.0141, 0.0143, 0.0144, 0.0135, 0.0167, 0.0161, 0.0163, 0.0165,\n",
       "        0.0142, 0.0144, 0.0149, 0.0140, 0.0166, 0.0149, 0.0152, 0.0164, 0.0147,\n",
       "        0.0152, 0.0149, 0.0141, 0.0169, 0.0168, 0.0167, 0.0169, 0.0169, 0.0135,\n",
       "        0.0151, 0.0142, 0.0156, 0.0160, 0.0167, 0.0168, 0.0171, 0.0148, 0.0159,\n",
       "        0.0140, 0.0167, 0.0142, 0.0161, 0.0167, 0.0153, 0.0165, 0.0154, 0.0146,\n",
       "        0.0165, 0.0146, 0.0151, 0.0169, 0.0159, 0.0176, 0.0157, 0.0135, 0.0141,\n",
       "        0.0146, 0.0152, 0.0156, 0.0148, 0.0152, 0.0163, 0.0160, 0.0143, 0.0138,\n",
       "        0.0141, 0.0151])"
      ]
     },
     "execution_count": 153,
     "metadata": {},
     "output_type": "execute_result"
    }
   ],
   "source": [
    "import torch\n",
    "\n",
    "def get_attention_map_for_query(attentions, layer_idx, head_idx, query_patch_idx):\n",
    "    \"\"\"\n",
    "    Extracts the attention map for a specific query patch at a given layer and head index.\n",
    "\n",
    "    Args:\n",
    "        attentions (torch.Tensor): The attention tensor of shape (num_layers, batch_size, num_heads, seq_len, seq_len).\n",
    "        layer_idx (int): The index of the layer (0-based).\n",
    "        head_idx (int): The index of the head (0-based).\n",
    "        query_patch_idx (int): The index of the query patch (0-based).\n",
    "\n",
    "    Returns:\n",
    "        torch.Tensor: The attention weights for the specified query patch.\n",
    "    \"\"\"\n",
    "    attns = [i.squeeze(0).detach() for i in attentions]\n",
    "    attns = torch.stack(attns).permute(1, 0, 2,3)\n",
    "    # print(attns.shape)\n",
    "    # print(attns[head_idx][layer_idx][query_patch_idx].shape)\n",
    "\n",
    "    return attns[head_idx][layer_idx][query_patch_idx]\n",
    "\n",
    "    \n",
    "    # return attention_for_query_patch.squeeze()\n",
    "\n",
    "get_attention_map_for_query(attentions, layer_idx=0, head_idx=0, query_patch_idx=0)\n"
   ]
  },
  {
   "cell_type": "code",
   "execution_count": 154,
   "metadata": {},
   "outputs": [],
   "source": [
    "# out, attentions = model(torch.tensor(np.transpose(img_one, (0, 3, 1, 2))),True)"
   ]
  },
  {
   "cell_type": "code",
   "execution_count": 155,
   "metadata": {},
   "outputs": [
    {
     "data": {
      "text/plain": [
       "torch.Size([1, 65, 65])"
      ]
     },
     "execution_count": 155,
     "metadata": {},
     "output_type": "execute_result"
    }
   ],
   "source": [
    "specific_head_attention.shape"
   ]
  },
  {
   "cell_type": "code",
   "execution_count": 156,
   "metadata": {
    "trusted": true
   },
   "outputs": [],
   "source": [
    "# attns=specific_head_attention\n"
   ]
  },
  {
   "cell_type": "code",
   "execution_count": 157,
   "metadata": {},
   "outputs": [],
   "source": [
    "# len(attns)"
   ]
  },
  {
   "cell_type": "code",
   "execution_count": 158,
   "metadata": {},
   "outputs": [],
   "source": [
    "attns = [i.squeeze(0).detach() for i in attentions]\n",
    "attns = torch.stack(attns).permute(1, 0, 2,3)\n"
   ]
  },
  {
   "cell_type": "code",
   "execution_count": null,
   "metadata": {},
   "outputs": [],
   "source": []
  },
  {
   "cell_type": "code",
   "execution_count": null,
   "metadata": {},
   "outputs": [],
   "source": []
  },
  {
   "cell_type": "code",
   "execution_count": 159,
   "metadata": {},
   "outputs": [
    {
     "data": {
      "text/plain": [
       "torch.Size([4, 6, 65, 65])"
      ]
     },
     "execution_count": 159,
     "metadata": {},
     "output_type": "execute_result"
    }
   ],
   "source": [
    "attns.shape"
   ]
  },
  {
   "cell_type": "code",
   "execution_count": 160,
   "metadata": {},
   "outputs": [],
   "source": [
    "import cv2"
   ]
  },
  {
   "cell_type": "code",
   "execution_count": 161,
   "metadata": {},
   "outputs": [],
   "source": [
    "def get_threshold(attn_grid,threshold,quantile_value=0.9):\n",
    "    if threshold == 'mean':\n",
    "        threshold = attn_grid.mean()\n",
    "    elif threshold == 'median':\n",
    "        threshold = attn_grid.median()\n",
    "    elif threshold == 'decile':\n",
    "        threshold = torch.quantile(attn_grid, 0.9)\n",
    "    # elif threshold == 'otsu':\n",
    "    #     # maximise interclass seperation\n",
    "    #     # threshold, _ = cv2.threshold(attn_grid.cpu().numpy(), 0, 1, cv2.THRESH_BINARY + cv2.THRESH_OTSU)\n",
    "    #     threshold = ski.filters.threshold_otsu(attn_row.cpu().numpy())\n",
    "        # attn_grid = torch.tensor(binary_map, dtype=torch.float32)\n",
    "    elif threshold == 'other':\n",
    "        # Adjust quantile_value to get the top x% where x = quantile_value * 100\n",
    "        threshold = torch.quantile(attn_grid, quantile_value)\n",
    "    else:\n",
    "        threshold = threshold # You can adjust this threshold as needed\n",
    "    return threshold"
   ]
  },
  {
   "cell_type": "code",
   "execution_count": 162,
   "metadata": {},
   "outputs": [],
   "source": [
    "import numpy as np\n",
    "import matplotlib.pyplot as plt\n",
    "from matplotlib.colors import LinearSegmentedColormap\n",
    "# Define rainbow colors from violet to red\n",
    "rainbow_colors = [\n",
    "    (148/255, 0/255, 211/255),  # violet\n",
    "    (75/255, 0/255, 130/255),   # indigo\n",
    "    (0/255, 0/255, 255/255),    # blue\n",
    "    (0/255, 255/255, 0/255),    # green\n",
    "    (255/255, 255/255, 0/255),  # yellow\n",
    "    (255/255, 127/255, 0/255),  # orange\n",
    "    (255/255, 0/255, 0/255)     # red\n",
    "]\n",
    "# Create the colormap\n",
    "rainbow_cmap = LinearSegmentedColormap.from_list(\"rainbow_cmap\", rainbow_colors)\n"
   ]
  },
  {
   "cell_type": "code",
   "execution_count": 163,
   "metadata": {},
   "outputs": [],
   "source": [
    "# # Example data for the heatmap\n",
    "# data = np.random.rand(10, 10)  # Random 10x10 matrix\n",
    "\n",
    "# # Plot the heatmap with the custom colormap\n",
    "# plt.imshow(data, cmap=rainbow_cmap, interpolation='nearest')\n",
    "# plt.colorbar(label=\"Intensity\")\n",
    "# plt.title(\"Rainbow Heatmap: Violet (low) to Red (high)\")\n",
    "# plt.show()\n"
   ]
  },
  {
   "cell_type": "code",
   "execution_count": 164,
   "metadata": {},
   "outputs": [],
   "source": [
    "import torch\n",
    "import matplotlib.pyplot as plt\n",
    "import seaborn as sns\n",
    "from matplotlib.colors import ListedColormap, BoundaryNorm\n",
    "\n",
    "def plot_attn_heatmap(attn_row, q_idx, binary=False, threshold = 0.5, figsize = (4, 4),normalize_flag = False, ax=None, overlay = False,quantile_value=0.9,model_type=1, img = None):\n",
    "    # Ensure the tensor is of shape (65,)\n",
    "    # assert attn_row.shape == (65,), \"attn_row should have a shape of (65,)\"\n",
    "    \n",
    "    # Remove the first element (corresponding to the [CLS] token if present)\n",
    "    attn_grid = attn_row[1:]\n",
    "    \n",
    "    # Scaling of all values in attn_grid\n",
    "    if normalize_flag:\n",
    "        # print(\"normalized\")\n",
    "        attn_grid = (attn_grid - attn_grid.min()) / (attn_grid.max() - attn_grid.min())\n",
    "    \n",
    "    # attn_grid += \n",
    "    # Apply binary thresholding if specified\n",
    "    if binary:\n",
    "        threshold = get_threshold(attn_grid, threshold,quantile_value)        \n",
    "        attn_grid = torch.where(attn_grid >= threshold, 1.0, 0.0)\n",
    "    \n",
    "    # Reshape to 8x8\n",
    "    # if(model_type in [1,2,3]):\n",
    "    if(model_type in [1,2]):\n",
    "        attn_grid = attn_grid.view(8, 8)\n",
    "    else:\n",
    "        # attn_grid=attn_grid.view(56,56)\n",
    "        attn_grid=attn_grid.view(14,14)\n",
    "        \n",
    "\n",
    "    query_coord = ((q_idx-1) // 8, (q_idx-1) % 8)\n",
    "    \n",
    "    # Define custom colormap: red, yellow, and blue (only applies if not binary)\n",
    "    cmap = ListedColormap(['red', 'yellow', 'blue']) if not binary else ListedColormap(['blue', 'red'])\n",
    "    \n",
    "    # Define boundaries for the colormap (only applies if not binary)\n",
    "    bounds = [0, 0.33, 0.66, 1.0] if not binary else [0, threshold, 1.0]\n",
    "    \n",
    "    # Define normalization between 0 and 1 using boundaries\n",
    "    norm = BoundaryNorm(bounds, cmap.N)\n",
    "\n",
    "    # Plot the heatmap\n",
    "    # plt.figure(figsize=figsize)\n",
    "    ax_flag = True\n",
    "\n",
    "    # if ax is None:\n",
    "    #     plt.figure(figsize=figsize)\n",
    "    #     ax_flag = False\n",
    "    #     ax = plt.gca()  # Get the current axis if not provided\n",
    "    #     # print(\"rescaled\")\n",
    "\n",
    "    if overlay and img is not None:\n",
    "        # Remove the batch dimension\n",
    "        # img = np.transpose(img, (1, 2, 0))  # Convert to HxWxC format\n",
    "        attn_grid = attn_grid.cpu().numpy()\n",
    "        target_size = img.shape[1:3]\n",
    "        upsampled_attn_grid = cv2.resize(attn_grid, target_size, interpolation=cv2.INTER_NEAREST)\n",
    "        mask = np.expand_dims(upsampled_attn_grid, axis=-1)  # Shape: (64, 64, 1)\n",
    "        masked_img = img.squeeze(0) * mask  # Shape: (64, 64, 3)\n",
    "        target_size = (attn_grid.shape[0], attn_grid.shape[1])\n",
    "\n",
    "        masked_img = np.clip(masked_img, a_min=0, a_max=1)\n",
    "\n",
    "        ax.imshow(masked_img)\n",
    "    else:\n",
    "        # sns.heatmap(attn_grid.cpu().numpy(), annot=False, cmap=cmap, norm=norm, cbar=not(ax_flag), ax=ax, linewidths=0.5, linecolor='black')\n",
    "        # sns.heatmap(attn_grid.cpu().numpy(), annot=False, cmap='jet', cbar=not(ax_flag), ax=ax, linewidths=0.5, linecolor='black')\n",
    "        # Upsample the attention matrix to the desired size (e.g., 100x100 as in your image)\n",
    "    #    attention_matrix = np.random.rand(14, 14)  # Replace this with your actual attention matrix\n",
    "    #    input_image = np.random.rand(32, 32, 3)  # Replace this with your actual image\n",
    "\n",
    "        # Upsample the attention matrix to the desired size (e.g., 32x32)\n",
    "        upsampled_attention = cv2.resize(attn_grid.cpu().numpy(), (32, 32), interpolation=cv2.INTER_LINEAR)\n",
    "\n",
    "        # Create a figure with two subplots (1 row, 2 columns)\n",
    "        fig, axes = plt.subplots(1, 2, figsize=(10, 5))\n",
    "\n",
    "        # Plot the upsampled attention heatmap in the first subplot\n",
    "        axes[0].imshow(upsampled_attention, cmap='jet', interpolation='nearest')\n",
    "        axes[0].set_title(\"Upsampled Attention Heatmap\")\n",
    "        axes[0].set_xlabel(\"X-axis\")\n",
    "        axes[0].set_ylabel(\"Y-axis\")\n",
    "        fig.colorbar(plt.cm.ScalarMappable(cmap='jet'), ax=axes[0], label=\"Attention Weights\")\n",
    "\n",
    "        # Plot the input image (or another visualization) in the second subplot\n",
    "        axes[1].set_title(\"Input Image\")\n",
    "        axes[1].set_xlabel(\"X-axis\")\n",
    "        axes[1].set_ylabel(\"Y-axis\")\n",
    "        axes[1].imshow(img[0])\n",
    "\n",
    "        # Show the plots\n",
    "        plt.tight_layout()\n",
    "        plt.show()\n",
    "        \n",
    "    # # Placing a black dot at the query position\n",
    "    # x = query_coord[1] + 0.5\n",
    "    # y  = query_coord[0] + 0.5\n",
    "    # x *= 4\n",
    "    # y *= 4\n",
    "    \n",
    "    # ax.scatter(x,y , color='black', s=100, edgecolor='white', zorder=2)\n",
    "    \n",
    "    # # Set title only if not using an existing axis\n",
    "    # if ax_flag is False:\n",
    "    #     plt.title(\"Attention Heatmap\")\n",
    "    #     plt.show()\n",
    "    # return threshold"
   ]
  },
  {
   "cell_type": "code",
   "execution_count": 165,
   "metadata": {},
   "outputs": [],
   "source": [
    "# img.shape"
   ]
  },
  {
   "cell_type": "code",
   "execution_count": 166,
   "metadata": {},
   "outputs": [],
   "source": [
    "# img=img_one"
   ]
  },
  {
   "cell_type": "code",
   "execution_count": 167,
   "metadata": {},
   "outputs": [
    {
     "data": {
      "text/plain": [
       "(1, 32, 32, 3)"
      ]
     },
     "execution_count": 167,
     "metadata": {},
     "output_type": "execute_result"
    }
   ],
   "source": [
    "img.shape\n",
    "# type(img)"
   ]
  },
  {
   "cell_type": "code",
   "execution_count": 168,
   "metadata": {},
   "outputs": [],
   "source": [
    "# TK heatmap"
   ]
  },
  {
   "cell_type": "code",
   "execution_count": null,
   "metadata": {},
   "outputs": [],
   "source": []
  },
  {
   "cell_type": "markdown",
   "metadata": {},
   "source": [
    "## Older stuff"
   ]
  },
  {
   "cell_type": "code",
   "execution_count": 169,
   "metadata": {},
   "outputs": [],
   "source": [
    "def plot_all_heatmaps_for_head(attns, head_idx, layer_idx, binary=False, threshold='otsu', figsize=(16, 16),overlay = True,quantile_value=0.9,size=32):\n",
    "    # Create a figure with an 8x8 grid of subplots\n",
    "    n=8\n",
    "    if(size==224):\n",
    "        n=16\n",
    "\n",
    "\n",
    "    fig, axs = plt.subplots(n, n, figsize=figsize)\n",
    "    fig.suptitle(f\"Attention Heatmaps for Head {head_idx}, Layer {layer_idx}\", fontsize=16)\n",
    "\n",
    "    # Loop over all q_idxs from 1 to 64\n",
    "    for q_idx in tqdm(range(1, n*n+1), 'Processing query patches'):\n",
    "        attn_row = attns[head_idx][layer_idx][q_idx]\n",
    "        \n",
    "        # Get the subplot position\n",
    "        ax = axs[(q_idx-1) // n, (q_idx-1) % n]\n",
    "        \n",
    "        \n",
    "        # Call the modified plot_attn_heatmap function with the provided axis\n",
    "        plot_attn_heatmap(attn_row, q_idx, binary=binary, threshold=threshold, figsize=(4, 4), ax=ax,overlay = overlay,quantile_value=quantile_value)\n",
    "        \n",
    "        # Remove axis labels for a cleaner look\n",
    "        ax.set_xticks([])\n",
    "        ax.set_yticks([])\n",
    "        ax.set_title(f'Query {q_idx}')\n",
    "    \n",
    "    plt.tight_layout()\n",
    "    plt.subplots_adjust(top=0.92)  # Adjust the top to make room for the title\n",
    "    plt.show()\n"
   ]
  },
  {
   "cell_type": "code",
   "execution_count": 170,
   "metadata": {},
   "outputs": [],
   "source": [
    "## tk yajat"
   ]
  },
  {
   "cell_type": "code",
   "execution_count": 171,
   "metadata": {},
   "outputs": [
    {
     "name": "stdout",
     "output_type": "stream",
     "text": [
      "Threshold is 1.67%\n",
      "\n"
     ]
    }
   ],
   "source": [
    "\n",
    "# Example usage:\n",
    "head_idx = 3\n",
    "layer_idx = 5\n",
    "\n",
    "'''Choose one of below threhold methods :'''\n",
    "# threshold_method = 0.5\n",
    "# threshold_method = 'mean'\n",
    "# threshold_method = 'median'\n",
    "# threshold_method = 'decile' #top 10% attnetion\n",
    "# threshold_method = 'otsu' #maximises seperation in chosen and not chosen classes\n",
    "threshold_method = 'other'\n",
    "\n",
    "# High attention regions are transparent and low attnetion regions are black\n",
    "\n",
    "threshold = get_threshold(attns[head_idx][layer_idx], threshold_method,quantile_value=0.9)\n",
    "print(f'Threshold is {threshold*100:.2f}%')\n",
    "print()\n",
    "# plot_all_heatmaps_for_head(attns, head_idx=head_idx, layer_idx=layer_idx, binary=True, threshold='other',overlay = True,quantile_value=0.9)"
   ]
  },
  {
   "cell_type": "code",
   "execution_count": 240,
   "metadata": {},
   "outputs": [],
   "source": [
    "## helper functions\n",
    "def select_image(img_name, img_test_1,  img_test_2):\n",
    "    if img_name == 'single':\n",
    "        _img = img_test_1\n",
    "    elif img_name == 'combined':\n",
    "        _img = img_test_2\n",
    "    else:\n",
    "        raise Exception(f\"Invalid img_name {img_name} | img_name must be single or combined\")\n",
    "\n",
    "    return _img\n",
    "\n",
    "\n",
    "def fetch_attentions(_img, model):\n",
    "    \n",
    "    out, _attentions = model(torch.tensor(_img),True)\n",
    "    _attns = [i.squeeze(0).detach() for i in _attentions]\n",
    "    _attns = torch.stack(_attns).permute(1, 0, 2,3)\n",
    "    return out.detach(), _attns"
   ]
  },
  {
   "cell_type": "markdown",
   "metadata": {},
   "source": [
    "# We need a good example image"
   ]
  },
  {
   "cell_type": "code",
   "execution_count": 219,
   "metadata": {},
   "outputs": [
    {
     "name": "stdout",
     "output_type": "stream",
     "text": [
      "Downloading https://www.cs.toronto.edu/~kriz/cifar-10-python.tar.gz to ./data\\cifar-10-python.tar.gz\n"
     ]
    },
    {
     "name": "stderr",
     "output_type": "stream",
     "text": [
      "100%|██████████| 170498071/170498071 [00:27<00:00, 6175854.26it/s]\n"
     ]
    },
    {
     "name": "stdout",
     "output_type": "stream",
     "text": [
      "Extracting ./data\\cifar-10-python.tar.gz to ./data\n"
     ]
    }
   ],
   "source": [
    "import torch\n",
    "import torchvision\n",
    "import numpy as np\n",
    "import random\n",
    "import matplotlib.pyplot as plt\n",
    "from torchvision.transforms import Resize, ToPILImage, ToTensor\n",
    "\n",
    "# Load CIFAR-10 dataset\n",
    "cifar10 = torchvision.datasets.CIFAR10(root='./data', train=False, download=True)\n"
   ]
  },
  {
   "cell_type": "code",
   "execution_count": null,
   "metadata": {},
   "outputs": [],
   "source": [
    "# good images :train : 17888\n",
    "# good images : test : 1493"
   ]
  },
  {
   "cell_type": "code",
   "execution_count": 331,
   "metadata": {},
   "outputs": [],
   "source": [
    "def scale_up_new(original_image_np):\n",
    "    \n",
    "    # Define upsampling transform\n",
    "    transform = Resize((224, 224))\n",
    "\n",
    "    # Upsample the image\n",
    "    upsampled_image = transform(ToPILImage()(original_image_np))\n",
    "    upsampled_image_np = np.array(upsampled_image)\n",
    "    original_image_np = (original_image_np/255).astype('float32')\n",
    "    upsampled_image_np = (upsampled_image_np/255).astype('float32')\n",
    "    return upsampled_image_np\n"
   ]
  },
  {
   "cell_type": "code",
   "execution_count": 332,
   "metadata": {},
   "outputs": [
    {
     "name": "stdout",
     "output_type": "stream",
     "text": [
      "1493\n"
     ]
    },
    {
     "data": {
      "image/png": "[encoded data removed]",
      "text/plain": [
       "<Figure size 800x400 with 2 Axes>"
      ]
     },
     "metadata": {},
     "output_type": "display_data"
    }
   ],
   "source": [
    "\n",
    "# Fetch a random image index\n",
    "# random_idx = random.randint(0, len(cifar10) - 1)\n",
    "random_idx = 1493\n",
    "print(random_idx)\n",
    "\n",
    "# Get the image and its label\n",
    "original_image, label = cifar10[random_idx]\n",
    "\n",
    "# Convert image to NumPy format\n",
    "original_image_np = np.array(original_image)\n",
    "\n",
    "# Define upsampling transform\n",
    "transform = Resize((224, 224))\n",
    "\n",
    "upsampled_image_np = scale_up_new(original_image_np)\n",
    "\n",
    "# Display both images\n",
    "plt.figure(figsize=(8, 4))\n",
    "\n",
    "# Original image (32x32)\n",
    "plt.subplot(1, 2, 1)\n",
    "plt.title(\"Original 32x32 Image\")\n",
    "plt.imshow(original_image_np)\n",
    "plt.axis(\"off\")\n",
    "\n",
    "# Upsampled image (224x224)\n",
    "plt.subplot(1, 2, 2)\n",
    "plt.title(\"Upsampled 224x224 Image\")\n",
    "plt.imshow(upsampled_image_np)\n",
    "plt.axis(\"off\")\n",
    "\n",
    "plt.show()\n"
   ]
  },
  {
   "cell_type": "code",
   "execution_count": 216,
   "metadata": {},
   "outputs": [
    {
     "data": {
      "text/plain": [
       "(32, 32, 3)"
      ]
     },
     "execution_count": 216,
     "metadata": {},
     "output_type": "execute_result"
    }
   ],
   "source": [
    "original_image_np.shape"
   ]
  },
  {
   "cell_type": "markdown",
   "metadata": {},
   "source": [
    "# Final pipeline tk"
   ]
  },
  {
   "cell_type": "code",
   "execution_count": null,
   "metadata": {},
   "outputs": [],
   "source": []
  },
  {
   "cell_type": "markdown",
   "metadata": {},
   "source": [
    "## Model selection"
   ]
  },
  {
   "cell_type": "code",
   "execution_count": 173,
   "metadata": {},
   "outputs": [],
   "source": [
    "## Hyper\n",
    "MODEL_TYPE = 3"
   ]
  },
  {
   "cell_type": "code",
   "execution_count": 174,
   "metadata": {},
   "outputs": [],
   "source": [
    "if MODEL_TYPE == 1:\n",
    "    state_dict_file = \"cifar100_4head.pth\"   \n",
    "    NUM_CLASSES = 100 \n",
    "elif MODEL_TYPE == 2:\n",
    "    state_dict_file = \"cifar100_1head.pth\"\n",
    "    NUM_CLASSES = 100 \n",
    "elif MODEL_TYPE == 3:\n",
    "    state_dict_file = \"pretrain_ft_cifar100.pth\"\n",
    "    NUM_CLASSES = 100 \n",
    "    pass\n",
    "elif MODEL_TYPE == 4:\n",
    "    raise Exception(\"Not implemented yet\")\n",
    "    pass"
   ]
  },
  {
   "cell_type": "code",
   "execution_count": 176,
   "metadata": {},
   "outputs": [
    {
     "data": {
      "application/vnd.jupyter.widget-view+json": {
       "model_id": "b936bbbf193a418e945a9dc5a07b009d",
       "version_major": 2,
       "version_minor": 0
      },
      "text/plain": [
       "model.safetensors:  42%|####2     | 147M/346M [00:00<?, ?B/s]"
      ]
     },
     "metadata": {},
     "output_type": "display_data"
    },
    {
     "name": "stderr",
     "output_type": "stream",
     "text": [
      "Some weights of ViTForImageClassification were not initialized from the model checkpoint at google/vit-base-patch16-224-in21k and are newly initialized: ['classifier.bias', 'classifier.weight']\n",
      "You should probably TRAIN this model on a down-stream task to be able to use it for predictions and inference.\n"
     ]
    }
   ],
   "source": [
    "args = init_parser()\n",
    "config = {\n",
    "    \"img_size\": 32,           # CIFAR-10 image size (32x32)\n",
    "    #  \"img_size\": 256, \n",
    "    \"hflip\": True,            # Horizontal flip augmentation (common for CIFAR-10)\n",
    "    \"num_channels\": 3,        # CIFAR-10 has 3 channels (RGB)\n",
    "    # \"num_classes\": 10,        # CIFAR-10 has 10 classes\n",
    "    \"num_classes\": NUM_CLASSES ,        # CIFAR-10 has 10 classes\n",
    "    \"cm\": False,  \n",
    "    \n",
    "    \"dataset\":'cifar100',  \n",
    "    #  \"dataset\":'cifar10',      \n",
    "    #     \"dataset\":'fmnist',\n",
    "    \"padding\": 4,             # Typical padding used in CIFAR-10 augmentation\n",
    "    \"mean\": [0.4914, 0.4822, 0.4465],  # Precomputed mean values for CIFAR-10 (RGB)\n",
    "    \"std\": [0.2023, 0.1994, 0.2010]  ,  # Precomputed standard deviation for CIFAR-10 (RGB)\n",
    "    \"epochs\"  : 120 , \n",
    "}\n",
    "\n",
    "\n",
    "\n",
    "update_config(config,type=MODEL_TYPE)\n",
    "\n",
    "args = update_args(args, config)\n",
    "\n",
    "# print_args(args)\n",
    "if MODEL_TYPE in [1,2]:\n",
    "    model = ViT(args).to(device)\n",
    "elif MODEL_TYPE == 3:\n",
    "    # load the other vit\n",
    "    # model=Pretrained_ViT().to(device)\n",
    "    model=get_Pretrained_Vit()\n",
    "    # raise Exception(\"Not implemented yet\")\n",
    "    # pass\n",
    "elif MODEL_TYPE == 4:\n",
    "    # idk\n",
    "    raise Exception(\"Not implemented yet\")\n",
    "    pass"
   ]
  },
  {
   "cell_type": "code",
   "execution_count": null,
   "metadata": {},
   "outputs": [],
   "source": []
  },
  {
   "cell_type": "code",
   "execution_count": null,
   "metadata": {},
   "outputs": [],
   "source": []
  },
  {
   "cell_type": "code",
   "execution_count": 177,
   "metadata": {},
   "outputs": [
    {
     "name": "stdout",
     "output_type": "stream",
     "text": [
      "Model loaded from ..\\Pretrained_checkpoints\\pretrain_ft_cifar100.pth\n"
     ]
    }
   ],
   "source": [
    "\n",
    "load_model_state_dict(model, relative_path_to_checkpoints=os.path.join('..', 'Pretrained_checkpoints'), filename=state_dict_file)\n",
    "model.eval()\n",
    "pass"
   ]
  },
  {
   "cell_type": "code",
   "execution_count": 291,
   "metadata": {},
   "outputs": [
    {
     "data": {
      "text/plain": [
       "((1, 3, 32, 32), (1, 3, 32, 32))"
      ]
     },
     "execution_count": 291,
     "metadata": {},
     "output_type": "execute_result"
    }
   ],
   "source": [
    "img_test_1 = original_image_np\n",
    "# img_test_1 = images[4]\n",
    "img_test_1 = img_test_1.transpose(2,0,1)\n",
    "img_test_1 =  np.expand_dims(img_test_1, axis=0)  \n",
    "img_test_2 = img_one\n",
    "img_test_1.shape, img_test_2.shape"
   ]
  },
  {
   "cell_type": "markdown",
   "metadata": {},
   "source": [
    "### select image"
   ]
  },
  {
   "cell_type": "code",
   "execution_count": 292,
   "metadata": {},
   "outputs": [
    {
     "data": {
      "text/plain": [
       "array([[[[0.03529412, 0.02745098, 0.08627451, ..., 0.60784316,\n",
       "          0.6       , 0.5882353 ],\n",
       "         [0.01176471, 0.01176471, 0.06666667, ..., 0.61960787,\n",
       "          0.60784316, 0.6       ],\n",
       "         [0.00784314, 0.00784314, 0.05882353, ..., 0.79607844,\n",
       "          0.7921569 , 0.78431374],\n",
       "         ...,\n",
       "         [0.23921569, 0.21960784, 0.20392157, ..., 0.45882353,\n",
       "          0.45882353, 0.45882353],\n",
       "         [0.22352941, 0.22745098, 0.22352941, ..., 0.48235294,\n",
       "          0.50980395, 0.4862745 ],\n",
       "         [0.23137255, 0.23137255, 0.21568628, ..., 0.5411765 ,\n",
       "          0.57254905, 0.5372549 ]],\n",
       "\n",
       "        [[0.03529412, 0.02745098, 0.08627451, ..., 0.5019608 ,\n",
       "          0.49411765, 0.47843137],\n",
       "         [0.01176471, 0.01176471, 0.06666667, ..., 0.64705884,\n",
       "          0.6392157 , 0.627451  ],\n",
       "         [0.00784314, 0.00784314, 0.05490196, ..., 0.7921569 ,\n",
       "          0.7882353 , 0.78039217],\n",
       "         ...,\n",
       "         [0.23529412, 0.21568628, 0.2       , ..., 0.41960785,\n",
       "          0.43529412, 0.4392157 ],\n",
       "         [0.21960784, 0.22352941, 0.21960784, ..., 0.40784314,\n",
       "          0.42352942, 0.42352942],\n",
       "         [0.22745098, 0.22745098, 0.21176471, ..., 0.34509805,\n",
       "          0.30588236, 0.34117648]],\n",
       "\n",
       "        [[0.03529412, 0.02745098, 0.08627451, ..., 0.49803922,\n",
       "          0.49411765, 0.49411765],\n",
       "         [0.01176471, 0.01176471, 0.06666667, ..., 0.6666667 ,\n",
       "          0.6627451 , 0.6627451 ],\n",
       "         [0.00784314, 0.00784314, 0.05882353, ..., 0.85882354,\n",
       "          0.8627451 , 0.8627451 ],\n",
       "         ...,\n",
       "         [0.21960784, 0.2       , 0.18431373, ..., 0.44705883,\n",
       "          0.4627451 , 0.4745098 ],\n",
       "         [0.20392157, 0.20784314, 0.20392157, ..., 0.3882353 ,\n",
       "          0.41568628, 0.41960785],\n",
       "         [0.21176471, 0.21176471, 0.19607843, ..., 0.32941177,\n",
       "          0.32156864, 0.34117648]]]], dtype=float32)"
      ]
     },
     "execution_count": 292,
     "metadata": {},
     "output_type": "execute_result"
    }
   ],
   "source": [
    "img_test_1"
   ]
  },
  {
   "cell_type": "code",
   "execution_count": 293,
   "metadata": {},
   "outputs": [
    {
     "data": {
      "text/plain": [
       "((1, 3, 32, 32), (1, 3, 32, 32))"
      ]
     },
     "execution_count": 293,
     "metadata": {},
     "output_type": "execute_result"
    }
   ],
   "source": [
    "img_test_1.shape, img_test_2.shape"
   ]
  },
  {
   "cell_type": "code",
   "execution_count": 313,
   "metadata": {},
   "outputs": [],
   "source": [
    "\n",
    "\n",
    "_img2 =  np.expand_dims(upsampled_image_np.transpose(2,0,1), axis=0)  "
   ]
  },
  {
   "cell_type": "code",
   "execution_count": 314,
   "metadata": {},
   "outputs": [
    {
     "data": {
      "text/plain": [
       "numpy.ndarray"
      ]
     },
     "execution_count": 314,
     "metadata": {},
     "output_type": "execute_result"
    }
   ],
   "source": [
    "'''hyper'''\n",
    "img_name = 'single'\n",
    "# img_name = 'combined'\n",
    "\n",
    "img = select_image(img_name, img_test_1,  img_test_2)\n",
    "# ------------------\n",
    "img = _img2\n",
    "\n",
    "if(MODEL_TYPE==3 or MODEL_TYPE==4) and img.shape[-1] != 224:\n",
    "    print(\"scaling\")\n",
    "    img=scale_up(img)\n",
    "\n",
    "img.shape\n",
    "type(img)\n",
    "\n",
    "# out, attns = fetch_attentions(img, model)"
   ]
  },
  {
   "cell_type": "code",
   "execution_count": null,
   "metadata": {},
   "outputs": [],
   "source": []
  },
  {
   "cell_type": "code",
   "execution_count": 315,
   "metadata": {},
   "outputs": [
    {
     "data": {
      "text/plain": [
       "array([[[[0.03529412, 0.03529412, 0.03529412, ..., 0.5882353 ,\n",
       "          0.5882353 , 0.5882353 ],\n",
       "         [0.03529412, 0.03529412, 0.03529412, ..., 0.5882353 ,\n",
       "          0.5882353 , 0.5882353 ],\n",
       "         [0.03529412, 0.03529412, 0.03529412, ..., 0.5882353 ,\n",
       "          0.5882353 , 0.5882353 ],\n",
       "         ...,\n",
       "         [0.23137255, 0.23137255, 0.23137255, ..., 0.5372549 ,\n",
       "          0.5372549 , 0.5372549 ],\n",
       "         [0.23137255, 0.23137255, 0.23137255, ..., 0.5372549 ,\n",
       "          0.5372549 , 0.5372549 ],\n",
       "         [0.23137255, 0.23137255, 0.23137255, ..., 0.5372549 ,\n",
       "          0.5372549 , 0.5372549 ]],\n",
       "\n",
       "        [[0.03529412, 0.03529412, 0.03529412, ..., 0.47843137,\n",
       "          0.47843137, 0.47843137],\n",
       "         [0.03529412, 0.03529412, 0.03529412, ..., 0.47843137,\n",
       "          0.47843137, 0.47843137],\n",
       "         [0.03529412, 0.03529412, 0.03529412, ..., 0.47843137,\n",
       "          0.47843137, 0.47843137],\n",
       "         ...,\n",
       "         [0.22745098, 0.22745098, 0.22745098, ..., 0.34117648,\n",
       "          0.34117648, 0.34117648],\n",
       "         [0.22745098, 0.22745098, 0.22745098, ..., 0.34117648,\n",
       "          0.34117648, 0.34117648],\n",
       "         [0.22745098, 0.22745098, 0.22745098, ..., 0.34117648,\n",
       "          0.34117648, 0.34117648]],\n",
       "\n",
       "        [[0.03529412, 0.03529412, 0.03529412, ..., 0.49411765,\n",
       "          0.49411765, 0.49411765],\n",
       "         [0.03529412, 0.03529412, 0.03529412, ..., 0.49411765,\n",
       "          0.49411765, 0.49411765],\n",
       "         [0.03529412, 0.03529412, 0.03529412, ..., 0.49411765,\n",
       "          0.49411765, 0.49411765],\n",
       "         ...,\n",
       "         [0.21176471, 0.21176471, 0.21176471, ..., 0.34117648,\n",
       "          0.34117648, 0.34117648],\n",
       "         [0.21176471, 0.21176471, 0.21176471, ..., 0.34117648,\n",
       "          0.34117648, 0.34117648],\n",
       "         [0.21176471, 0.21176471, 0.21176471, ..., 0.34117648,\n",
       "          0.34117648, 0.34117648]]]], dtype=float32)"
      ]
     },
     "execution_count": 315,
     "metadata": {},
     "output_type": "execute_result"
    }
   ],
   "source": [
    "img"
   ]
  },
  {
   "cell_type": "code",
   "execution_count": 316,
   "metadata": {},
   "outputs": [
    {
     "data": {
      "image/png": "[encoded data removed]",
      "text/plain": [
       "<Figure size 640x480 with 1 Axes>"
      ]
     },
     "metadata": {},
     "output_type": "display_data"
    }
   ],
   "source": [
    "# Plot the image\n",
    "plt.imshow(img_test_1[0].transpose(1,2,0))\n",
    "plt.imshow(img[0].transpose(1,2,0))\n",
    "plt.title(f\"CIFAR-10 Image - Class: {cifar10.classes[label]}\")\n",
    "plt.axis(\"off\")\n",
    "plt.show()"
   ]
  },
  {
   "cell_type": "code",
   "execution_count": null,
   "metadata": {},
   "outputs": [],
   "source": []
  },
  {
   "cell_type": "code",
   "execution_count": 317,
   "metadata": {},
   "outputs": [],
   "source": [
    "out, attns = fetch_attentions(img, model)"
   ]
  },
  {
   "cell_type": "markdown",
   "metadata": {},
   "source": [
    "### Get attention heatmaps"
   ]
  },
  {
   "cell_type": "code",
   "execution_count": 318,
   "metadata": {},
   "outputs": [
    {
     "data": {
      "text/plain": [
       "torch.Size([12, 12, 197, 197])"
      ]
     },
     "execution_count": 318,
     "metadata": {},
     "output_type": "execute_result"
    }
   ],
   "source": [
    "attns.shape"
   ]
  },
  {
   "cell_type": "code",
   "execution_count": 350,
   "metadata": {},
   "outputs": [
    {
     "name": "stdout",
     "output_type": "stream",
     "text": [
      "MODEL TYPE ==  3\n",
      "Layer 11, Head 11, Patch 0\n"
     ]
    },
    {
     "data": {
      "image/png": "[encoded data removed]",
      "text/plain": [
       "<Figure size 1000x500 with 3 Axes>"
      ]
     },
     "metadata": {},
     "output_type": "display_data"
    }
   ],
   "source": [
    "'''hyper'''\n",
    "head_idx=11\n",
    "q_idx=0   #0 for cls token\n",
    "layer_idx=11\n",
    "\n",
    "\n",
    "# -------------------\n",
    "\n",
    "print(\"MODEL TYPE == \",MODEL_TYPE)\n",
    "print(f\"Layer {layer_idx}, Head {head_idx}, Patch {q_idx}\")\n",
    "\n",
    "attn_row = attns[head_idx][layer_idx][q_idx]\n",
    "# print(attn_row.shape)\n",
    "threshold = plot_attn_heatmap(attn_row,q_idx, binary=False, threshold='other', figsize = (4,4), normalize_flag=True,overlay=False,quantile_value=0.9,model_type=MODEL_TYPE, img = img.transpose(0,2,3,1))\n",
    "# threshold = plot_attn_heatmap(attn_row,q_idx, binary=False, threshold='other', figsize = (4,4), normalize_flag=True,overlay=False,quantile_value=0.9,model_type=MODEL_TYPE, img = None)"
   ]
  },
  {
   "cell_type": "code",
   "execution_count": 334,
   "metadata": {},
   "outputs": [
    {
     "name": "stdout",
     "output_type": "stream",
     "text": [
      "00 \n",
      "01 02 03 04 05 06 07 08 \n",
      "09 10 11 12 13 14 15 16 \n",
      "17 18 19 20 21 22 23 24 \n",
      "25 26 27 28 29 30 31 32 \n",
      "33 34 35 36 37 38 39 40 \n",
      "41 42 43 44 45 46 47 48 \n",
      "49 50 51 52 53 54 55 56 \n",
      "57 58 59 60 61 62 63 64 \n"
     ]
    }
   ],
   "source": [
    "for i in range(65):\n",
    "    print(f'{i:02}',end=\" \")\n",
    "    if(i%8==0):\n",
    "        print()"
   ]
  },
  {
   "cell_type": "code",
   "execution_count": 335,
   "metadata": {},
   "outputs": [
    {
     "data": {
      "text/plain": [
       "(tensor(58), 'elephant')"
      ]
     },
     "execution_count": 335,
     "metadata": {},
     "output_type": "execute_result"
    }
   ],
   "source": [
    "pred_idx = out.argmax()\n",
    "pred_idx, _classes[pred_idx]"
   ]
  },
  {
   "cell_type": "markdown",
   "metadata": {},
   "source": [
    "## Bar chart for classes probability\n"
   ]
  },
  {
   "cell_type": "code",
   "execution_count": 336,
   "metadata": {},
   "outputs": [],
   "source": [
    "top_count = 10"
   ]
  },
  {
   "cell_type": "code",
   "execution_count": 337,
   "metadata": {},
   "outputs": [
    {
     "data": {
      "image/png": "[encoded data removed]",
      "text/plain": [
       "<Figure size 640x480 with 1 Axes>"
      ]
     },
     "metadata": {},
     "output_type": "display_data"
    }
   ],
   "source": [
    "import matplotlib.pyplot as plt\n",
    "\n",
    "var=nn.Softmax(dim=1)\n",
    "\n",
    "val = var(out)[0]\n",
    "\n",
    "\n",
    "# Combine val and titlenames into a list of tuples\n",
    "\n",
    "# combined = list(zip(val, classes))\n",
    "combined = list(zip(val, _classes))\n",
    "\n",
    "# Sort by value in descending order\n",
    "sorted_combined_raw = sorted(combined, key=lambda x: x[0], reverse=False)\n",
    "sorted_combined = sorted_combined_raw[-top_count:]\n",
    "\n",
    "# Unzip the sorted tuples back into val and titlenames\n",
    "val_sorted, titlenames_sorted = zip(*sorted_combined)\n",
    "\n",
    "# Plotting the horizontal bar chart\n",
    "indices = range(len(val_sorted))\n",
    "plt.barh(indices, val_sorted)\n",
    "# Annotate bars with the values\n",
    "for i, (value, name) in enumerate(zip(val_sorted, titlenames_sorted)):\n",
    "    plt.text(value, i, f'{value:.2f}', va='center', ha='left', color='black')\n",
    "# Set class names as y-axis labels\n",
    "plt.yticks(indices, titlenames_sorted)\n",
    "\n",
    "# Set labels and title\n",
    "plt.ylabel('Class Names')\n",
    "plt.xlabel('Value')\n",
    "plt.title('Horizontal Bar Chart with Class Names')\n",
    "\n",
    "# Show the plot\n",
    "plt.tight_layout()  # Adjust layout to prevent overlapping\n",
    "plt.show()"
   ]
  },
  {
   "cell_type": "code",
   "execution_count": 338,
   "metadata": {},
   "outputs": [],
   "source": [
    "# import torch.nn as nn\n",
    "# from torchvision.datasets import CIFAR100, CIFAR10\n",
    "# import matplotlib.pyplot as plt\n",
    "\n",
    "# def bar_char(model_name=\"CIFAR_10\", out=None):\n",
    "#     var = nn.Softmax(dim=1)\n",
    "#     val = var(out)[0]\n",
    "\n",
    "#     # Define classes for CIFAR-100 and CIFAR-10\n",
    "#     if model_name == \"CIFAR_100\":\n",
    "#         classes = classes_100\n",
    "#     elif model_name == \"CIFAR_10\":\n",
    "#         classes = [\n",
    "#             \"airplane\", \"automobile\", \"bird\", \"cat\", \"deer\", \n",
    "#             \"dog\", \"frog\", \"horse\", \"ship\", \"truck\"\n",
    "#         ]\n",
    "\n",
    "#     # Combine val and classes into a list of tuples\n",
    "#     combined = list(zip(val, classes))\n",
    "\n",
    "#     # Sort by value in descending order and take top 10\n",
    "#     sorted_combined = sorted(combined, key=lambda x: x[0], reverse=True)[:10]\n",
    "\n",
    "#     # Unzip the sorted tuples back into val and classes\n",
    "#     val_sorted, classes_sorted = zip(*sorted_combined)\n",
    "\n",
    "#     # Plotting the horizontal bar chart\n",
    "#     indices = range(len(val_sorted))\n",
    "#     plt.barh(indices, val_sorted, color='skyblue')\n",
    "    \n",
    "#     # Annotate bars with the values\n",
    "#     for i, (value, name) in enumerate(zip(val_sorted, classes_sorted)):\n",
    "#         plt.text(value, i, f'{value:.2f}', va='center', ha='left', color='black')\n",
    "    \n",
    "#     # Set class names as y-axis labels\n",
    "#     plt.yticks(indices, classes_sorted)\n",
    "\n",
    "#     # Set labels and title\n",
    "#     plt.ylabel('Class Names')\n",
    "#     plt.xlabel('Probability')\n",
    "#     plt.title(f'Top 10 Classes by Probability ({model_name})')\n",
    "\n",
    "#     # Show the plot\n",
    "#     plt.tight_layout()  # Adjust layout to prevent overlapping\n",
    "#     plt.show()\n",
    "# bar_char(model_name=\"CIFAR_10\",out=out)"
   ]
  },
  {
   "cell_type": "markdown",
   "metadata": {},
   "source": [
    "# End of File"
   ]
  },
  {
   "cell_type": "code",
   "execution_count": 339,
   "metadata": {},
   "outputs": [
    {
     "name": "stdout",
     "output_type": "stream",
     "text": [
      "End of file\n"
     ]
    }
   ],
   "source": [
    "print(\"End of file\")"
   ]
  }
 ],
 "metadata": {
  "kaggle": {
   "accelerator": "nvidiaTeslaT4",
   "dataSources": [],
   "dockerImageVersionId": 30775,
   "isGpuEnabled": true,
   "isInternetEnabled": true,
   "language": "python",
   "sourceType": "notebook"
  },
  "kernelspec": {
   "display_name": "Python 3",
   "language": "python",
   "name": "python3"
  },
  "language_info": {
   "codemirror_mode": {
    "name": "ipython",
    "version": 3
   },
   "file_extension": ".py",
   "mimetype": "text/x-python",
   "name": "python",
   "nbconvert_exporter": "python",
   "pygments_lexer": "ipython3",
   "version": "3.12.5"
  }
 },
 "nbformat": 4,
 "nbformat_minor": 4
}
