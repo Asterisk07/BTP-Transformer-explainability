{
 "cells": [
  {
   "cell_type": "code",
   "execution_count": 1,
   "metadata": {},
   "outputs": [],
   "source": [
    "# Class mapping\n",
    "classes = ('plane', 'car', 'bird', 'cat', 'deer', 'dog', 'frog', 'horse', 'ship', 'truck')\n"
   ]
  },
  {
   "cell_type": "code",
   "execution_count": 2,
   "metadata": {},
   "outputs": [],
   "source": [
    "# so far :\n",
    "# saved model checkpoints every 10 epochs in training\n",
    "# manually extracted correctly classified images taht seemed more interpertable to humans\n",
    "# show frog image\n",
    "# attentino heatmap\n",
    "# attentino heatmap threhsolded\n",
    "# multi attentino heatmaps"
   ]
  },
  {
   "cell_type": "markdown",
   "metadata": {},
   "source": [
    "# Setup model"
   ]
  },
  {
   "cell_type": "code",
   "execution_count": 3,
   "metadata": {},
   "outputs": [],
   "source": [
    "attns = []"
   ]
  },
  {
   "cell_type": "code",
   "execution_count": 4,
   "metadata": {},
   "outputs": [],
   "source": [
    "# type(attns_list)s"
   ]
  },
  {
   "cell_type": "code",
   "execution_count": 5,
   "metadata": {},
   "outputs": [],
   "source": [
    "# https://github.com/lucidrains/vit-pytorch/blob/main/vit_pytorch/vit.py\n",
    "# VIT.py\n",
    "import torch\n",
    "from torch import nn\n",
    "\n",
    "from einops import rearrange, repeat\n",
    "from einops.layers.torch import Rearrange\n",
    "import numpy as np\n",
    "# helpers\n",
    "\n",
    "def pair(t):\n",
    "    return t if isinstance(t, tuple) else (t, t)\n",
    "\n",
    "# classes\n",
    "\n",
    "class PreNorm(nn.Module):\n",
    "    def __init__(self, dim, fn):\n",
    "        super().__init__()\n",
    "        self.norm = nn.LayerNorm(dim)\n",
    "        self.fn = fn\n",
    "    def forward(self, x, **kwargs):\n",
    "        return self.fn(self.norm(x), **kwargs)\n",
    "\n",
    "class FeedForward(nn.Module):\n",
    "    def __init__(self, dim, hidden_dim, dropout = 0.):\n",
    "        super().__init__()\n",
    "        self.net = nn.Sequential(\n",
    "            nn.Linear(dim, hidden_dim),\n",
    "            nn.GELU(),\n",
    "            nn.Dropout(dropout),\n",
    "            nn.Linear(hidden_dim, dim),\n",
    "            nn.Dropout(dropout)\n",
    "        )\n",
    "    def forward(self, x,save_flag=False, run_dir = None,img_idx = None):\n",
    "        out =  self.net(x)\n",
    "        if(save_flag==True):\n",
    "                file_path = os.path.join(run_dir, 'ff_out.npy')\n",
    "                # np.save(file_path, out)\n",
    "                np.save(file_path, out[img_idx].detach().cpu().numpy())\n",
    "        return out\n",
    "\n",
    "class Attention(nn.Module):\n",
    "    def __init__(self, dim, heads = 8, dim_head = 64, dropout = 0.):\n",
    "        super().__init__()\n",
    "        \n",
    "\n",
    "        inner_dim = dim_head *  heads  \n",
    "        # print(\"attention : dim = \", dim, \"| inner_dim = \",inner_dim,\"| dim_head = \", dim_head, \"| heads = \",heads  )\n",
    "        project_out = not (heads == 1 and dim_head == dim)\n",
    "\n",
    "        self.heads = heads\n",
    "        self.scale = dim_head ** -0.5\n",
    "\n",
    "        self.attend = nn.Softmax(dim = -1)\n",
    "\n",
    "\n",
    "        \n",
    "        self.to_qkv = nn.Linear(dim, inner_dim * 3, bias = False)\n",
    "\n",
    "        self.to_out = nn.Sequential(\n",
    "            nn.Linear(inner_dim, dim),\n",
    "            nn.Dropout(dropout)\n",
    "        ) if project_out else nn.Identity()\n",
    "\n",
    "    def forward(self, x,save_flag=False, run_dir = None,img_idx = None):\n",
    "        qkv = self.to_qkv(x).chunk(3, dim = -1)\n",
    "        q, k, v = map(lambda t: rearrange(t, 'b n (h d) -> b h n d', h = self.heads), qkv)\n",
    "\n",
    "\n",
    "\n",
    "        dots = torch.matmul(q, k.transpose(-1, -2)) * self.scale\n",
    "\n",
    "        attn = self.attend(dots)\n",
    "\n",
    "        # TK NEW CODE\n",
    "        global attns_list\n",
    "        attns_list.append(attn)\n",
    "\n",
    "        out = torch.matmul(attn, v)\n",
    "        if(save_flag==True):\n",
    "\n",
    "                # Convert each tensor in `qkv` to a numpy array and save it\n",
    "#                 qkv=attention.to_qkv\n",
    "                for i, tensor in enumerate((q,k,v)):\n",
    "                    np_array = tensor[img_idx].detach().cpu().numpy()  # Convert to numpy\n",
    "                    # np.save(f'qkv_{i}.npy', np_array)  # Save each as a .npy file\n",
    "                    file_path = os.path.join(run_dir, f'{qkv_titles[i]}.npy')\n",
    "                    np.save(file_path, np_array)\n",
    "                file_path = os.path.join(run_dir, 'att_out')\n",
    "                np.save(file_path, out[img_idx].detach().cpu().numpy())\n",
    "                file_path = os.path.join(run_dir, 'att_score')\n",
    "                np.save(file_path,attn[img_idx].detach().cpu().numpy())\n",
    "        out = rearrange(out, 'b h n d -> b n (h d)')\n",
    "        # return self.to_out(out),q,k,v\n",
    "        return self.to_out(out)\n",
    "\n",
    "class Transformer(nn.Module):\n",
    "    def __init__(self, dim, depth, heads, dim_head, mlp_dim, dropout=0.):\n",
    "        super().__init__()\n",
    "        # print(\"transformer : dim = \", dim, \"| dim_head = \", dim_head, \"| heads = \",heads  )\n",
    "\n",
    "        self.layers = nn.ModuleList([])\n",
    "#         self.saved_values = {'logits': [], 'queries': [], 'keys': [], 'values': []}  # To store the values\n",
    "        # self.saved_values = list()  # To store th\n",
    "        for _ in range(depth):\n",
    "            self.layers.append(nn.ModuleList([\n",
    "                PreNorm(dim, Attention(dim, heads=heads, dim_head=dim_head, dropout=dropout)),\n",
    "                PreNorm(dim, FeedForward(dim, mlp_dim, dropout=dropout))\n",
    "            ]))\n",
    "\n",
    "    def forward(self, x,save_flag=False, run_dir = None, img_idx = None):\n",
    "        for i, (attn, ff) in enumerate(self.layers):\n",
    "            # Unpack the output from the Attention layer\n",
    "            #\n",
    "            # print(\"passed trans direcetory \", run_dir, \" and saving \",save_flag)\n",
    "            if save_flag:\n",
    "              layer_dir = os.path.join(run_dir,  f\"layer {i:02}\")\n",
    "              os.makedirs(layer_dir, exist_ok=True)\n",
    "              # print(\"passed trans layer direcetory \", layer_dir)\n",
    "            else:\n",
    "              layer_dir = None\n",
    "            attn_out = attn(x,save_flag=save_flag, run_dir = layer_dir, img_idx = img_idx)\n",
    "\n",
    "\n",
    "\n",
    "            # Save the query, key, value, and logits (output) for this layer\n",
    "            # self.saved_values.append(q.cpu().detach().numpy())\n",
    "            # self.saved_values.append(k.cpu().detach().numpy())\n",
    "            # self.saved_values.append(v.cpu().detach().numpy())\n",
    "\n",
    "            # Combine the attention output with the original x\n",
    "            x = attn_out + x\n",
    "            # self.saved_values.append(x.cpu().detach().numpy())  # Save logits\n",
    "            # print(\"i : \",i)\n",
    "            # Apply the feedforward network\n",
    "#             x = ff(x) + x\n",
    "\n",
    "            x = ff(x,save_flag=save_flag, run_dir = layer_dir, img_idx = img_idx) + x\n",
    "\n",
    "        return x\n",
    "\n",
    "\n",
    "class ViT(nn.Module):\n",
    "    def __init__(self, *, image_size, patch_size, num_classes, dim, depth, heads, mlp_dim, pool = 'cls', channels = 3, dim_head = 64, dropout = 0., emb_dropout = 0.):\n",
    "        super().__init__()\n",
    "        image_height, image_width = pair(image_size)\n",
    "        patch_height, patch_width = pair(patch_size)\n",
    "\n",
    "        # print(\"vit : dim = \", dim, \"| dim_head = \", dim_head, \"| heads = \",heads , \" | mlp = \",mlp_dim )\n",
    "\n",
    "        assert image_height % patch_height == 0 and image_width % patch_width == 0, 'Image dimensions must be divisible by the patch size.'\n",
    "\n",
    "        num_patches = (image_height // patch_height) * (image_width // patch_width)\n",
    "        patch_dim = channels * patch_height * patch_width\n",
    "        assert pool in {'cls', 'mean'}, 'pool type must be either cls (cls token) or mean (mean pooling)'\n",
    "\n",
    "        self.to_patch_embedding = nn.Sequential(\n",
    "            Rearrange('b c (h p1) (w p2) -> b (h w) (p1 p2 c)', p1 = patch_height, p2 = patch_width),\n",
    "            nn.Linear(patch_dim, dim),\n",
    "        )\n",
    "\n",
    "        self.pos_embedding = nn.Parameter(torch.randn(1, num_patches + 1, dim))\n",
    "        self.cls_token = nn.Parameter(torch.randn(1, 1, dim))\n",
    "        self.dropout = nn.Dropout(emb_dropout)\n",
    "\n",
    "        self.transformer = Transformer(dim, depth, heads, dim_head, mlp_dim, dropout)\n",
    "\n",
    "        self.pool = pool\n",
    "        self.to_latent = nn.Identity()\n",
    "\n",
    "        self.mlp_head = nn.Sequential(\n",
    "            nn.LayerNorm(dim),\n",
    "            nn.Linear(dim, num_classes)\n",
    "        )\n",
    "\n",
    "    def forward(self, img, save_flag=False, run_dir = None,img_idx = None):\n",
    "\n",
    "        # if (save_flag):\n",
    "          # print(\"\\n\\treached here 3\")\n",
    "        x = self.to_patch_embedding(img)\n",
    "        b, n, _ = x.shape\n",
    "\n",
    "        cls_tokens = repeat(self.cls_token, '() n d -> b n d', b = b)\n",
    "        x = torch.cat((cls_tokens, x), dim=1)\n",
    "        x += self.pos_embedding[:, :(n + 1)]\n",
    "        x = self.dropout(x)\n",
    "\n",
    "        x = self.transformer(x,save_flag, run_dir, img_idx)\n",
    "#         if(save_flag==True):\n",
    "#                 # Convert each tensor in `qkv` to a numpy array and save it\n",
    "#                 qkv=attention.to_qkv\n",
    "#                 for i, tensor in enumerate(qkv):\n",
    "#                     np_array = tensor.detach().cpu().numpy()  # Convert to numpy\n",
    "#                     np.save(f'qkv_{i}.npy', np_array)  # Save each as a .npy file\n",
    "\n",
    "\n",
    "        x = x.mean(dim = 1) if self.pool == 'mean' else x[:, 0]\n",
    "\n",
    "        x = self.to_latent(x)\n",
    "        return self.mlp_head(x)"
   ]
  },
  {
   "cell_type": "code",
   "execution_count": 6,
   "metadata": {},
   "outputs": [],
   "source": [
    "import argparse\n",
    "import sys\n",
    "\n",
    "# Define your arguments here\n",
    "def parse_args():\n",
    "    # parsers\n",
    "    parser = argparse.ArgumentParser(description='PyTorch CIFAR10 Training')\n",
    "    parser.add_argument('--lr', default=1e-4, type=float, help='learning rate') # resnets.. 1e-3, Vit..1e-4\n",
    "    parser.add_argument('--opt', default=\"adam\")\n",
    "    parser.add_argument('--resume', '-r', action='store_true', help='resume from checkpoint')\n",
    "    parser.add_argument('--noaug', action='store_false', help='disable use randomaug')\n",
    "    parser.add_argument('--noamp', action='store_true', help='disable mixed precision training. for older pytorch versions')\n",
    "    parser.add_argument('--nowandb', action='store_true', help='disable wandb')\n",
    "    parser.add_argument('--mixup', action='store_true', help='add mixup augumentations')\n",
    "    parser.add_argument('--net', default='vit')\n",
    "    parser.add_argument('--dp', action='store_true', help='use data parallel')\n",
    "    parser.add_argument('--bs', default='512')\n",
    "    parser.add_argument('--size', default=\"32\")\n",
    "    parser.add_argument('--n_epochs', type=int, default='200')\n",
    "    parser.add_argument('--patch', default='4', type=int, help=\"patch for ViT\")\n",
    "    parser.add_argument('--dimhead', default=\"512\", type=int)\n",
    "    parser.add_argument('--convkernel', default='8', type=int, help=\"parameter for convmixer\")\n",
    "\n",
    "    return parser.parse_args()\n",
    "\n",
    "\n"
   ]
  },
  {
   "cell_type": "code",
   "execution_count": 7,
   "metadata": {},
   "outputs": [],
   "source": [
    "command = 'python train_cifar10.py --n_epochs 500 --lr 0.0005'\n",
    "sys.argv = command.split()[1:]\n",
    "args = parse_args()\n",
    "\n",
    "bs = int(args.bs)\n",
    "imsize = int(args.size)\n",
    "\n",
    "use_amp = not args.noamp\n",
    "aug = args.noaug\n",
    "\n",
    "device = 'cuda' if torch.cuda.is_available() else 'cpu'\n",
    "best_acc = 0  # best test accuracy\n",
    "start_epoch = 0  # start from epoch 0 or last checkpoint epoch\n",
    "\n",
    "\n",
    "if args.net==\"vit_timm\":\n",
    "    size = 384\n",
    "else:\n",
    "    size = imsize\n"
   ]
  },
  {
   "cell_type": "code",
   "execution_count": 8,
   "metadata": {},
   "outputs": [],
   "source": [
    "\n",
    "def get_vit():\n",
    "    return ViT(\n",
    "    image_size = size,\n",
    "    patch_size = args.patch,\n",
    "    num_classes = 10,\n",
    "    dim = int(args.dimhead),\n",
    "    depth = 6,\n",
    "    heads = 8,\n",
    "    # mlp_dim = 512,\n",
    "    mlp_dim = 256,\n",
    "    dropout = 0.1,\n",
    "    emb_dropout = 0.1,\n",
    "    )"
   ]
  },
  {
   "cell_type": "markdown",
   "metadata": {},
   "source": [
    "# Image loading"
   ]
  },
  {
   "cell_type": "code",
   "execution_count": 9,
   "metadata": {},
   "outputs": [
    {
     "name": "stdout",
     "output_type": "stream",
     "text": [
      "Loaded 5 images, 5 labels, 5 outputs, 5 image IDs.\n"
     ]
    }
   ],
   "source": [
    "import os\n",
    "import numpy as np\n",
    "\n",
    "def load_data_from_directory(directory_path):\n",
    "    \"\"\"Load images, labels, outputs, and image IDs from the specified directory.\"\"\"\n",
    "\n",
    "    \n",
    "    try:\n",
    "        # Construct the full paths for each file\n",
    "        ids_path = os.path.join(directory_path, 'ids.npy')\n",
    "        images_path = os.path.join(directory_path, 'images.npy')\n",
    "        labels_path = os.path.join(directory_path, 'labels.npy')\n",
    "        outputs_path = os.path.join(directory_path, 'outputs.npy')\n",
    "\n",
    "        # Load the numpy arrays\n",
    "        img_ids = np.load(ids_path)\n",
    "        images = np.load(images_path)\n",
    "        labels = np.load(labels_path)\n",
    "        outputs = np.load(outputs_path)\n",
    "\n",
    "        return img_ids, images, labels, outputs\n",
    "\n",
    "    except Exception as e:\n",
    "        print(f\"An error occurred: {e}\")\n",
    "        return None, None, None, None\n",
    "\n",
    "# Example usage\n",
    "directory_path = '../saved_images/correct'  # Adjust as needed\n",
    "img_ids, images, labels, outputs = load_data_from_directory(directory_path)\n",
    "preds = np.argmax(outputs,-1)\n",
    "\n",
    "\n",
    "# Example to check the loaded data\n",
    "if images is not None:\n",
    "    print(f\"Loaded {images.shape[0]} images, {labels.shape[0]} labels, {outputs.shape[0]} outputs, {img_ids.shape[0]} image IDs.\")\n"
   ]
  },
  {
   "cell_type": "code",
   "execution_count": 10,
   "metadata": {},
   "outputs": [
    {
     "data": {
      "text/plain": [
       "(array([3, 8, 0, 6, 6]), array([3, 8, 0, 6, 6]))"
      ]
     },
     "execution_count": 10,
     "metadata": {},
     "output_type": "execute_result"
    }
   ],
   "source": [
    "preds, labels"
   ]
  },
  {
   "cell_type": "code",
   "execution_count": null,
   "metadata": {},
   "outputs": [],
   "source": []
  },
  {
   "cell_type": "code",
   "execution_count": 11,
   "metadata": {},
   "outputs": [
    {
     "name": "stderr",
     "output_type": "stream",
     "text": [
      "Clipping input data to the valid range for imshow with RGB data ([0..1] for floats or [0..255] for integers). Got range [-2.4290657..2.5976489].\n"
     ]
    },
    {
     "name": "stdout",
     "output_type": "stream",
     "text": [
      "Label: 8\n",
      "Label class: ship\n",
      "Output: 8\n"
     ]
    },
    {
     "data": {
      "image/png": "[encoded data removed]",
      "text/plain": [
       "<Figure size 640x480 with 1 Axes>"
      ]
     },
     "metadata": {},
     "output_type": "display_data"
    }
   ],
   "source": [
    "import matplotlib.pyplot as plt\n",
    "import numpy as np\n",
    "\n",
    "def plot_image(image_idx, title=None):\n",
    "    \"\"\"\n",
    "    Plot a single image using Matplotlib.\n",
    "\n",
    "    Args:\n",
    "        image (numpy.ndarray): The image to plot. It should be in the format (height, width, channels).\n",
    "        title (str, optional): The title for the plot. Defaults to None.\n",
    "\n",
    "    Returns:\n",
    "        None\n",
    "    \"\"\"\n",
    "\n",
    "    # Print label and output\n",
    "    print(f\"Label: {labels[image_idx]}\")\n",
    "    print(f\"Label class: {classes[labels[image_idx]]}\")\n",
    "    print(f\"Output: {preds[image_idx]}\")\n",
    "\n",
    "    image = images[image_idx]\n",
    "\n",
    "    if image.ndim == 3 and image.shape[2] == 3:\n",
    "        # Color image\n",
    "        plt.imshow(image)\n",
    "    elif image.ndim == 2 or (image.ndim == 3 and image.shape[2] == 1):\n",
    "        # Grayscale image\n",
    "        if image.ndim == 3:\n",
    "            image = image.squeeze()  # Remove the channel dimension\n",
    "        plt.imshow(image, cmap='gray')\n",
    "    else:\n",
    "        raise ValueError(\"Image format not recognized. Expected (H, W) or (H, W, 3) or (H, W, 1).\")\n",
    "\n",
    "    if title:\n",
    "        plt.title(title)\n",
    "    \n",
    "    plt.axis('off')  # Hide axis\n",
    "    plt.show()\n",
    "\n",
    "# Example usage\n",
    "# Assuming `images` is a numpy array of images with shape (k, H, W, C)\n",
    "# and you want to plot the first image:\n",
    "image_idx = 1\n",
    "plot_image(image_idx, title=\"Example Image\")\n"
   ]
  },
  {
   "cell_type": "code",
   "execution_count": 12,
   "metadata": {},
   "outputs": [
    {
     "data": {
      "text/plain": [
       "(5, 32, 32, 3)"
      ]
     },
     "execution_count": 12,
     "metadata": {},
     "output_type": "execute_result"
    }
   ],
   "source": [
    "images.shape"
   ]
  },
  {
   "cell_type": "code",
   "execution_count": 13,
   "metadata": {},
   "outputs": [
    {
     "data": {
      "text/plain": [
       "(1, 32, 32, 3)"
      ]
     },
     "execution_count": 13,
     "metadata": {},
     "output_type": "execute_result"
    }
   ],
   "source": [
    "image_idx\n",
    "images[image_idx:image_idx+1].shape\n"
   ]
  },
  {
   "cell_type": "markdown",
   "metadata": {},
   "source": [
    "# Getting Attention maps"
   ]
  },
  {
   "cell_type": "code",
   "execution_count": 14,
   "metadata": {},
   "outputs": [],
   "source": [
    "\n",
    "pass"
   ]
  },
  {
   "cell_type": "code",
   "execution_count": 15,
   "metadata": {},
   "outputs": [],
   "source": [
    "img_one = images[image_idx:image_idx+1]"
   ]
  },
  {
   "cell_type": "code",
   "execution_count": 16,
   "metadata": {},
   "outputs": [
    {
     "data": {
      "text/plain": [
       "(1, 32, 32, 3)"
      ]
     },
     "execution_count": 16,
     "metadata": {},
     "output_type": "execute_result"
    }
   ],
   "source": [
    "img_one.shape"
   ]
  },
  {
   "cell_type": "code",
   "execution_count": 17,
   "metadata": {},
   "outputs": [],
   "source": [
    "# # tk current work:\n",
    "# 1. change image to 1x3x32x32 ✅\n",
    "# 2. pass one iamge and check without saving ✅\n",
    "# 3. get attention maps only for one image, all layers , epoch 90 ✅\n",
    "# 4. all layers, all epochs\n",
    "# 5. implement code to get few images per class (GPU)\n",
    "# 6. fetch images (GPU)\n",
    "# 7. attention heatmaps on those"
   ]
  },
  {
   "cell_type": "code",
   "execution_count": 18,
   "metadata": {},
   "outputs": [],
   "source": [
    "net = get_vit()\n",
    "# attns_list = []\n",
    "# net.eval()\n",
    "# with torch.inference_mode():\n",
    "#     out = net(torch.tensor(np.transpose(img_one, (0, 3, 1, 2))))\n",
    "\n",
    "# attns = torch.stack(attns_list)\n",
    "# attns = attns.squeeze(dim=1) #remove the image dimension\n",
    "# attns = attns.permute(1, 0, 2, 3)  # new shape is head x layer x q x k\n",
    "# attns.shape\n"
   ]
  },
  {
   "cell_type": "markdown",
   "metadata": {},
   "source": [
    "## Loading Model state dictionary"
   ]
  },
  {
   "cell_type": "code",
   "execution_count": 19,
   "metadata": {},
   "outputs": [],
   "source": [
    "def load_model_state_dict(model, directory, filename,base_dir):\n",
    "    # Create the full path\n",
    "  \n",
    "    file_path = os.path.join(base_dir,directory, filename)\n",
    "    # Load the state dictionary\n",
    "    # print(file_path)\n",
    "    model_state_dict = torch.load(file_path, map_location='cpu', weights_only=True)\n",
    "    model.load_state_dict(model_state_dict)\n",
    "    print(f\"Model loaded from {file_path}\")\n",
    "   "
   ]
  },
  {
   "cell_type": "code",
   "execution_count": 20,
   "metadata": {},
   "outputs": [
    {
     "name": "stdout",
     "output_type": "stream",
     "text": [
      "Model loaded from /Users/yajatkapoor/Desktop/IITD SEMESTER-7/ELD431/BTP-Transformer-explainability/10.8 checkpoints 8 head/model_epoch_90.pth\n"
     ]
    }
   ],
   "source": [
    "# checkpoint_dir = '10 checkpoints'\n",
    "checkpoint_dir='10.8 checkpoints 8 head'\n",
    "filename = 'model_epoch_90.pth'\n",
    "# 10 checkpoints\n",
    "base_dir=\"/Users/yajatkapoor/Desktop/IITD SEMESTER-7/ELD431/BTP-Transformer-explainability\"\n",
    "# base_dir=\"/path to you base dir\"\n",
    "checkpoint_dir=base_dir+'/'+checkpoint_dir\n",
    "load_model_state_dict(net, checkpoint_dir, filename,base_dir)"
   ]
  },
  {
   "cell_type": "markdown",
   "metadata": {},
   "source": [
    "### Image Loading from other dataset"
   ]
  },
  {
   "cell_type": "code",
   "execution_count": 21,
   "metadata": {},
   "outputs": [
    {
     "name": "stdout",
     "output_type": "stream",
     "text": [
      "/Users/yajatkapoor/Desktop/IITD SEMESTER-7/ELD431/BTP-Transformer-explainability/21 EDA\n",
      "/Users/yajatkapoor/Desktop/IITD SEMESTER-7/ELD431/BTP-Transformer-explainability/21 EDA/img_test_png/img20.png\n",
      "/Users/yajatkapoor/Desktop/IITD SEMESTER-7/ELD431/BTP-Transformer-explainability/21 EDA/img_test_png/img18.png\n",
      "/Users/yajatkapoor/Desktop/IITD SEMESTER-7/ELD431/BTP-Transformer-explainability/21 EDA/img_test_png/img9.png\n",
      "/Users/yajatkapoor/Desktop/IITD SEMESTER-7/ELD431/BTP-Transformer-explainability/21 EDA/img_test_png/img8.png\n",
      "/Users/yajatkapoor/Desktop/IITD SEMESTER-7/ELD431/BTP-Transformer-explainability/21 EDA/img_test_png/img5.png\n",
      "/Users/yajatkapoor/Desktop/IITD SEMESTER-7/ELD431/BTP-Transformer-explainability/21 EDA/img_test_png/img4.png\n",
      "/Users/yajatkapoor/Desktop/IITD SEMESTER-7/ELD431/BTP-Transformer-explainability/21 EDA/img_test_png/img2.png\n",
      "/Users/yajatkapoor/Desktop/IITD SEMESTER-7/ELD431/BTP-Transformer-explainability/21 EDA/img_test_png/img1.png\n",
      "/Users/yajatkapoor/Desktop/IITD SEMESTER-7/ELD431/BTP-Transformer-explainability/21 EDA/img_test_png/img17.png\n",
      "/Users/yajatkapoor/Desktop/IITD SEMESTER-7/ELD431/BTP-Transformer-explainability/21 EDA/img_test_png/img13.png\n"
     ]
    }
   ],
   "source": [
    "\n",
    "import os\n",
    "base_dir = os.getcwd()\n",
    "\n",
    "print(base_dir)\n",
    "# Declare the specific folder name\n",
    "folder_name = \"your_folder_name\"  # Replace with the specific folder name\n",
    "\n",
    "# List to store image paths\n",
    "image_paths = []\n",
    "# Declare the specific folder name\n",
    "folder_name = \"img_test_png\"  # Replace with the specific folder name\n",
    "\n",
    "# List to store image paths\n",
    "image_paths = []\n",
    "\n",
    "# Walk through the directory\n",
    "for root, dirs, files in os.walk(base_dir):\n",
    "    if folder_name in dirs:\n",
    "        target_dir = os.path.join(root, folder_name)\n",
    "        for dirpath, dirnames, filenames in os.walk(target_dir):\n",
    "            for file in filenames:\n",
    "                if file.endswith((\".jpg\", \".jpeg\", \".png\", \".bmp\", \".gif\")):  # Add more image extensions if needed\n",
    "                    image_paths.append(os.path.join(dirpath, file))\n",
    "\n",
    "# Print or use the collected image paths\n",
    "for path in image_paths:\n",
    "    print(path)"
   ]
  },
  {
   "cell_type": "code",
   "execution_count": 22,
   "metadata": {},
   "outputs": [],
   "source": [
    "from PIL import Image\n",
    "\n",
    "# Assuming image_paths is the list of image paths\n",
    "image_to_load = image_paths[4]  # Replace with the index or specific path you want to load\n",
    "\n",
    "# Load the image\n",
    "image = Image.open(image_to_load)\n",
    "\n",
    "# Display the image (optional)\n",
    "# image.show()\n",
    "\n",
    "# You can also do further processing, such as converting the image to a numpy array:\n",
    "image_array = np.array(image)"
   ]
  },
  {
   "cell_type": "code",
   "execution_count": 23,
   "metadata": {},
   "outputs": [],
   "source": [
    "from PIL import Image\n",
    "import cv2\n",
    "from skimage.transform import resize\n",
    "\n",
    "\n",
    "\n",
    "\n",
    "def Img_Downsample(image,type=1):\n",
    "   \n",
    "\n",
    "# Assuming 'image' is the loaded image object from PIL\n",
    "\n",
    "\n",
    "\n",
    "    if(type==1):\n",
    "        resized_image = cv2.resize(image, (32, 32), interpolation=cv2.INTER_AREA)\n",
    "    elif(type==2):\n",
    "        resized_image = cv2.resize(image, (32, 32), interpolation=cv2.INTER_CUBIC)\n",
    "    elif(type==3):\n",
    "        resized_image = cv2.resize(image, (32, 32), interpolation=cv2.INTER_LINEAR)\n",
    "    else:\n",
    "        resized_image = resize(image, (32, 32), anti_aliasing=True)\n",
    "\n",
    "\n",
    "\n",
    "\n",
    "    return resized_image\n",
    "\n",
    "        \n",
    "\n"
   ]
  },
  {
   "cell_type": "code",
   "execution_count": 24,
   "metadata": {},
   "outputs": [
    {
     "data": {
      "image/png": "[encoded data removed]",
      "text/plain": [
       "<Figure size 640x480 with 1 Axes>"
      ]
     },
     "metadata": {},
     "output_type": "display_data"
    }
   ],
   "source": [
    "# print(image_array.shape)\n",
    "image=Img_Downsample(image_array,type=4)\n",
    "\n",
    "# print(image.shape)\n",
    "plt.imshow(image)\n",
    "plt.axis('off')  # Optional: Hide the axes for a cleaner view\n",
    "plt.show()\n",
    "# # image.shape\n",
    "# Display the image (optional)\n",
    "# image.show() \n"
   ]
  },
  {
   "cell_type": "code",
   "execution_count": 25,
   "metadata": {},
   "outputs": [
    {
     "data": {
      "text/plain": [
       "(32, 32, 3)"
      ]
     },
     "execution_count": 25,
     "metadata": {},
     "output_type": "execute_result"
    }
   ],
   "source": [
    "image.shape"
   ]
  },
  {
   "cell_type": "code",
   "execution_count": 26,
   "metadata": {},
   "outputs": [
    {
     "data": {
      "text/plain": [
       "numpy.ndarray"
      ]
     },
     "execution_count": 26,
     "metadata": {},
     "output_type": "execute_result"
    }
   ],
   "source": [
    "type(image)"
   ]
  },
  {
   "cell_type": "code",
   "execution_count": 27,
   "metadata": {},
   "outputs": [
    {
     "data": {
      "text/plain": [
       "numpy.ndarray"
      ]
     },
     "execution_count": 27,
     "metadata": {},
     "output_type": "execute_result"
    }
   ],
   "source": [
    "type(img_one)"
   ]
  },
  {
   "cell_type": "code",
   "execution_count": 28,
   "metadata": {},
   "outputs": [],
   "source": [
    "# img_one=image"
   ]
  },
  {
   "cell_type": "code",
   "execution_count": 29,
   "metadata": {},
   "outputs": [],
   "source": [
    "# raise EOFError"
   ]
  },
  {
   "cell_type": "code",
   "execution_count": 30,
   "metadata": {},
   "outputs": [],
   "source": [
    "# image = np.expand_dims(image, axis=0)\n",
    "image=image.astype(np.float32)"
   ]
  },
  {
   "cell_type": "code",
   "execution_count": 31,
   "metadata": {},
   "outputs": [
    {
     "data": {
      "text/plain": [
       "(32, 32, 3)"
      ]
     },
     "execution_count": 31,
     "metadata": {},
     "output_type": "execute_result"
    }
   ],
   "source": [
    "image.shape"
   ]
  },
  {
   "cell_type": "code",
   "execution_count": 32,
   "metadata": {},
   "outputs": [],
   "source": [
    "image=np.expand_dims(np.transpose(image, (2, 0, 1)), axis=0)"
   ]
  },
  {
   "cell_type": "code",
   "execution_count": 33,
   "metadata": {},
   "outputs": [],
   "source": [
    "# img_one=image"
   ]
  },
  {
   "cell_type": "code",
   "execution_count": 34,
   "metadata": {},
   "outputs": [
    {
     "data": {
      "text/plain": [
       "(1, 32, 32, 3)"
      ]
     },
     "execution_count": 34,
     "metadata": {},
     "output_type": "execute_result"
    }
   ],
   "source": [
    "img_one.shape"
   ]
  },
  {
   "cell_type": "code",
   "execution_count": 35,
   "metadata": {},
   "outputs": [],
   "source": [
    "img_one=image"
   ]
  },
  {
   "cell_type": "code",
   "execution_count": 36,
   "metadata": {},
   "outputs": [
    {
     "data": {
      "text/plain": [
       "(1, 3, 32, 32)"
      ]
     },
     "execution_count": 36,
     "metadata": {},
     "output_type": "execute_result"
    }
   ],
   "source": [
    "img_one.shape"
   ]
  },
  {
   "cell_type": "code",
   "execution_count": 37,
   "metadata": {},
   "outputs": [
    {
     "data": {
      "text/plain": [
       "(1, 32, 32, 3)"
      ]
     },
     "execution_count": 37,
     "metadata": {},
     "output_type": "execute_result"
    }
   ],
   "source": [
    "img_one = np.transpose(img_one, (0, 2, 3, 1))\n",
    "img_one.shape"
   ]
  },
  {
   "cell_type": "code",
   "execution_count": 38,
   "metadata": {},
   "outputs": [
    {
     "data": {
      "text/plain": [
       "torch.Size([8, 6, 65, 65])"
      ]
     },
     "execution_count": 38,
     "metadata": {},
     "output_type": "execute_result"
    }
   ],
   "source": [
    "attns_list = []\n",
    "net.eval()\n",
    "\n",
    "with torch.inference_mode():\n",
    "    out = net(torch.tensor(np.transpose(img_one, (0, 3, 1, 2))))\n",
    "    # print(img_one.shape)\n",
    "    \n",
    "    \n",
    "\n",
    "attns = torch.stack(attns_list)\n",
    "attns = attns.squeeze(dim=1) #remove the image dimension\n",
    "attns = attns.permute(1, 0, 2, 3)  # new shape is head x layer x q x k\n",
    "attns.shape"
   ]
  },
  {
   "cell_type": "code",
   "execution_count": 39,
   "metadata": {},
   "outputs": [],
   "source": [
    "# attns_list = []\n",
    "# net.eval()\n",
    "\n",
    "# with torch.inference_mode():\n",
    "#     img_tensor = torch.tensor(img_one)\n",
    "\n",
    "#     # Forward pass through the network\n",
    "#     # out = net(img_tensor)\n",
    "#     print(img_tensor.shape)\n",
    "#     # Forward pass through the network\n",
    "#     out = net(img_tensor)\n",
    "    \n",
    "\n",
    "# attns = torch.stack(attns_list)\n",
    "# attns = attns.squeeze(dim=1) #remove the image dimension\n",
    "# attns = attns.permute(1, 0, 2, 3)  # new shape is head x layer x q x k\n",
    "# attns.shape"
   ]
  },
  {
   "cell_type": "markdown",
   "metadata": {},
   "source": [
    "## Accessing linear layer Weights\n",
    " "
   ]
  },
  {
   "cell_type": "code",
   "execution_count": 40,
   "metadata": {},
   "outputs": [],
   "source": [
    "def layer_weights(model):\n",
    "    for i, layer in enumerate(model.transformer.layers):\n",
    "        attention_layer = layer[0].fn\n",
    "        qkv_weights = attention_layer.to_out[0].weight.data\n",
    "        print(qkv_weights.shape)\n",
    "        # print(f\"Weights of the to_qkv layer in Attention block {i}:\\n\", qkv_weights)\n"
   ]
  },
  {
   "cell_type": "code",
   "execution_count": 41,
   "metadata": {},
   "outputs": [
    {
     "name": "stdout",
     "output_type": "stream",
     "text": [
      "torch.Size([512, 512])\n",
      "torch.Size([512, 512])\n",
      "torch.Size([512, 512])\n",
      "torch.Size([512, 512])\n",
      "torch.Size([512, 512])\n",
      "torch.Size([512, 512])\n"
     ]
    }
   ],
   "source": [
    "layer_weights(net)"
   ]
  },
  {
   "cell_type": "markdown",
   "metadata": {},
   "source": [
    "# Visualising attention maps"
   ]
  },
  {
   "cell_type": "code",
   "execution_count": 42,
   "metadata": {},
   "outputs": [
    {
     "data": {
      "text/plain": [
       "torch.Size([8, 6, 65, 65])"
      ]
     },
     "execution_count": 42,
     "metadata": {},
     "output_type": "execute_result"
    }
   ],
   "source": [
    "attns.shape"
   ]
  },
  {
   "cell_type": "code",
   "execution_count": 43,
   "metadata": {},
   "outputs": [],
   "source": [
    "layer_idx = 0\n",
    "head_idx = 0\n",
    "q_idx = 0"
   ]
  },
  {
   "cell_type": "code",
   "execution_count": 44,
   "metadata": {},
   "outputs": [],
   "source": [
    "# tasklist : "
   ]
  },
  {
   "cell_type": "code",
   "execution_count": 45,
   "metadata": {},
   "outputs": [
    {
     "data": {
      "image/png": "[encoded data removed]",
      "text/plain": [
       "<Figure size 1000x600 with 1 Axes>"
      ]
     },
     "metadata": {},
     "output_type": "display_data"
    }
   ],
   "source": [
    "import torch\n",
    "import matplotlib.pyplot as plt\n",
    "\n",
    "def plot_histogram(tensor,threshold = None, figsize = (10,6)):\n",
    "    # Ensure the tensor is of shape (65,)\n",
    "    # assert tensor.shape == (65,), \"Tensor should have a shape of (65,)\"\n",
    "    \n",
    "    # Convert tensor to numpy array for plotting\n",
    "    if type(tensor) == torch.Tensor:\n",
    "        tensor_np = tensor.cpu().numpy()\n",
    "    else:\n",
    "        tensor_np = tensor\n",
    "    # Plot histogram\n",
    "    plt.figure(figsize=figsize)\n",
    "    plt.hist(tensor_np, bins=20, edgecolor='black')\n",
    "\n",
    "    # Draw a vertical dotted line at the specified value, if provided\n",
    "    if threshold is not None:\n",
    "        plt.axvline(x=threshold, color='black', linestyle='--', linewidth=2)\n",
    "    plt.title(\"Histogram of Tensor Values\")\n",
    "    plt.xlabel(\"Value\")\n",
    "    plt.ylabel(\"Frequency\")\n",
    "    plt.grid(True)\n",
    "    plt.show()\n",
    "\n",
    "# Example usage\n",
    "tensor = torch.rand(65)  # Example tensor\n",
    "plot_histogram(tensor)\n"
   ]
  },
  {
   "cell_type": "code",
   "execution_count": 46,
   "metadata": {},
   "outputs": [
    {
     "name": "stdout",
     "output_type": "stream",
     "text": [
      "[0.1009848415851593, 0.5500959753990173, 0.9992071092128754]\n"
     ]
    }
   ],
   "source": [
    "import numpy as np\n",
    "\n",
    "def get_std_dev_thresholds(tensor, num_bins=3):\n",
    "    mean = tensor.mean().item()\n",
    "    std_dev = tensor.std().item()\n",
    "    thresholds = [mean - 1.5 * std_dev, mean, mean + 1.5 * std_dev]\n",
    "    return thresholds\n",
    "\n",
    "# Example usage\n",
    "tensor = torch.rand(65)  # Replace with your attention scores tensor\n",
    "std_dev_thresholds = get_std_dev_thresholds(tensor)\n",
    "print(std_dev_thresholds)\n"
   ]
  },
  {
   "cell_type": "code",
   "execution_count": 47,
   "metadata": {},
   "outputs": [],
   "source": [
    "# std_dev"
   ]
  },
  {
   "cell_type": "code",
   "execution_count": 48,
   "metadata": {},
   "outputs": [
    {
     "data": {
      "text/plain": [
       "float"
      ]
     },
     "execution_count": 48,
     "metadata": {},
     "output_type": "execute_result"
    }
   ],
   "source": [
    "type(0.5)"
   ]
  },
  {
   "cell_type": "code",
   "execution_count": 49,
   "metadata": {},
   "outputs": [],
   "source": [
    "import cv2"
   ]
  },
  {
   "cell_type": "code",
   "execution_count": 50,
   "metadata": {},
   "outputs": [],
   "source": [
    "import skimage as ski"
   ]
  },
  {
   "cell_type": "code",
   "execution_count": 51,
   "metadata": {},
   "outputs": [],
   "source": [
    "def get_threshold1(attn_grid,threshold):\n",
    "    if threshold == 'mean':\n",
    "        threshold = attn_grid.mean()\n",
    "    elif threshold == 'median':\n",
    "        threshold = attn_grid.median()\n",
    "    elif threshold == 'decile':\n",
    "        threshold = torch.quantile(attn_grid, 0.9)\n",
    "    elif threshold == 'otsu':\n",
    "        # maximise interclass seperation\n",
    "        # threshold, _ = cv2.threshold(attn_grid.cpu().numpy(), 0, 1, cv2.THRESH_BINARY + cv2.THRESH_OTSU)\n",
    "        threshold = ski.filters.threshold_otsu(attn_row.cpu().numpy())\n",
    "        # attn_grid = torch.tensor(binary_map, dtype=torch.float32)\n",
    "    else:\n",
    "        threshold = threshold # You can adjust this threshold as needed\n",
    "    return threshold"
   ]
  },
  {
   "cell_type": "code",
   "execution_count": 52,
   "metadata": {},
   "outputs": [],
   "source": [
    "img = img_one"
   ]
  },
  {
   "cell_type": "code",
   "execution_count": 53,
   "metadata": {},
   "outputs": [],
   "source": [
    "# attn_grid = attns\n",
    "# attn_grid = (attn_grid - attn_grid.min()) / (attn_grid.max() - attn_grid.min())\n",
    "# plot_histogram(attn_grid[head_idx][layer_idx][q_idx] ,threshold=threshold,figsize = (4,4))"
   ]
  },
  {
   "cell_type": "code",
   "execution_count": 54,
   "metadata": {},
   "outputs": [],
   "source": [
    "def get_threshold(attn_grid,threshold,quantile_value=0.9):\n",
    "    if threshold == 'mean':\n",
    "        threshold = attn_grid.mean()\n",
    "    elif threshold == 'median':\n",
    "        threshold = attn_grid.median()\n",
    "    elif threshold == 'decile':\n",
    "        threshold = torch.quantile(attn_grid, 0.9)\n",
    "    elif threshold == 'otsu':\n",
    "        # maximise interclass seperation\n",
    "        # threshold, _ = cv2.threshold(attn_grid.cpu().numpy(), 0, 1, cv2.THRESH_BINARY + cv2.THRESH_OTSU)\n",
    "        threshold = ski.filters.threshold_otsu(attn_row.cpu().numpy())\n",
    "        # attn_grid = torch.tensor(binary_map, dtype=torch.float32)\n",
    "    elif threshold == 'other':\n",
    "        # Adjust quantile_value to get the top x% where x = quantile_value * 100\n",
    "        threshold = torch.quantile(attn_grid, quantile_value)\n",
    "    else:\n",
    "        threshold = threshold # You can adjust this threshold as needed\n",
    "    return threshold"
   ]
  },
  {
   "cell_type": "code",
   "execution_count": 55,
   "metadata": {},
   "outputs": [],
   "source": [
    "import cv2"
   ]
  },
  {
   "cell_type": "code",
   "execution_count": 56,
   "metadata": {},
   "outputs": [],
   "source": [
    "import torch\n",
    "import matplotlib.pyplot as plt\n",
    "import seaborn as sns\n",
    "from matplotlib.colors import ListedColormap, BoundaryNorm\n",
    "\n",
    "def plot_attn_heatmap(attn_row, q_idx, binary=False, threshold = 0.5, figsize = (4, 4),normalize_flag = False, ax=None, overlay = False):\n",
    "    # Ensure the tensor is of shape (65,)\n",
    "    assert attn_row.shape == (65,), \"attn_row should have a shape of (65,)\"\n",
    "    \n",
    "    # Remove the first element (corresponding to the [CLS] token if present)\n",
    "    attn_grid = attn_row[1:]\n",
    "    \n",
    "    # Scaling of all values in attn_grid\n",
    "    if normalize_flag:\n",
    "        print(\"normalized\")\n",
    "        attn_grid = (attn_grid - attn_grid.min()) / (attn_grid.max() - attn_grid.min())\n",
    "    \n",
    "    # attn_grid += \n",
    "    # Apply binary thresholding if specified\n",
    "    if binary:\n",
    "        threshold = get_threshold(attn_grid, threshold)        \n",
    "        attn_grid = torch.where(attn_grid >= threshold, 1.0, 0.0)\n",
    "    \n",
    "    # Reshape to 8x8\n",
    "    attn_grid = attn_grid.view(8, 8)\n",
    "\n",
    "    query_coord = ((q_idx-1) // 8, (q_idx-1) % 8)\n",
    "    \n",
    "    # Define custom colormap: red, yellow, and blue (only applies if not binary)\n",
    "    cmap = ListedColormap(['red', 'yellow', 'blue']) if not binary else ListedColormap(['blue', 'red'])\n",
    "    \n",
    "    # Define boundaries for the colormap (only applies if not binary)\n",
    "    bounds = [0, 0.33, 0.66, 1.0] if not binary else [0, threshold, 1.0]\n",
    "    \n",
    "    # Define normalization between 0 and 1 using boundaries\n",
    "    norm = BoundaryNorm(bounds, cmap.N)\n",
    "\n",
    "    # Plot the heatmap\n",
    "    # plt.figure(figsize=figsize)\n",
    "    ax_flag = True\n",
    "\n",
    "    if ax is None:\n",
    "        plt.figure(figsize=figsize)\n",
    "        ax_flag = False\n",
    "        ax = plt.gca()  # Get the current axis if not provided\n",
    "        # print(\"rescaled\")\n",
    "\n",
    "    if overlay and img is not None:\n",
    "        # Remove the batch dimension\n",
    "        # img = np.transpose(img, (1, 2, 0))  # Convert to HxWxC format\n",
    "        attn_grid = attn_grid.cpu().numpy()\n",
    "        target_size = img.shape[1:3]\n",
    "        upsampled_attn_grid = cv2.resize(attn_grid, target_size, interpolation=cv2.INTER_NEAREST)\n",
    "        mask = np.expand_dims(upsampled_attn_grid, axis=-1)  # Shape: (64, 64, 1)\n",
    "        masked_img = img.squeeze(0) * mask  # Shape: (64, 64, 3)\n",
    "        target_size = (attn_grid.shape[0], attn_grid.shape[1])\n",
    "\n",
    "        masked_img = np.clip(masked_img, a_min=0, a_max=1)\n",
    "\n",
    "        ax.imshow(masked_img)\n",
    "    else:\n",
    "        sns.heatmap(attn_grid.cpu().numpy(), annot=False, cmap=cmap, norm=norm, cbar=not(ax_flag), ax=ax, linewidths=0.5, linecolor='black')\n",
    "        \n",
    "    # Placing a black dot at the query position\n",
    "    x = query_coord[1] + 0.5\n",
    "    y  = query_coord[0] + 0.5\n",
    "    x *= 4\n",
    "    y *= 4\n",
    "    \n",
    "    ax.scatter(x,y , color='black', s=100, edgecolor='white', zorder=2)\n",
    "    \n",
    "    # Set title only if not using an existing axis\n",
    "    if ax_flag is False:\n",
    "        plt.title(\"Attention Heatmap\")\n",
    "        plt.show()\n",
    "    return threshold"
   ]
  },
  {
   "cell_type": "code",
   "execution_count": 57,
   "metadata": {},
   "outputs": [
    {
     "name": "stdout",
     "output_type": "stream",
     "text": [
      "1\n",
      "32\n"
     ]
    },
    {
     "data": {
      "image/png": "[encoded data removed]",
      "text/plain": [
       "<Figure size 400x400 with 2 Axes>"
      ]
     },
     "metadata": {},
     "output_type": "display_data"
    }
   ],
   "source": [
    "# Example usage\n",
    "# attn_row = torch.rand(65)  # Example attention row\n",
    "\n",
    "head_idx=1\n",
    "print(head_idx)\n",
    "#frog\n",
    "q_idx=32\n",
    "print(q_idx)\n",
    "layer_idx=5\n",
    "attn_row = attns[head_idx][layer_idx][q_idx]\n",
    "# plot_attn_heatmap(attn_row,q_idx, binary=True, threshold='mean')\n",
    "# plot_attn_heatmap(attn_row,q_idx, binary=True, threshold='median')\n",
    "# plot_attn_heatmap(attn_row,q_idx, binary=True, threshold='decile')\n",
    "threshold = plot_attn_heatmap(attn_row,q_idx, binary=True, threshold='otsu', figsize = (4,4), normalize_flag=False,overlay=False)\n",
    "# threshold = plot_attn_heatmap(attn_row,q_idx, binary=True, threshold='otsu', figsize = (4,4), normalize_flag=False)"
   ]
  },
  {
   "cell_type": "code",
   "execution_count": 58,
   "metadata": {},
   "outputs": [],
   "source": [
    "from tqdm import tqdm"
   ]
  },
  {
   "cell_type": "code",
   "execution_count": 59,
   "metadata": {},
   "outputs": [
    {
     "data": {
      "text/plain": [
       "np.float32(0.031744815)"
      ]
     },
     "execution_count": 59,
     "metadata": {},
     "output_type": "execute_result"
    }
   ],
   "source": [
    "get_threshold(attns[head_idx][layer_idx], 'otsu')"
   ]
  },
  {
   "cell_type": "code",
   "execution_count": 60,
   "metadata": {},
   "outputs": [],
   "source": [
    "def plot_all_heatmaps_for_head(attns, head_idx, layer_idx, binary=False, threshold='otsu', figsize=(16, 16),overlay = True):\n",
    "    # Create a figure with an 8x8 grid of subplots\n",
    "    fig, axs = plt.subplots(8, 8, figsize=figsize)\n",
    "    fig.suptitle(f\"Attention Heatmaps for Head {head_idx}, Layer {layer_idx}\", fontsize=16)\n",
    "\n",
    "    # Loop over all q_idxs from 1 to 64\n",
    "    for q_idx in tqdm(range(1, 65), 'Processing query patches'):\n",
    "        attn_row = attns[head_idx][layer_idx][q_idx]\n",
    "        \n",
    "        # Get the subplot position\n",
    "        ax = axs[(q_idx-1) // 8, (q_idx-1) % 8]\n",
    "        \n",
    "        \n",
    "        # Call the modified plot_attn_heatmap function with the provided axis\n",
    "        plot_attn_heatmap(attn_row, q_idx, binary=binary, threshold=threshold, figsize=(4, 4), ax=ax,overlay = overlay)\n",
    "        \n",
    "        # Remove axis labels for a cleaner look\n",
    "        ax.set_xticks([])\n",
    "        ax.set_yticks([])\n",
    "        ax.set_title(f'Query {q_idx}')\n",
    "    \n",
    "    plt.tight_layout()\n",
    "    plt.subplots_adjust(top=0.92)  # Adjust the top to make room for the title\n",
    "    plt.show()\n"
   ]
  },
  {
   "cell_type": "code",
   "execution_count": 72,
   "metadata": {},
   "outputs": [
    {
     "name": "stdout",
     "output_type": "stream",
     "text": [
      "Threshold is 1.02%\n",
      "\n"
     ]
    },
    {
     "name": "stderr",
     "output_type": "stream",
     "text": [
      "Processing query patches: 100%|██████████| 64/64 [00:00<00:00, 1273.86it/s]\n"
     ]
    },
    {
     "data": {
      "image/png": "[encoded data removed]",
      "text/plain": [
       "<Figure size 1600x1600 with 64 Axes>"
      ]
     },
     "metadata": {},
     "output_type": "display_data"
    }
   ],
   "source": [
    "\n",
    "# Example usage:\n",
    "head_idx = 1\n",
    "layer_idx = 2\n",
    "\n",
    "'''Choose one of below threhold methods :'''\n",
    "# threshold_method = 0.5\n",
    "# threshold_method = 'mean'\n",
    "# threshold_method = 'median'\n",
    "# threshold_method = 'decile' #top 10% attnetion\n",
    "# threshold_method = 'otsu' #maximises seperation in chosen and not chosen classes\n",
    "threshold_method = 'other'\n",
    "\n",
    "# High attention regions are transparent and low attnetion regions are black\n",
    "\n",
    "threshold = get_threshold(attns[head_idx][layer_idx], threshold_method,quantile_value=0.4)\n",
    "print(f'Threshold is {threshold*100:.2f}%')\n",
    "print()\n",
    "plot_all_heatmaps_for_head(attns, head_idx=head_idx, layer_idx=layer_idx, binary=True, threshold=threshold_method,overlay = True)"
   ]
  },
  {
   "cell_type": "code",
   "execution_count": 62,
   "metadata": {},
   "outputs": [
    {
     "data": {
      "text/plain": [
       "'cat'"
      ]
     },
     "execution_count": 62,
     "metadata": {},
     "output_type": "execute_result"
    }
   ],
   "source": [
    "classes[out.argmax()]"
   ]
  },
  {
   "cell_type": "code",
   "execution_count": 63,
   "metadata": {},
   "outputs": [
    {
     "ename": "EOFError",
     "evalue": "",
     "output_type": "error",
     "traceback": [
      "\u001b[0;31m---------------------------------------------------------------------------\u001b[0m",
      "\u001b[0;31mEOFError\u001b[0m                                  Traceback (most recent call last)",
      "Cell \u001b[0;32mIn[63], line 1\u001b[0m\n\u001b[0;32m----> 1\u001b[0m \u001b[38;5;28;01mraise\u001b[39;00m \u001b[38;5;167;01mEOFError\u001b[39;00m\n",
      "\u001b[0;31mEOFError\u001b[0m: "
     ]
    }
   ],
   "source": [
    "raise EOFError"
   ]
  },
  {
   "cell_type": "code",
   "execution_count": null,
   "metadata": {},
   "outputs": [
    {
     "name": "stdout",
     "output_type": "stream",
     "text": [
      "Threshold is 1.89%\n",
      "\n"
     ]
    },
    {
     "name": "stderr",
     "output_type": "stream",
     "text": [
      "Processing query patches: 100%|██████████| 64/64 [00:00<00:00, 1173.71it/s]\n"
     ]
    },
    {
     "data": {
      "image/png": "[encoded data removed]",
      "text/plain": [
       "<Figure size 1600x1600 with 64 Axes>"
      ]
     },
     "metadata": {},
     "output_type": "display_data"
    }
   ],
   "source": [
    "\n",
    "# Example usage:\n",
    "head_idx = 0\n",
    "layer_idx = 5\n",
    "\n",
    "'''Choose one of below threhold methods :'''\n",
    "# threshold_method = 0.5\n",
    "# threshold_method = 'mean'\n",
    "# threshold_method = 'median'\n",
    "# threshold_method = 'decile' #top 10% attnetion\n",
    "threshold_method = 'otsu' #maximises seperation in chosen and not chosen classes\n",
    "\n",
    "# High attention regions are transparent and low attnetion regions are black\n",
    "\n",
    "threshold = get_threshold(attns[head_idx][layer_idx], threshold_method)\n",
    "print(f'Threshold is {threshold*100:.2f}%')\n",
    "print()\n",
    "plot_all_heatmaps_for_head(attns, head_idx=head_idx, layer_idx=layer_idx, binary=True, threshold=threshold_method,overlay = True)"
   ]
  },
  {
   "cell_type": "code",
   "execution_count": null,
   "metadata": {},
   "outputs": [
    {
     "ename": "IndexError",
     "evalue": "index 4 is out of bounds for dimension 0 with size 2",
     "output_type": "error",
     "traceback": [
      "\u001b[0;31m---------------------------------------------------------------------------\u001b[0m",
      "\u001b[0;31mIndexError\u001b[0m                                Traceback (most recent call last)",
      "Cell \u001b[0;32mIn[39], line 10\u001b[0m\n\u001b[1;32m      7\u001b[0m q_idx\u001b[38;5;241m=\u001b[39m\u001b[38;5;241m1\u001b[39m\n\u001b[1;32m      8\u001b[0m layer_idx\u001b[38;5;241m=\u001b[39m\u001b[38;5;241m5\u001b[39m\n\u001b[0;32m---> 10\u001b[0m attn_row \u001b[38;5;241m=\u001b[39m \u001b[43mattns\u001b[49m\u001b[43m[\u001b[49m\u001b[43mhead_idx\u001b[49m\u001b[43m]\u001b[49m[layer_idx][q_idx]\n\u001b[1;32m     11\u001b[0m threshold \u001b[38;5;241m=\u001b[39m plot_attn_heatmap(attn_row,q_idx, binary\u001b[38;5;241m=\u001b[39m\u001b[38;5;28;01mTrue\u001b[39;00m, threshold\u001b[38;5;241m=\u001b[39m\u001b[38;5;124m'\u001b[39m\u001b[38;5;124motsu\u001b[39m\u001b[38;5;124m'\u001b[39m, figsize \u001b[38;5;241m=\u001b[39m (\u001b[38;5;241m4\u001b[39m,\u001b[38;5;241m4\u001b[39m))\n\u001b[1;32m     12\u001b[0m \u001b[38;5;66;03m# plot_histogram(attns[head_idx][layer_idx][q_idx], threshold = threshold, figsize = (4,4))\u001b[39;00m\n",
      "\u001b[0;31mIndexError\u001b[0m: index 4 is out of bounds for dimension 0 with size 2"
     ]
    }
   ],
   "source": [
    "# Example usage\n",
    "# attn_row = torch.rand(65)  # Example attention row\n",
    "#frog\n",
    "\n",
    "head_idx=4\n",
    "\n",
    "q_idx=1\n",
    "layer_idx=5\n",
    "\n",
    "attn_row = attns[head_idx][layer_idx][q_idx]\n",
    "threshold = plot_attn_heatmap(attn_row,q_idx, binary=True, threshold='otsu', figsize = (4,4))\n",
    "# plot_histogram(attns[head_idx][layer_idx][q_idx], threshold = threshold, figsize = (4,4))"
   ]
  },
  {
   "cell_type": "code",
   "execution_count": null,
   "metadata": {},
   "outputs": [],
   "source": []
  },
  {
   "cell_type": "code",
   "execution_count": null,
   "metadata": {},
   "outputs": [
    {
     "data": {
      "image/png": "[encoded data removed]",
      "text/plain": [
       "<Figure size 800x600 with 1 Axes>"
      ]
     },
     "metadata": {},
     "output_type": "display_data"
    }
   ],
   "source": []
  },
  {
   "cell_type": "markdown",
   "metadata": {},
   "source": [
    "## Loading images from img_test"
   ]
  },
  {
   "cell_type": "code",
   "execution_count": null,
   "metadata": {},
   "outputs": [
    {
     "name": "stdout",
     "output_type": "stream",
     "text": [
      "/Users/yajatkapoor/Desktop/IITD SEMESTER-7/ELD431/BTP-Transformer-explainability/21 EDA\n",
      "/Users/yajatkapoor/Desktop/IITD SEMESTER-7/ELD431/BTP-Transformer-explainability/21 EDA/img_test_png/img20.png\n",
      "/Users/yajatkapoor/Desktop/IITD SEMESTER-7/ELD431/BTP-Transformer-explainability/21 EDA/img_test_png/img18.png\n",
      "/Users/yajatkapoor/Desktop/IITD SEMESTER-7/ELD431/BTP-Transformer-explainability/21 EDA/img_test_png/img9.png\n",
      "/Users/yajatkapoor/Desktop/IITD SEMESTER-7/ELD431/BTP-Transformer-explainability/21 EDA/img_test_png/img8.png\n",
      "/Users/yajatkapoor/Desktop/IITD SEMESTER-7/ELD431/BTP-Transformer-explainability/21 EDA/img_test_png/img5.png\n",
      "/Users/yajatkapoor/Desktop/IITD SEMESTER-7/ELD431/BTP-Transformer-explainability/21 EDA/img_test_png/img4.png\n",
      "/Users/yajatkapoor/Desktop/IITD SEMESTER-7/ELD431/BTP-Transformer-explainability/21 EDA/img_test_png/img2.png\n",
      "/Users/yajatkapoor/Desktop/IITD SEMESTER-7/ELD431/BTP-Transformer-explainability/21 EDA/img_test_png/img1.png\n",
      "/Users/yajatkapoor/Desktop/IITD SEMESTER-7/ELD431/BTP-Transformer-explainability/21 EDA/img_test_png/img17.png\n",
      "/Users/yajatkapoor/Desktop/IITD SEMESTER-7/ELD431/BTP-Transformer-explainability/21 EDA/img_test_png/img13.png\n"
     ]
    }
   ],
   "source": [
    "\n",
    "import os\n",
    "base_dir = os.getcwd()\n",
    "\n",
    "print(base_dir)\n",
    "# Declare the specific folder name\n",
    "folder_name = \"your_folder_name\"  # Replace with the specific folder name\n",
    "\n",
    "# List to store image paths\n",
    "image_paths = []\n",
    "# Declare the specific folder name\n",
    "folder_name = \"img_test_png\"  # Replace with the specific folder name\n",
    "\n",
    "# List to store image paths\n",
    "image_paths = []\n",
    "\n",
    "# Walk through the directory\n",
    "for root, dirs, files in os.walk(base_dir):\n",
    "    if folder_name in dirs:\n",
    "        target_dir = os.path.join(root, folder_name)\n",
    "        for dirpath, dirnames, filenames in os.walk(target_dir):\n",
    "            for file in filenames:\n",
    "                if file.endswith((\".jpg\", \".jpeg\", \".png\", \".bmp\", \".gif\")):  # Add more image extensions if needed\n",
    "                    image_paths.append(os.path.join(dirpath, file))\n",
    "\n",
    "# Print or use the collected image paths\n",
    "for path in image_paths:\n",
    "    print(path)"
   ]
  },
  {
   "cell_type": "code",
   "execution_count": null,
   "metadata": {},
   "outputs": [],
   "source": [
    "from PIL import Image\n",
    "\n",
    "# Assuming image_paths is the list of image paths\n",
    "image_to_load = image_paths[0]  # Replace with the index or specific path you want to load\n",
    "\n",
    "# Load the image\n",
    "image = Image.open(image_to_load)\n",
    "\n",
    "# Display the image (optional)\n",
    "image.show()\n",
    "\n",
    "# You can also do further processing, such as converting the image to a numpy array:\n",
    "image_array = np.array(image)"
   ]
  },
  {
   "cell_type": "code",
   "execution_count": null,
   "metadata": {},
   "outputs": [
    {
     "data": {
      "text/plain": [
       "(411, 600, 3)"
      ]
     },
     "execution_count": 47,
     "metadata": {},
     "output_type": "execute_result"
    }
   ],
   "source": [
    "image_array.shape"
   ]
  },
  {
   "cell_type": "markdown",
   "metadata": {},
   "source": [
    "## Image resizing / Downsampling"
   ]
  },
  {
   "cell_type": "code",
   "execution_count": null,
   "metadata": {},
   "outputs": [],
   "source": [
    "from PIL import Image\n",
    "import cv2\n",
    "from skimage.transform import resize\n",
    "\n",
    "\n",
    "\n",
    "\n",
    "def Img_Downsample(image,type=1):\n",
    "   \n",
    "\n",
    "# Assuming 'image' is the loaded image object from PIL\n",
    "\n",
    "\n",
    "\n",
    "    if(type==1):\n",
    "        resized_image = cv2.resize(image, (32, 32), interpolation=cv2.INTER_AREA)\n",
    "    elif(type==2):\n",
    "        resized_image = cv2.resize(image, (32, 32), interpolation=cv2.INTER_CUBIC)\n",
    "    elif(type==3):\n",
    "        resized_image = cv2.resize(image, (32, 32), interpolation=cv2.INTER_LINEAR)\n",
    "    else:\n",
    "        resized_image = resize(image, (32, 32), anti_aliasing=True)\n",
    "\n",
    "\n",
    "\n",
    "\n",
    "    return resized_image\n",
    "\n",
    "        \n",
    "\n"
   ]
  },
  {
   "cell_type": "code",
   "execution_count": null,
   "metadata": {},
   "outputs": [
    {
     "data": {
      "image/png": "[encoded data removed]",
      "text/plain": [
       "<Figure size 640x480 with 1 Axes>"
      ]
     },
     "metadata": {},
     "output_type": "display_data"
    }
   ],
   "source": [
    "# print(image_array.shape)\n",
    "image=Img_Downsample(image_array,type=4)\n",
    "\n",
    "# print(image.shape)\n",
    "plt.imshow(image)\n",
    "plt.axis('off')  # Optional: Hide the axes for a cleaner view\n",
    "plt.show()\n",
    "# # image.shape\n",
    "# Display the image (optional)\n",
    "# image.show() \n"
   ]
  },
  {
   "cell_type": "code",
   "execution_count": null,
   "metadata": {},
   "outputs": [
    {
     "name": "stdout",
     "output_type": "stream",
     "text": [
      "1\n",
      "27\n"
     ]
    },
    {
     "ename": "TypeError",
     "evalue": "plot_attn_heatmap() missing 1 required positional argument: 'q_idx'",
     "output_type": "error",
     "traceback": [
      "\u001b[0;31m---------------------------------------------------------------------------\u001b[0m",
      "\u001b[0;31mTypeError\u001b[0m                                 Traceback (most recent call last)",
      "Cell \u001b[0;32mIn[50], line 8\u001b[0m\n\u001b[1;32m      6\u001b[0m layer_idx\u001b[38;5;241m=\u001b[39m\u001b[38;5;241m5\u001b[39m\n\u001b[1;32m      7\u001b[0m attn_row \u001b[38;5;241m=\u001b[39m attns[head_idx][layer_idx][q_idx]\n\u001b[0;32m----> 8\u001b[0m \u001b[43mplot_attn_heatmap\u001b[49m\u001b[43m(\u001b[49m\u001b[43mattn_row\u001b[49m\u001b[43m)\u001b[49m\n",
      "\u001b[0;31mTypeError\u001b[0m: plot_attn_heatmap() missing 1 required positional argument: 'q_idx'"
     ]
    }
   ],
   "source": [
    "\n",
    "head_idx=np.random.randint(0,8)\n",
    "print(head_idx)\n",
    "#frog\n",
    "q_idx=np.random.randint(0,65)\n",
    "print(q_idx)\n",
    "layer_idx=5\n",
    "attn_row = attns[head_idx][layer_idx][q_idx]\n",
    "plot_attn_heatmap(attn_row)"
   ]
  },
  {
   "cell_type": "code",
   "execution_count": null,
   "metadata": {},
   "outputs": [
    {
     "name": "stdout",
     "output_type": "stream",
     "text": [
      "4\n",
      "26\n"
     ]
    },
    {
     "data": {
      "image/png": "[encoded data removed]",
      "text/plain": [
       "<Figure size 400x400 with 2 Axes>"
      ]
     },
     "metadata": {},
     "output_type": "display_data"
    }
   ],
   "source": [
    "head_idx=np.random.randint(0,8)\n",
    "print(head_idx)\n",
    "## backgrounc\n",
    "q_idx=np.random.randint(0,65)\n",
    "print(q_idx)\n",
    "layer_idx=5\n",
    "attn_row = attns[head_idx][layer_idx][q_idx]\n",
    "plot_attn_heatmap(attn_row)"
   ]
  },
  {
   "cell_type": "code",
   "execution_count": null,
   "metadata": {},
   "outputs": [
    {
     "name": "stdout",
     "output_type": "stream",
     "text": [
      "6\n",
      "60\n"
     ]
    },
    {
     "data": {
      "image/png": "[encoded data removed]",
      "text/plain": [
       "<Figure size 400x400 with 2 Axes>"
      ]
     },
     "metadata": {},
     "output_type": "display_data"
    }
   ],
   "source": [
    "head_idx=np.random.randint(0,8)\n",
    "print(head_idx)\n",
    "# grass\n",
    "q_idx=np.random.randint(0,65)\n",
    "print(q_idx)\n",
    "layer_idx=5\n",
    "attn_row = attns[head_idx][layer_idx][q_idx]\n",
    "plot_attn_heatmap(attn_row)"
   ]
  },
  {
   "cell_type": "code",
   "execution_count": null,
   "metadata": {},
   "outputs": [],
   "source": [
    "# In future "
   ]
  },
  {
   "cell_type": "code",
   "execution_count": null,
   "metadata": {},
   "outputs": [
    {
     "name": "stdout",
     "output_type": "stream",
     "text": [
      "0\n",
      "45\n"
     ]
    },
    {
     "data": {
      "image/png": "[encoded data removed]",
      "text/plain": [
       "<Figure size 400x400 with 2 Axes>"
      ]
     },
     "metadata": {},
     "output_type": "display_data"
    }
   ],
   "source": [
    "head_idx=np.random.randint(0,8)\n",
    "print(head_idx)\n",
    "# grass\n",
    "q_idx=np.random.randint(0,65)\n",
    "print(q_idx)\n",
    "layer_idx=5\n",
    "attn_row = attns[head_idx][layer_idx][q_idx]\n",
    "plot_attn_heatmap(attn_row)\n",
    "print(\" x = \",q_idx%8,\" , y = \",q_idx//8)"
   ]
  },
  {
   "cell_type": "code",
   "execution_count": null,
   "metadata": {},
   "outputs": [
    {
     "name": "stdout",
     "output_type": "stream",
     "text": [
      " x =  5  , y =  5\n"
     ]
    }
   ],
   "source": [
    "print(\" x = \",q_idx%8,\" , y = \",q_idx//8)"
   ]
  },
  {
   "cell_type": "code",
   "execution_count": null,
   "metadata": {},
   "outputs": [
    {
     "name": "stdout",
     "output_type": "stream",
     "text": [
      "4\n",
      "27\n"
     ]
    },
    {
     "data": {
      "image/png": "[encoded data removed]",
      "text/plain": [
       "<Figure size 400x400 with 2 Axes>"
      ]
     },
     "metadata": {},
     "output_type": "display_data"
    },
    {
     "data": {
      "text/plain": [
       "tensor([0.0214, 0.0071, 0.0108, 0.0178, 0.0152, 0.0151, 0.0135, 0.0142, 0.0175,\n",
       "        0.0196, 0.0160, 0.0202, 0.0135, 0.0142, 0.0086, 0.0294, 0.0140, 0.0157,\n",
       "        0.0116, 0.0095, 0.0195, 0.0115, 0.0115, 0.0094, 0.0177, 0.0063, 0.0228,\n",
       "        0.0165, 0.0163, 0.0136, 0.0085, 0.0371, 0.0142, 0.0201, 0.0099, 0.0139,\n",
       "        0.0247, 0.0146, 0.0197, 0.0112, 0.0223, 0.0199, 0.0183, 0.0157, 0.0084,\n",
       "        0.0143, 0.0232, 0.0090, 0.0084, 0.0142, 0.0235, 0.0087, 0.0243, 0.0124,\n",
       "        0.0151, 0.0146, 0.0064, 0.0174, 0.0116, 0.0126, 0.0100, 0.0150, 0.0117,\n",
       "        0.0193, 0.0199])"
      ]
     },
     "execution_count": 62,
     "metadata": {},
     "output_type": "execute_result"
    }
   ],
   "source": [
    "head_idx=np.random.randint(0,8)\n",
    "print(head_idx)\n",
    "\n",
    "q_idx=np.random.randint(0,65)\n",
    "print(q_idx)\n",
    "layer_idx=5\n",
    "attn_row = attns[head_idx][layer_idx][q_idx]\n",
    "plot_attn_heatmap(attn_row,q_idx)\n",
    "attn_row"
   ]
  },
  {
   "cell_type": "code",
   "execution_count": null,
   "metadata": {},
   "outputs": [
    {
     "data": {
      "text/plain": [
       "tensor([[[[0.0138, 0.0144, 0.0306,  ..., 0.0164, 0.0114, 0.0104],\n",
       "          [0.0192, 0.0196, 0.0171,  ..., 0.0146, 0.0217, 0.0150],\n",
       "          [0.0143, 0.0182, 0.0349,  ..., 0.0186, 0.0206, 0.0201],\n",
       "          ...,\n",
       "          [0.0103, 0.0158, 0.0194,  ..., 0.0108, 0.0118, 0.0190],\n",
       "          [0.0079, 0.0106, 0.0195,  ..., 0.0223, 0.0110, 0.0194],\n",
       "          [0.0175, 0.0202, 0.0205,  ..., 0.0116, 0.0137, 0.0121]],\n",
       "\n",
       "         [[0.0138, 0.0112, 0.0156,  ..., 0.0181, 0.0146, 0.0093],\n",
       "          [0.0240, 0.0112, 0.0186,  ..., 0.0130, 0.0177, 0.0112],\n",
       "          [0.0173, 0.0140, 0.0216,  ..., 0.0147, 0.0103, 0.0122],\n",
       "          ...,\n",
       "          [0.0215, 0.0116, 0.0139,  ..., 0.0202, 0.0201, 0.0165],\n",
       "          [0.0211, 0.0110, 0.0138,  ..., 0.0127, 0.0126, 0.0165],\n",
       "          [0.0081, 0.0106, 0.0166,  ..., 0.0185, 0.0121, 0.0119]],\n",
       "\n",
       "         [[0.0087, 0.0085, 0.0110,  ..., 0.0283, 0.0164, 0.0094],\n",
       "          [0.0135, 0.0198, 0.0106,  ..., 0.0197, 0.0148, 0.0190],\n",
       "          [0.0101, 0.0177, 0.0162,  ..., 0.0117, 0.0119, 0.0137],\n",
       "          ...,\n",
       "          [0.0157, 0.0152, 0.0198,  ..., 0.0197, 0.0166, 0.0132],\n",
       "          [0.0079, 0.0143, 0.0184,  ..., 0.0170, 0.0120, 0.0093],\n",
       "          [0.0115, 0.0126, 0.0171,  ..., 0.0175, 0.0148, 0.0118]],\n",
       "\n",
       "         [[0.0136, 0.0124, 0.0139,  ..., 0.0160, 0.0168, 0.0133],\n",
       "          [0.0154, 0.0123, 0.0238,  ..., 0.0207, 0.0176, 0.0116],\n",
       "          [0.0167, 0.0150, 0.0168,  ..., 0.0114, 0.0115, 0.0076],\n",
       "          ...,\n",
       "          [0.0102, 0.0113, 0.0107,  ..., 0.0156, 0.0164, 0.0168],\n",
       "          [0.0112, 0.0178, 0.0215,  ..., 0.0190, 0.0149, 0.0121],\n",
       "          [0.0093, 0.0164, 0.0165,  ..., 0.0112, 0.0121, 0.0201]],\n",
       "\n",
       "         [[0.0103, 0.0204, 0.0115,  ..., 0.0197, 0.0227, 0.0222],\n",
       "          [0.0180, 0.0164, 0.0129,  ..., 0.0096, 0.0156, 0.0188],\n",
       "          [0.0142, 0.0183, 0.0095,  ..., 0.0150, 0.0278, 0.0139],\n",
       "          ...,\n",
       "          [0.0143, 0.0168, 0.0124,  ..., 0.0142, 0.0157, 0.0194],\n",
       "          [0.0152, 0.0178, 0.0166,  ..., 0.0098, 0.0142, 0.0131],\n",
       "          [0.0138, 0.0162, 0.0112,  ..., 0.0245, 0.0072, 0.0196]],\n",
       "\n",
       "         [[0.0115, 0.0185, 0.0122,  ..., 0.0129, 0.0149, 0.0136],\n",
       "          [0.0120, 0.0141, 0.0178,  ..., 0.0114, 0.0057, 0.0173],\n",
       "          [0.0177, 0.0102, 0.0189,  ..., 0.0136, 0.0096, 0.0170],\n",
       "          ...,\n",
       "          [0.0179, 0.0199, 0.0300,  ..., 0.0125, 0.0171, 0.0286],\n",
       "          [0.0135, 0.0105, 0.0141,  ..., 0.0172, 0.0256, 0.0092],\n",
       "          [0.0093, 0.0182, 0.0165,  ..., 0.0110, 0.0079, 0.0087]]],\n",
       "\n",
       "\n",
       "        [[[0.0231, 0.0175, 0.0127,  ..., 0.0096, 0.0116, 0.0192],\n",
       "          [0.0207, 0.0150, 0.0112,  ..., 0.0088, 0.0131, 0.0130],\n",
       "          [0.0152, 0.0209, 0.0108,  ..., 0.0099, 0.0118, 0.0097],\n",
       "          ...,\n",
       "          [0.0137, 0.0083, 0.0117,  ..., 0.0159, 0.0179, 0.0197],\n",
       "          [0.0126, 0.0169, 0.0109,  ..., 0.0147, 0.0217, 0.0083],\n",
       "          [0.0121, 0.0098, 0.0149,  ..., 0.0205, 0.0137, 0.0175]],\n",
       "\n",
       "         [[0.0134, 0.0140, 0.0088,  ..., 0.0103, 0.0129, 0.0118],\n",
       "          [0.0302, 0.0131, 0.0179,  ..., 0.0235, 0.0134, 0.0181],\n",
       "          [0.0112, 0.0333, 0.0159,  ..., 0.0233, 0.0228, 0.0144],\n",
       "          ...,\n",
       "          [0.0114, 0.0150, 0.0210,  ..., 0.0122, 0.0151, 0.0182],\n",
       "          [0.0156, 0.0180, 0.0104,  ..., 0.0098, 0.0155, 0.0153],\n",
       "          [0.0131, 0.0088, 0.0084,  ..., 0.0142, 0.0211, 0.0126]],\n",
       "\n",
       "         [[0.0125, 0.0124, 0.0123,  ..., 0.0121, 0.0141, 0.0145],\n",
       "          [0.0299, 0.0103, 0.0117,  ..., 0.0106, 0.0151, 0.0167],\n",
       "          [0.0138, 0.0126, 0.0197,  ..., 0.0242, 0.0175, 0.0201],\n",
       "          ...,\n",
       "          [0.0180, 0.0160, 0.0141,  ..., 0.0167, 0.0122, 0.0148],\n",
       "          [0.0190, 0.0145, 0.0189,  ..., 0.0128, 0.0162, 0.0138],\n",
       "          [0.0231, 0.0160, 0.0240,  ..., 0.0135, 0.0159, 0.0133]],\n",
       "\n",
       "         [[0.0126, 0.0100, 0.0128,  ..., 0.0080, 0.0147, 0.0246],\n",
       "          [0.0083, 0.0170, 0.0119,  ..., 0.0254, 0.0124, 0.0153],\n",
       "          [0.0086, 0.0146, 0.0164,  ..., 0.0127, 0.0098, 0.0224],\n",
       "          ...,\n",
       "          [0.0166, 0.0119, 0.0113,  ..., 0.0135, 0.0163, 0.0166],\n",
       "          [0.0121, 0.0111, 0.0131,  ..., 0.0197, 0.0150, 0.0177],\n",
       "          [0.0152, 0.0114, 0.0111,  ..., 0.0172, 0.0211, 0.0254]],\n",
       "\n",
       "         [[0.0155, 0.0281, 0.0119,  ..., 0.0141, 0.0145, 0.0129],\n",
       "          [0.0073, 0.0198, 0.0081,  ..., 0.0158, 0.0132, 0.0234],\n",
       "          [0.0135, 0.0180, 0.0196,  ..., 0.0165, 0.0146, 0.0139],\n",
       "          ...,\n",
       "          [0.0073, 0.0218, 0.0095,  ..., 0.0179, 0.0161, 0.0155],\n",
       "          [0.0195, 0.0162, 0.0123,  ..., 0.0147, 0.0097, 0.0206],\n",
       "          [0.0117, 0.0121, 0.0119,  ..., 0.0169, 0.0135, 0.0111]],\n",
       "\n",
       "         [[0.0107, 0.0127, 0.0142,  ..., 0.0177, 0.0143, 0.0271],\n",
       "          [0.0124, 0.0168, 0.0170,  ..., 0.0192, 0.0151, 0.0308],\n",
       "          [0.0105, 0.0179, 0.0100,  ..., 0.0166, 0.0354, 0.0147],\n",
       "          ...,\n",
       "          [0.0172, 0.0099, 0.0136,  ..., 0.0102, 0.0224, 0.0134],\n",
       "          [0.0175, 0.0176, 0.0192,  ..., 0.0206, 0.0116, 0.0159],\n",
       "          [0.0213, 0.0185, 0.0256,  ..., 0.0092, 0.0121, 0.0166]]],\n",
       "\n",
       "\n",
       "        [[[0.0104, 0.0260, 0.0129,  ..., 0.0189, 0.0146, 0.0151],\n",
       "          [0.0171, 0.0108, 0.0118,  ..., 0.0180, 0.0217, 0.0102],\n",
       "          [0.0175, 0.0194, 0.0164,  ..., 0.0130, 0.0143, 0.0082],\n",
       "          ...,\n",
       "          [0.0106, 0.0161, 0.0183,  ..., 0.0113, 0.0122, 0.0062],\n",
       "          [0.0156, 0.0186, 0.0064,  ..., 0.0176, 0.0199, 0.0144],\n",
       "          [0.0178, 0.0190, 0.0204,  ..., 0.0101, 0.0154, 0.0261]],\n",
       "\n",
       "         [[0.0136, 0.0281, 0.0150,  ..., 0.0087, 0.0119, 0.0119],\n",
       "          [0.0200, 0.0060, 0.0113,  ..., 0.0109, 0.0221, 0.0194],\n",
       "          [0.0104, 0.0087, 0.0174,  ..., 0.0180, 0.0074, 0.0164],\n",
       "          ...,\n",
       "          [0.0096, 0.0094, 0.0092,  ..., 0.0168, 0.0138, 0.0120],\n",
       "          [0.0233, 0.0158, 0.0129,  ..., 0.0160, 0.0170, 0.0156],\n",
       "          [0.0129, 0.0115, 0.0123,  ..., 0.0096, 0.0107, 0.0132]],\n",
       "\n",
       "         [[0.0146, 0.0169, 0.0109,  ..., 0.0085, 0.0144, 0.0126],\n",
       "          [0.0165, 0.0127, 0.0106,  ..., 0.0102, 0.0105, 0.0167],\n",
       "          [0.0263, 0.0145, 0.0172,  ..., 0.0124, 0.0118, 0.0115],\n",
       "          ...,\n",
       "          [0.0119, 0.0207, 0.0175,  ..., 0.0109, 0.0123, 0.0117],\n",
       "          [0.0094, 0.0133, 0.0192,  ..., 0.0187, 0.0134, 0.0107],\n",
       "          [0.0189, 0.0181, 0.0113,  ..., 0.0138, 0.0163, 0.0156]],\n",
       "\n",
       "         [[0.0115, 0.0162, 0.0122,  ..., 0.0113, 0.0199, 0.0101],\n",
       "          [0.0071, 0.0124, 0.0108,  ..., 0.0257, 0.0112, 0.0132],\n",
       "          [0.0119, 0.0143, 0.0110,  ..., 0.0151, 0.0204, 0.0171],\n",
       "          ...,\n",
       "          [0.0116, 0.0156, 0.0177,  ..., 0.0137, 0.0141, 0.0137],\n",
       "          [0.0134, 0.0216, 0.0184,  ..., 0.0138, 0.0119, 0.0104],\n",
       "          [0.0052, 0.0221, 0.0205,  ..., 0.0159, 0.0099, 0.0184]],\n",
       "\n",
       "         [[0.0152, 0.0196, 0.0185,  ..., 0.0089, 0.0195, 0.0150],\n",
       "          [0.0137, 0.0152, 0.0163,  ..., 0.0130, 0.0158, 0.0109],\n",
       "          [0.0145, 0.0153, 0.0222,  ..., 0.0123, 0.0149, 0.0087],\n",
       "          ...,\n",
       "          [0.0182, 0.0119, 0.0143,  ..., 0.0142, 0.0130, 0.0143],\n",
       "          [0.0154, 0.0147, 0.0182,  ..., 0.0128, 0.0205, 0.0134],\n",
       "          [0.0173, 0.0100, 0.0160,  ..., 0.0117, 0.0086, 0.0238]],\n",
       "\n",
       "         [[0.0102, 0.0073, 0.0147,  ..., 0.0158, 0.0146, 0.0187],\n",
       "          [0.0121, 0.0230, 0.0100,  ..., 0.0123, 0.0137, 0.0076],\n",
       "          [0.0095, 0.0161, 0.0122,  ..., 0.0103, 0.0274, 0.0126],\n",
       "          ...,\n",
       "          [0.0086, 0.0192, 0.0095,  ..., 0.0083, 0.0115, 0.0124],\n",
       "          [0.0106, 0.0162, 0.0139,  ..., 0.0115, 0.0170, 0.0122],\n",
       "          [0.0085, 0.0154, 0.0093,  ..., 0.0123, 0.0222, 0.0160]]],\n",
       "\n",
       "\n",
       "        ...,\n",
       "\n",
       "\n",
       "        [[[0.0267, 0.0128, 0.0206,  ..., 0.0136, 0.0129, 0.0130],\n",
       "          [0.0157, 0.0178, 0.0114,  ..., 0.0124, 0.0210, 0.0101],\n",
       "          [0.0135, 0.0207, 0.0138,  ..., 0.0180, 0.0205, 0.0132],\n",
       "          ...,\n",
       "          [0.0153, 0.0129, 0.0129,  ..., 0.0188, 0.0159, 0.0353],\n",
       "          [0.0101, 0.0150, 0.0134,  ..., 0.0137, 0.0174, 0.0140],\n",
       "          [0.0164, 0.0170, 0.0104,  ..., 0.0136, 0.0254, 0.0304]],\n",
       "\n",
       "         [[0.0061, 0.0156, 0.0198,  ..., 0.0211, 0.0089, 0.0109],\n",
       "          [0.0185, 0.0191, 0.0109,  ..., 0.0131, 0.0170, 0.0156],\n",
       "          [0.0096, 0.0126, 0.0104,  ..., 0.0165, 0.0256, 0.0169],\n",
       "          ...,\n",
       "          [0.0130, 0.0203, 0.0155,  ..., 0.0108, 0.0169, 0.0101],\n",
       "          [0.0088, 0.0130, 0.0131,  ..., 0.0184, 0.0111, 0.0147],\n",
       "          [0.0132, 0.0105, 0.0108,  ..., 0.0193, 0.0186, 0.0190]],\n",
       "\n",
       "         [[0.0137, 0.0143, 0.0185,  ..., 0.0260, 0.0156, 0.0176],\n",
       "          [0.0133, 0.0109, 0.0102,  ..., 0.0244, 0.0166, 0.0229],\n",
       "          [0.0121, 0.0086, 0.0239,  ..., 0.0230, 0.0164, 0.0203],\n",
       "          ...,\n",
       "          [0.0153, 0.0083, 0.0229,  ..., 0.0166, 0.0085, 0.0180],\n",
       "          [0.0127, 0.0120, 0.0095,  ..., 0.0202, 0.0137, 0.0152],\n",
       "          [0.0154, 0.0219, 0.0219,  ..., 0.0108, 0.0062, 0.0158]],\n",
       "\n",
       "         [[0.0132, 0.0213, 0.0319,  ..., 0.0203, 0.0166, 0.0149],\n",
       "          [0.0228, 0.0146, 0.0173,  ..., 0.0118, 0.0155, 0.0127],\n",
       "          [0.0110, 0.0155, 0.0127,  ..., 0.0255, 0.0108, 0.0124],\n",
       "          ...,\n",
       "          [0.0149, 0.0152, 0.0114,  ..., 0.0189, 0.0225, 0.0193],\n",
       "          [0.0151, 0.0128, 0.0229,  ..., 0.0128, 0.0130, 0.0158],\n",
       "          [0.0184, 0.0168, 0.0108,  ..., 0.0138, 0.0206, 0.0108]],\n",
       "\n",
       "         [[0.0317, 0.0149, 0.0144,  ..., 0.0088, 0.0124, 0.0059],\n",
       "          [0.0213, 0.0187, 0.0177,  ..., 0.0122, 0.0101, 0.0191],\n",
       "          [0.0157, 0.0212, 0.0135,  ..., 0.0084, 0.0098, 0.0191],\n",
       "          ...,\n",
       "          [0.0138, 0.0301, 0.0190,  ..., 0.0109, 0.0175, 0.0133],\n",
       "          [0.0173, 0.0103, 0.0127,  ..., 0.0151, 0.0141, 0.0171],\n",
       "          [0.0275, 0.0177, 0.0157,  ..., 0.0108, 0.0109, 0.0109]],\n",
       "\n",
       "         [[0.0238, 0.0168, 0.0175,  ..., 0.0188, 0.0139, 0.0104],\n",
       "          [0.0150, 0.0209, 0.0190,  ..., 0.0171, 0.0135, 0.0116],\n",
       "          [0.0131, 0.0171, 0.0192,  ..., 0.0133, 0.0119, 0.0099],\n",
       "          ...,\n",
       "          [0.0144, 0.0164, 0.0239,  ..., 0.0184, 0.0218, 0.0085],\n",
       "          [0.0163, 0.0133, 0.0076,  ..., 0.0161, 0.0129, 0.0142],\n",
       "          [0.0095, 0.0143, 0.0152,  ..., 0.0109, 0.0136, 0.0115]]],\n",
       "\n",
       "\n",
       "        [[[0.0196, 0.0255, 0.0191,  ..., 0.0138, 0.0134, 0.0102],\n",
       "          [0.0095, 0.0151, 0.0135,  ..., 0.0105, 0.0194, 0.0092],\n",
       "          [0.0105, 0.0139, 0.0107,  ..., 0.0081, 0.0131, 0.0115],\n",
       "          ...,\n",
       "          [0.0160, 0.0163, 0.0142,  ..., 0.0217, 0.0171, 0.0191],\n",
       "          [0.0123, 0.0130, 0.0148,  ..., 0.0130, 0.0155, 0.0111],\n",
       "          [0.0112, 0.0192, 0.0122,  ..., 0.0211, 0.0106, 0.0130]],\n",
       "\n",
       "         [[0.0118, 0.0119, 0.0075,  ..., 0.0084, 0.0157, 0.0080],\n",
       "          [0.0212, 0.0163, 0.0081,  ..., 0.0107, 0.0194, 0.0098],\n",
       "          [0.0209, 0.0132, 0.0178,  ..., 0.0096, 0.0208, 0.0190],\n",
       "          ...,\n",
       "          [0.0084, 0.0197, 0.0212,  ..., 0.0202, 0.0126, 0.0158],\n",
       "          [0.0216, 0.0110, 0.0044,  ..., 0.0079, 0.0168, 0.0180],\n",
       "          [0.0155, 0.0138, 0.0164,  ..., 0.0168, 0.0168, 0.0225]],\n",
       "\n",
       "         [[0.0110, 0.0125, 0.0184,  ..., 0.0136, 0.0166, 0.0214],\n",
       "          [0.0423, 0.0159, 0.0155,  ..., 0.0209, 0.0103, 0.0109],\n",
       "          [0.0195, 0.0136, 0.0133,  ..., 0.0083, 0.0238, 0.0144],\n",
       "          ...,\n",
       "          [0.0086, 0.0124, 0.0097,  ..., 0.0135, 0.0198, 0.0084],\n",
       "          [0.0168, 0.0265, 0.0171,  ..., 0.0184, 0.0095, 0.0194],\n",
       "          [0.0077, 0.0106, 0.0113,  ..., 0.0151, 0.0172, 0.0184]],\n",
       "\n",
       "         [[0.0267, 0.0196, 0.0200,  ..., 0.0146, 0.0243, 0.0145],\n",
       "          [0.0197, 0.0098, 0.0361,  ..., 0.0099, 0.0161, 0.0336],\n",
       "          [0.0238, 0.0152, 0.0218,  ..., 0.0141, 0.0162, 0.0185],\n",
       "          ...,\n",
       "          [0.0166, 0.0130, 0.0102,  ..., 0.0129, 0.0108, 0.0167],\n",
       "          [0.0254, 0.0116, 0.0202,  ..., 0.0113, 0.0196, 0.0222],\n",
       "          [0.0129, 0.0134, 0.0175,  ..., 0.0229, 0.0166, 0.0235]],\n",
       "\n",
       "         [[0.0134, 0.0100, 0.0193,  ..., 0.0123, 0.0160, 0.0134],\n",
       "          [0.0129, 0.0166, 0.0125,  ..., 0.0240, 0.0136, 0.0144],\n",
       "          [0.0111, 0.0206, 0.0145,  ..., 0.0220, 0.0213, 0.0133],\n",
       "          ...,\n",
       "          [0.0095, 0.0219, 0.0165,  ..., 0.0164, 0.0096, 0.0098],\n",
       "          [0.0156, 0.0139, 0.0157,  ..., 0.0100, 0.0213, 0.0162],\n",
       "          [0.0102, 0.0217, 0.0108,  ..., 0.0117, 0.0243, 0.0138]],\n",
       "\n",
       "         [[0.0140, 0.0132, 0.0149,  ..., 0.0212, 0.0101, 0.0166],\n",
       "          [0.0185, 0.0149, 0.0234,  ..., 0.0131, 0.0083, 0.0280],\n",
       "          [0.0160, 0.0143, 0.0150,  ..., 0.0106, 0.0091, 0.0197],\n",
       "          ...,\n",
       "          [0.0111, 0.0201, 0.0153,  ..., 0.0236, 0.0260, 0.0121],\n",
       "          [0.0137, 0.0169, 0.0150,  ..., 0.0197, 0.0188, 0.0146],\n",
       "          [0.0132, 0.0116, 0.0150,  ..., 0.0237, 0.0106, 0.0152]]],\n",
       "\n",
       "\n",
       "        [[[0.0136, 0.0304, 0.0178,  ..., 0.0218, 0.0214, 0.0101],\n",
       "          [0.0145, 0.0089, 0.0143,  ..., 0.0199, 0.0231, 0.0070],\n",
       "          [0.0153, 0.0280, 0.0152,  ..., 0.0225, 0.0115, 0.0165],\n",
       "          ...,\n",
       "          [0.0225, 0.0101, 0.0097,  ..., 0.0138, 0.0190, 0.0115],\n",
       "          [0.0095, 0.0103, 0.0080,  ..., 0.0116, 0.0184, 0.0074],\n",
       "          [0.0144, 0.0213, 0.0253,  ..., 0.0087, 0.0263, 0.0110]],\n",
       "\n",
       "         [[0.0128, 0.0165, 0.0156,  ..., 0.0109, 0.0112, 0.0124],\n",
       "          [0.0127, 0.0111, 0.0123,  ..., 0.0249, 0.0170, 0.0170],\n",
       "          [0.0114, 0.0082, 0.0164,  ..., 0.0177, 0.0177, 0.0208],\n",
       "          ...,\n",
       "          [0.0170, 0.0089, 0.0128,  ..., 0.0170, 0.0154, 0.0206],\n",
       "          [0.0187, 0.0113, 0.0142,  ..., 0.0397, 0.0145, 0.0110],\n",
       "          [0.0093, 0.0140, 0.0232,  ..., 0.0168, 0.0109, 0.0112]],\n",
       "\n",
       "         [[0.0144, 0.0104, 0.0125,  ..., 0.0233, 0.0096, 0.0130],\n",
       "          [0.0106, 0.0145, 0.0134,  ..., 0.0167, 0.0232, 0.0128],\n",
       "          [0.0112, 0.0114, 0.0094,  ..., 0.0081, 0.0181, 0.0121],\n",
       "          ...,\n",
       "          [0.0174, 0.0113, 0.0125,  ..., 0.0131, 0.0202, 0.0164],\n",
       "          [0.0208, 0.0161, 0.0134,  ..., 0.0232, 0.0199, 0.0220],\n",
       "          [0.0124, 0.0116, 0.0169,  ..., 0.0087, 0.0150, 0.0130]],\n",
       "\n",
       "         [[0.0256, 0.0198, 0.0174,  ..., 0.0129, 0.0126, 0.0181],\n",
       "          [0.0124, 0.0123, 0.0094,  ..., 0.0166, 0.0099, 0.0112],\n",
       "          [0.0109, 0.0152, 0.0214,  ..., 0.0142, 0.0111, 0.0079],\n",
       "          ...,\n",
       "          [0.0133, 0.0103, 0.0184,  ..., 0.0105, 0.0123, 0.0169],\n",
       "          [0.0349, 0.0146, 0.0158,  ..., 0.0140, 0.0200, 0.0114],\n",
       "          [0.0198, 0.0122, 0.0270,  ..., 0.0238, 0.0205, 0.0122]],\n",
       "\n",
       "         [[0.0135, 0.0134, 0.0132,  ..., 0.0149, 0.0204, 0.0071],\n",
       "          [0.0088, 0.0171, 0.0196,  ..., 0.0166, 0.0169, 0.0129],\n",
       "          [0.0111, 0.0119, 0.0143,  ..., 0.0153, 0.0143, 0.0099],\n",
       "          ...,\n",
       "          [0.0044, 0.0113, 0.0152,  ..., 0.0209, 0.0181, 0.0179],\n",
       "          [0.0124, 0.0086, 0.0238,  ..., 0.0164, 0.0137, 0.0138],\n",
       "          [0.0078, 0.0174, 0.0170,  ..., 0.0156, 0.0165, 0.0155]],\n",
       "\n",
       "         [[0.0164, 0.0108, 0.0118,  ..., 0.0065, 0.0132, 0.0102],\n",
       "          [0.0118, 0.0125, 0.0171,  ..., 0.0242, 0.0223, 0.0213],\n",
       "          [0.0114, 0.0143, 0.0170,  ..., 0.0105, 0.0123, 0.0137],\n",
       "          ...,\n",
       "          [0.0129, 0.0095, 0.0148,  ..., 0.0116, 0.0238, 0.0257],\n",
       "          [0.0115, 0.0130, 0.0089,  ..., 0.0187, 0.0105, 0.0197],\n",
       "          [0.0116, 0.0070, 0.0105,  ..., 0.0133, 0.0226, 0.0102]]]])"
      ]
     },
     "execution_count": 25,
     "metadata": {},
     "output_type": "execute_result"
    }
   ],
   "source": [
    "attns"
   ]
  },
  {
   "cell_type": "code",
   "execution_count": null,
   "metadata": {},
   "outputs": [
    {
     "ename": "EOFError",
     "evalue": "",
     "output_type": "error",
     "traceback": [
      "\u001b[0;31m---------------------------------------------------------------------------\u001b[0m",
      "\u001b[0;31mEOFError\u001b[0m                                  Traceback (most recent call last)",
      "Cell \u001b[0;32mIn[26], line 1\u001b[0m\n\u001b[0;32m----> 1\u001b[0m \u001b[38;5;28;01mraise\u001b[39;00m \u001b[38;5;167;01mEOFError\u001b[39;00m\n",
      "\u001b[0;31mEOFError\u001b[0m: "
     ]
    }
   ],
   "source": [
    "raise EOFError"
   ]
  },
  {
   "cell_type": "code",
   "execution_count": null,
   "metadata": {},
   "outputs": [],
   "source": [
    "# write me a function that given a list of lenfth 6, and the list has inside it 6 tensors each of shape 1x8x65x65\n",
    "\n",
    "# plot me"
   ]
  },
  {
   "cell_type": "markdown",
   "metadata": {},
   "source": [
    "# A"
   ]
  },
  {
   "cell_type": "markdown",
   "metadata": {},
   "source": [
    "## B"
   ]
  },
  {
   "cell_type": "code",
   "execution_count": null,
   "metadata": {},
   "outputs": [],
   "source": [
    "# new code"
   ]
  },
  {
   "cell_type": "code",
   "execution_count": null,
   "metadata": {},
   "outputs": [],
   "source": [
    "# new code 2"
   ]
  },
  {
   "cell_type": "markdown",
   "metadata": {},
   "source": [
    "## C "
   ]
  },
  {
   "cell_type": "code",
   "execution_count": null,
   "metadata": {},
   "outputs": [],
   "source": [
    "# new cod 2"
   ]
  },
  {
   "cell_type": "code",
   "execution_count": null,
   "metadata": {},
   "outputs": [],
   "source": [
    "def load_npy_files(base_dir, epoch, batch, layer):\n",
    "    \"\"\"\n",
    "    Load all .npy files from a specific epoch, batch, and layer directory.\n",
    "\n",
    "    Args:\n",
    "        base_dir (str): The base directory containing all the runs.\n",
    "        epoch (str): The epoch directory name (e.g., 'epoch_01').\n",
    "        batch (str): The batch directory name (e.g., 'batch_0').\n",
    "        layer (str): The layer directory name (e.g., 'layer_00').\n",
    "\n",
    "    Returns:\n",
    "        list: A list of numpy arrays loaded from .npy files in the specified layer directory.\n",
    "    \"\"\"\n",
    "    # Construct the directory path\n",
    "    target_dir = os.path.join(base_dir, epoch, batch, layer)\n",
    "    \n",
    "    # Check if the directory exists\n",
    "    if not os.path.exists(target_dir):\n",
    "        raise FileNotFoundError(f\"Directory {target_dir} does not exist.\")\n",
    "    \n",
    "    # List all .npy files in the directory\n",
    "    npy_files = [f for f in os.listdir(target_dir) if f.endswith('.npy')]\n",
    "    \n",
    "    # Load each .npy file and store it in a list\n",
    "    data = []\n",
    "    for npy_file in npy_files:\n",
    "        file_path = os.path.join(target_dir, npy_file)\n",
    "        data.append(np.load(file_path))\n",
    "    \n",
    "    return data\n"
   ]
  },
  {
   "cell_type": "markdown",
   "metadata": {},
   "source": [
    "## Standard Deviation of attention map\n"
   ]
  },
  {
   "cell_type": "code",
   "execution_count": null,
   "metadata": {},
   "outputs": [],
   "source": [
    "def patch_standard_deviation(img_idx,epoch_no,layer,head_idx=1):\n",
    "\n",
    "    \n",
    "    epoch = 'epoch '+str(epoch_no)  # Replace with your specific epoch\n",
    "\n",
    "    batch = 'batch 0'   # Replace with your specific batch\n",
    "\n",
    "    layer = 'layer 0'+str(layer)  # Replace with your specific layer\n",
    "\n",
    "    \n",
    "    # npy_data = load_npy_files(base_dir, epoch, batch, layer)\n",
    "    npy_data = attns[head_idx][layer_idx]\n",
    "\n",
    "\n",
    "    attention=npy_data[5][img_idx]\n",
    "    # attention=npy_data[5][img_idx]\n",
    "    print(attention.shape)\n",
    "\n",
    "    # Compute standard deviation across the patches\n",
    "    std_devs = np.std(attention, axis=1)  # Shape: (65,)\n",
    "\n",
    "    # print(f\"Standard deviation for each query patch in head {head_idx}:\")\n",
    "    # print(std_devs)\n",
    "\n",
    "    # Find the maximum standard deviation and its corresponding index\n",
    "    max_std_dev = np.max(std_devs)\n",
    "    max_std_dev_index = np.argmax(std_devs)\n",
    "    \n",
    "    # print(f\"Maximum standard deviation for head {head_idx}: {max_std_dev} at query patch index {max_std_dev_index}\")\n",
    "\n",
    "    return std_devs, max_std_dev, max_std_dev_index,attention\n",
    "\n",
    "\n"
   ]
  }
 ],
 "metadata": {
  "kernelspec": {
   "display_name": "Python 3",
   "language": "python",
   "name": "python3"
  },
  "language_info": {
   "codemirror_mode": {
    "name": "ipython",
    "version": 3
   },
   "file_extension": ".py",
   "mimetype": "text/x-python",
   "name": "python",
   "nbconvert_exporter": "python",
   "pygments_lexer": "ipython3",
   "version": "3.12.5"
  }
 },
 "nbformat": 4,
 "nbformat_minor": 2
}
